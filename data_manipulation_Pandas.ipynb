{
  "nbformat": 4,
  "nbformat_minor": 0,
  "metadata": {
    "colab": {
      "name": "data_manipulation_Pandas.ipynb",
      "provenance": [],
      "include_colab_link": true
    },
    "kernelspec": {
      "name": "python3",
      "display_name": "Python 3"
    }
  },
  "cells": [
    {
      "cell_type": "markdown",
      "metadata": {
        "id": "view-in-github",
        "colab_type": "text"
      },
      "source": [
        "<a href=\"https://colab.research.google.com/github/manjulamishra/DS-Code-Pandas_Useful_Functions/blob/master/data_manipulation_Pandas.ipynb\" target=\"_parent\"><img src=\"https://colab.research.google.com/assets/colab-badge.svg\" alt=\"Open In Colab\"/></a>"
      ]
    },
    {
      "cell_type": "markdown",
      "metadata": {
        "id": "niGjNlDCJSyU",
        "colab_type": "text"
      },
      "source": [
        "# Indexing/Selction/Slicing of Data\n",
        "\n",
        "https://i.stack.imgur.com/FzimB.png\n",
        "https://stackoverflow.com/questions/22149584/what-does-axis-in-pandas-mean\n",
        "enter image description here\n",
        "In Pandas:\n",
        "\n",
        "axis=0 means along \"indexes\". It's a row-wise operation.\n",
        "Suppose, to perform concat() operation on dataframe1 & dataframe2, we will take dataframe1 & take out 1st row from dataframe1 and place into the new DF, then we take out another row from dataframe1 and put into new DF, we repeat this process until we reach to the bottom of dataframe1. Then, we do the same process for dataframe2.\n",
        "\n",
        "Basically, stacking dataframe2 on top of dataframe1 or vice a versa.\n",
        "\n",
        "E.g making a pile of books on a table or floor\n",
        "\n",
        "axis=1 means along \"columns\". It's a column-wise operation.\n",
        "Suppose, to perform concat() operation on dataframe1 & dataframe2, we will take out the 1st complete column(a.k.a 1st series) of dataframe1 and place into new DF, then we take out the second column of dataframe1 and keep adjacent to it (sideways), we have to repeat this operation until all columns are finished. Then, we repeat the same process on dataframe2. Basically, stacking dataframe2 sideways.\n",
        "\n"
      ]
    },
    {
      "cell_type": "code",
      "metadata": {
        "id": "oQVh942_JOp8",
        "colab_type": "code",
        "colab": {}
      },
      "source": [
        "import pandas as pd\n",
        "import numpy as np"
      ],
      "execution_count": null,
      "outputs": []
    },
    {
      "cell_type": "markdown",
      "metadata": {
        "id": "f3cQJ9xP9bJ3",
        "colab_type": "text"
      },
      "source": [
        "### Let's create a DataFrame"
      ]
    },
    {
      "cell_type": "code",
      "metadata": {
        "id": "tArRo0hI9afD",
        "colab_type": "code",
        "colab": {}
      },
      "source": [
        "dates = pd.date_range('1/1/2000', periods=8)"
      ],
      "execution_count": null,
      "outputs": []
    },
    {
      "cell_type": "code",
      "metadata": {
        "id": "6Nize0DS9-fu",
        "colab_type": "code",
        "colab": {}
      },
      "source": [
        "# dates are treated as index\n",
        "#  that means you can access a particular entry using that index\n",
        "df = pd.DataFrame(np.random.randn(8,4), \n",
        "                 index=dates, columns=['A', 'B', 'C', 'D'])"
      ],
      "execution_count": null,
      "outputs": []
    },
    {
      "cell_type": "code",
      "metadata": {
        "id": "oilH1JjYS-Bb",
        "colab_type": "code",
        "colab": {
          "base_uri": "https://localhost:8080/",
          "height": 54
        },
        "outputId": "b3c4acb3-e491-4b1b-9001-c8ce0d32e94e"
      },
      "source": [
        "# if we select a column it's like a list now\n",
        "#  now, we can get the desired enteries by using the indexing \n",
        "#  we already have dates as index, we will use the location to see \n",
        "#  it's the same concpet as list/list of lists \n",
        "#  [[1,2,3]] = it has 1 list and that list has 3 elements inside \n",
        "s = df['A']\n",
        "print(s.shape)\n",
        "s[dates[5]]"
      ],
      "execution_count": null,
      "outputs": [
        {
          "output_type": "stream",
          "text": [
            "(8,)\n"
          ],
          "name": "stdout"
        },
        {
          "output_type": "execute_result",
          "data": {
            "text/plain": [
              "0.33497695138320416"
            ]
          },
          "metadata": {
            "tags": []
          },
          "execution_count": 31
        }
      ]
    },
    {
      "cell_type": "markdown",
      "metadata": {
        "id": "1WxoeuY4VAXk",
        "colab_type": "text"
      },
      "source": [
        "### Inter-change the column names and values (swap)\n",
        "\n",
        "It's useful for in-place column transformation to a subset of the columns"
      ]
    },
    {
      "cell_type": "code",
      "metadata": {
        "id": "MShKpy2VS-IW",
        "colab_type": "code",
        "colab": {
          "base_uri": "https://localhost:8080/",
          "height": 288
        },
        "outputId": "ccd21eab-4869-46c9-a4bd-72efb03ec38e"
      },
      "source": [
        "df[['A', 'B']] = df[['B', 'A']]\n",
        "df"
      ],
      "execution_count": null,
      "outputs": [
        {
          "output_type": "execute_result",
          "data": {
            "text/html": [
              "<div>\n",
              "<style scoped>\n",
              "    .dataframe tbody tr th:only-of-type {\n",
              "        vertical-align: middle;\n",
              "    }\n",
              "\n",
              "    .dataframe tbody tr th {\n",
              "        vertical-align: top;\n",
              "    }\n",
              "\n",
              "    .dataframe thead th {\n",
              "        text-align: right;\n",
              "    }\n",
              "</style>\n",
              "<table border=\"1\" class=\"dataframe\">\n",
              "  <thead>\n",
              "    <tr style=\"text-align: right;\">\n",
              "      <th></th>\n",
              "      <th>A</th>\n",
              "      <th>B</th>\n",
              "      <th>C</th>\n",
              "      <th>D</th>\n",
              "    </tr>\n",
              "  </thead>\n",
              "  <tbody>\n",
              "    <tr>\n",
              "      <th>2000-01-01</th>\n",
              "      <td>-1.036630</td>\n",
              "      <td>1.904858</td>\n",
              "      <td>1.364472</td>\n",
              "      <td>-0.736082</td>\n",
              "    </tr>\n",
              "    <tr>\n",
              "      <th>2000-01-02</th>\n",
              "      <td>-0.736140</td>\n",
              "      <td>1.532126</td>\n",
              "      <td>-0.209754</td>\n",
              "      <td>-1.858622</td>\n",
              "    </tr>\n",
              "    <tr>\n",
              "      <th>2000-01-03</th>\n",
              "      <td>1.113099</td>\n",
              "      <td>-0.005548</td>\n",
              "      <td>-1.550566</td>\n",
              "      <td>0.522875</td>\n",
              "    </tr>\n",
              "    <tr>\n",
              "      <th>2000-01-04</th>\n",
              "      <td>-2.152696</td>\n",
              "      <td>0.919469</td>\n",
              "      <td>-0.797773</td>\n",
              "      <td>0.239495</td>\n",
              "    </tr>\n",
              "    <tr>\n",
              "      <th>2000-01-05</th>\n",
              "      <td>2.062501</td>\n",
              "      <td>-2.428640</td>\n",
              "      <td>1.204805</td>\n",
              "      <td>-0.885867</td>\n",
              "    </tr>\n",
              "    <tr>\n",
              "      <th>2000-01-06</th>\n",
              "      <td>1.322407</td>\n",
              "      <td>0.334977</td>\n",
              "      <td>-0.220230</td>\n",
              "      <td>-1.599317</td>\n",
              "    </tr>\n",
              "    <tr>\n",
              "      <th>2000-01-07</th>\n",
              "      <td>1.020576</td>\n",
              "      <td>-0.350545</td>\n",
              "      <td>-0.145013</td>\n",
              "      <td>0.981130</td>\n",
              "    </tr>\n",
              "    <tr>\n",
              "      <th>2000-01-08</th>\n",
              "      <td>0.344439</td>\n",
              "      <td>1.279870</td>\n",
              "      <td>0.365789</td>\n",
              "      <td>-1.607499</td>\n",
              "    </tr>\n",
              "  </tbody>\n",
              "</table>\n",
              "</div>"
            ],
            "text/plain": [
              "                   A         B         C         D\n",
              "2000-01-01 -1.036630  1.904858  1.364472 -0.736082\n",
              "2000-01-02 -0.736140  1.532126 -0.209754 -1.858622\n",
              "2000-01-03  1.113099 -0.005548 -1.550566  0.522875\n",
              "2000-01-04 -2.152696  0.919469 -0.797773  0.239495\n",
              "2000-01-05  2.062501 -2.428640  1.204805 -0.885867\n",
              "2000-01-06  1.322407  0.334977 -0.220230 -1.599317\n",
              "2000-01-07  1.020576 -0.350545 -0.145013  0.981130\n",
              "2000-01-08  0.344439  1.279870  0.365789 -1.607499"
            ]
          },
          "metadata": {
            "tags": []
          },
          "execution_count": 32
        }
      ]
    },
    {
      "cell_type": "markdown",
      "metadata": {
        "id": "rSxSDXq7XaSc",
        "colab_type": "text"
      },
      "source": [
        "### Inter-change Multiple columns (swap)\n",
        "The correct way to swap column values is by using raw values:"
      ]
    },
    {
      "cell_type": "code",
      "metadata": {
        "id": "06cCo9qAS-Lo",
        "colab_type": "code",
        "colab": {
          "base_uri": "https://localhost:8080/",
          "height": 288
        },
        "outputId": "3a317b6e-4645-4ffd-833b-ca09e544b9c7"
      },
      "source": [
        "#  getting the subset of data/only few columns\n",
        "df[['A', 'B']]"
      ],
      "execution_count": null,
      "outputs": [
        {
          "output_type": "execute_result",
          "data": {
            "text/html": [
              "<div>\n",
              "<style scoped>\n",
              "    .dataframe tbody tr th:only-of-type {\n",
              "        vertical-align: middle;\n",
              "    }\n",
              "\n",
              "    .dataframe tbody tr th {\n",
              "        vertical-align: top;\n",
              "    }\n",
              "\n",
              "    .dataframe thead th {\n",
              "        text-align: right;\n",
              "    }\n",
              "</style>\n",
              "<table border=\"1\" class=\"dataframe\">\n",
              "  <thead>\n",
              "    <tr style=\"text-align: right;\">\n",
              "      <th></th>\n",
              "      <th>A</th>\n",
              "      <th>B</th>\n",
              "    </tr>\n",
              "  </thead>\n",
              "  <tbody>\n",
              "    <tr>\n",
              "      <th>2000-01-01</th>\n",
              "      <td>-1.036630</td>\n",
              "      <td>1.904858</td>\n",
              "    </tr>\n",
              "    <tr>\n",
              "      <th>2000-01-02</th>\n",
              "      <td>-0.736140</td>\n",
              "      <td>1.532126</td>\n",
              "    </tr>\n",
              "    <tr>\n",
              "      <th>2000-01-03</th>\n",
              "      <td>1.113099</td>\n",
              "      <td>-0.005548</td>\n",
              "    </tr>\n",
              "    <tr>\n",
              "      <th>2000-01-04</th>\n",
              "      <td>-2.152696</td>\n",
              "      <td>0.919469</td>\n",
              "    </tr>\n",
              "    <tr>\n",
              "      <th>2000-01-05</th>\n",
              "      <td>2.062501</td>\n",
              "      <td>-2.428640</td>\n",
              "    </tr>\n",
              "    <tr>\n",
              "      <th>2000-01-06</th>\n",
              "      <td>1.322407</td>\n",
              "      <td>0.334977</td>\n",
              "    </tr>\n",
              "    <tr>\n",
              "      <th>2000-01-07</th>\n",
              "      <td>1.020576</td>\n",
              "      <td>-0.350545</td>\n",
              "    </tr>\n",
              "    <tr>\n",
              "      <th>2000-01-08</th>\n",
              "      <td>0.344439</td>\n",
              "      <td>1.279870</td>\n",
              "    </tr>\n",
              "  </tbody>\n",
              "</table>\n",
              "</div>"
            ],
            "text/plain": [
              "                   A         B\n",
              "2000-01-01 -1.036630  1.904858\n",
              "2000-01-02 -0.736140  1.532126\n",
              "2000-01-03  1.113099 -0.005548\n",
              "2000-01-04 -2.152696  0.919469\n",
              "2000-01-05  2.062501 -2.428640\n",
              "2000-01-06  1.322407  0.334977\n",
              "2000-01-07  1.020576 -0.350545\n",
              "2000-01-08  0.344439  1.279870"
            ]
          },
          "metadata": {
            "tags": []
          },
          "execution_count": 36
        }
      ]
    },
    {
      "cell_type": "code",
      "metadata": {
        "id": "zFfn-zVAYAX3",
        "colab_type": "code",
        "colab": {
          "base_uri": "https://localhost:8080/",
          "height": 288
        },
        "outputId": "a634457a-834b-4743-bf83-88eb89b3927f"
      },
      "source": [
        "#  the column values move around\n",
        "#  the vlaues A become values of B and vice versa\n",
        "df.loc[:, ['B', 'A']] = df[['A', 'B']].to_numpy()\n",
        "df[[\"A\", \"B\"]]"
      ],
      "execution_count": null,
      "outputs": [
        {
          "output_type": "execute_result",
          "data": {
            "text/html": [
              "<div>\n",
              "<style scoped>\n",
              "    .dataframe tbody tr th:only-of-type {\n",
              "        vertical-align: middle;\n",
              "    }\n",
              "\n",
              "    .dataframe tbody tr th {\n",
              "        vertical-align: top;\n",
              "    }\n",
              "\n",
              "    .dataframe thead th {\n",
              "        text-align: right;\n",
              "    }\n",
              "</style>\n",
              "<table border=\"1\" class=\"dataframe\">\n",
              "  <thead>\n",
              "    <tr style=\"text-align: right;\">\n",
              "      <th></th>\n",
              "      <th>A</th>\n",
              "      <th>B</th>\n",
              "    </tr>\n",
              "  </thead>\n",
              "  <tbody>\n",
              "    <tr>\n",
              "      <th>2000-01-01</th>\n",
              "      <td>1.904858</td>\n",
              "      <td>-1.036630</td>\n",
              "    </tr>\n",
              "    <tr>\n",
              "      <th>2000-01-02</th>\n",
              "      <td>1.532126</td>\n",
              "      <td>-0.736140</td>\n",
              "    </tr>\n",
              "    <tr>\n",
              "      <th>2000-01-03</th>\n",
              "      <td>-0.005548</td>\n",
              "      <td>1.113099</td>\n",
              "    </tr>\n",
              "    <tr>\n",
              "      <th>2000-01-04</th>\n",
              "      <td>0.919469</td>\n",
              "      <td>-2.152696</td>\n",
              "    </tr>\n",
              "    <tr>\n",
              "      <th>2000-01-05</th>\n",
              "      <td>-2.428640</td>\n",
              "      <td>2.062501</td>\n",
              "    </tr>\n",
              "    <tr>\n",
              "      <th>2000-01-06</th>\n",
              "      <td>0.334977</td>\n",
              "      <td>1.322407</td>\n",
              "    </tr>\n",
              "    <tr>\n",
              "      <th>2000-01-07</th>\n",
              "      <td>-0.350545</td>\n",
              "      <td>1.020576</td>\n",
              "    </tr>\n",
              "    <tr>\n",
              "      <th>2000-01-08</th>\n",
              "      <td>1.279870</td>\n",
              "      <td>0.344439</td>\n",
              "    </tr>\n",
              "  </tbody>\n",
              "</table>\n",
              "</div>"
            ],
            "text/plain": [
              "                   A         B\n",
              "2000-01-01  1.904858 -1.036630\n",
              "2000-01-02  1.532126 -0.736140\n",
              "2000-01-03 -0.005548  1.113099\n",
              "2000-01-04  0.919469 -2.152696\n",
              "2000-01-05 -2.428640  2.062501\n",
              "2000-01-06  0.334977  1.322407\n",
              "2000-01-07 -0.350545  1.020576\n",
              "2000-01-08  1.279870  0.344439"
            ]
          },
          "metadata": {
            "tags": []
          },
          "execution_count": 39
        }
      ]
    },
    {
      "cell_type": "markdown",
      "metadata": {
        "id": "ps7f8ZbTXY5A",
        "colab_type": "text"
      },
      "source": [
        "## Attribute Access\n",
        "\n",
        "Accessing an index on a Series or column on a DataFrame directly as an attribute"
      ]
    },
    {
      "cell_type": "code",
      "metadata": {
        "id": "HerjnptcYvsM",
        "colab_type": "code",
        "colab": {}
      },
      "source": [
        "# let's create a series\n",
        "sa = pd.Series([1,2,3], index = list('abc'))\n",
        "\n",
        "dfa = df.copy()"
      ],
      "execution_count": null,
      "outputs": []
    },
    {
      "cell_type": "code",
      "metadata": {
        "id": "ctuG7jAGYvv3",
        "colab_type": "code",
        "colab": {
          "base_uri": "https://localhost:8080/",
          "height": 90
        },
        "outputId": "32c18660-6935-45e2-a5e7-1cad09c70048"
      },
      "source": [
        "sa"
      ],
      "execution_count": null,
      "outputs": [
        {
          "output_type": "execute_result",
          "data": {
            "text/plain": [
              "a    1\n",
              "b    2\n",
              "c    3\n",
              "dtype: int64"
            ]
          },
          "metadata": {
            "tags": []
          },
          "execution_count": 42
        }
      ]
    },
    {
      "cell_type": "code",
      "metadata": {
        "id": "7j3n_QI5YwI4",
        "colab_type": "code",
        "colab": {
          "base_uri": "https://localhost:8080/",
          "height": 35
        },
        "outputId": "a9b6aa31-606a-432b-ffaa-bbba0727464b"
      },
      "source": [
        "#  accessing the elements \n",
        "# using the index you can access the item in the series \n",
        "sa.b"
      ],
      "execution_count": null,
      "outputs": [
        {
          "output_type": "execute_result",
          "data": {
            "text/plain": [
              "2"
            ]
          },
          "metadata": {
            "tags": []
          },
          "execution_count": 46
        }
      ]
    },
    {
      "cell_type": "code",
      "metadata": {
        "id": "T5cQI5pyZmcd",
        "colab_type": "code",
        "colab": {
          "base_uri": "https://localhost:8080/",
          "height": 181
        },
        "outputId": "ff5586ae-151d-4994-ec1e-b73341a72471"
      },
      "source": [
        "#  let's select a column from our earlier df\n",
        "\n",
        "dfa.A"
      ],
      "execution_count": null,
      "outputs": [
        {
          "output_type": "execute_result",
          "data": {
            "text/plain": [
              "2000-01-01    1.904858\n",
              "2000-01-02    1.532126\n",
              "2000-01-03   -0.005548\n",
              "2000-01-04    0.919469\n",
              "2000-01-05   -2.428640\n",
              "2000-01-06    0.334977\n",
              "2000-01-07   -0.350545\n",
              "2000-01-08    1.279870\n",
              "Freq: D, Name: A, dtype: float64"
            ]
          },
          "metadata": {
            "tags": []
          },
          "execution_count": 47
        }
      ]
    },
    {
      "cell_type": "markdown",
      "metadata": {
        "id": "TjdkjSxqcsf2",
        "colab_type": "text"
      },
      "source": [
        "#### Assigning index to an exist column/new column as index"
      ]
    },
    {
      "cell_type": "code",
      "metadata": {
        "id": "SQWgJBljZ0cd",
        "colab_type": "code",
        "colab": {}
      },
      "source": [
        "# creating anew column of the same length as index\n",
        "dfa['F'] = list(range(len(df.index))) # use dfa['A'] to make a new col 'A'"
      ],
      "execution_count": null,
      "outputs": []
    },
    {
      "cell_type": "code",
      "metadata": {
        "id": "q46LmTA9Z0gH",
        "colab_type": "code",
        "colab": {
          "base_uri": "https://localhost:8080/",
          "height": 288
        },
        "outputId": "2b83f13f-2b75-4525-d893-429b708d1777"
      },
      "source": [
        "# reassign an existing column as index\n",
        "dfa.A = list(range(len(df.index))) # dfa.A notation is fine if the col already exists\n",
        "dfa"
      ],
      "execution_count": null,
      "outputs": [
        {
          "output_type": "execute_result",
          "data": {
            "text/html": [
              "<div>\n",
              "<style scoped>\n",
              "    .dataframe tbody tr th:only-of-type {\n",
              "        vertical-align: middle;\n",
              "    }\n",
              "\n",
              "    .dataframe tbody tr th {\n",
              "        vertical-align: top;\n",
              "    }\n",
              "\n",
              "    .dataframe thead th {\n",
              "        text-align: right;\n",
              "    }\n",
              "</style>\n",
              "<table border=\"1\" class=\"dataframe\">\n",
              "  <thead>\n",
              "    <tr style=\"text-align: right;\">\n",
              "      <th></th>\n",
              "      <th>A</th>\n",
              "      <th>B</th>\n",
              "      <th>C</th>\n",
              "      <th>D</th>\n",
              "      <th>F</th>\n",
              "    </tr>\n",
              "  </thead>\n",
              "  <tbody>\n",
              "    <tr>\n",
              "      <th>2000-01-01</th>\n",
              "      <td>0</td>\n",
              "      <td>-1.036630</td>\n",
              "      <td>1.364472</td>\n",
              "      <td>-0.736082</td>\n",
              "      <td>0</td>\n",
              "    </tr>\n",
              "    <tr>\n",
              "      <th>2000-01-02</th>\n",
              "      <td>1</td>\n",
              "      <td>-0.736140</td>\n",
              "      <td>-0.209754</td>\n",
              "      <td>-1.858622</td>\n",
              "      <td>1</td>\n",
              "    </tr>\n",
              "    <tr>\n",
              "      <th>2000-01-03</th>\n",
              "      <td>2</td>\n",
              "      <td>1.113099</td>\n",
              "      <td>-1.550566</td>\n",
              "      <td>0.522875</td>\n",
              "      <td>2</td>\n",
              "    </tr>\n",
              "    <tr>\n",
              "      <th>2000-01-04</th>\n",
              "      <td>3</td>\n",
              "      <td>-2.152696</td>\n",
              "      <td>-0.797773</td>\n",
              "      <td>0.239495</td>\n",
              "      <td>3</td>\n",
              "    </tr>\n",
              "    <tr>\n",
              "      <th>2000-01-05</th>\n",
              "      <td>4</td>\n",
              "      <td>2.062501</td>\n",
              "      <td>1.204805</td>\n",
              "      <td>-0.885867</td>\n",
              "      <td>4</td>\n",
              "    </tr>\n",
              "    <tr>\n",
              "      <th>2000-01-06</th>\n",
              "      <td>5</td>\n",
              "      <td>1.322407</td>\n",
              "      <td>-0.220230</td>\n",
              "      <td>-1.599317</td>\n",
              "      <td>5</td>\n",
              "    </tr>\n",
              "    <tr>\n",
              "      <th>2000-01-07</th>\n",
              "      <td>6</td>\n",
              "      <td>1.020576</td>\n",
              "      <td>-0.145013</td>\n",
              "      <td>0.981130</td>\n",
              "      <td>6</td>\n",
              "    </tr>\n",
              "    <tr>\n",
              "      <th>2000-01-08</th>\n",
              "      <td>7</td>\n",
              "      <td>0.344439</td>\n",
              "      <td>0.365789</td>\n",
              "      <td>-1.607499</td>\n",
              "      <td>7</td>\n",
              "    </tr>\n",
              "  </tbody>\n",
              "</table>\n",
              "</div>"
            ],
            "text/plain": [
              "            A         B         C         D  F\n",
              "2000-01-01  0 -1.036630  1.364472 -0.736082  0\n",
              "2000-01-02  1 -0.736140 -0.209754 -1.858622  1\n",
              "2000-01-03  2  1.113099 -1.550566  0.522875  2\n",
              "2000-01-04  3 -2.152696 -0.797773  0.239495  3\n",
              "2000-01-05  4  2.062501  1.204805 -0.885867  4\n",
              "2000-01-06  5  1.322407 -0.220230 -1.599317  5\n",
              "2000-01-07  6  1.020576 -0.145013  0.981130  6\n",
              "2000-01-08  7  0.344439  0.365789 -1.607499  7"
            ]
          },
          "metadata": {
            "tags": []
          },
          "execution_count": 56
        }
      ]
    },
    {
      "cell_type": "code",
      "metadata": {
        "id": "17LZyLbBdgwB",
        "colab_type": "code",
        "colab": {}
      },
      "source": [
        "dfa = dfa.drop(columns='F')"
      ],
      "execution_count": null,
      "outputs": []
    },
    {
      "cell_type": "code",
      "metadata": {
        "id": "4AiR21iOZYcI",
        "colab_type": "code",
        "colab": {
          "base_uri": "https://localhost:8080/",
          "height": 35
        },
        "outputId": "a77fb92a-220f-4d74-b67e-a5fbac1e2ee6"
      },
      "source": [
        "dfa.keys()"
      ],
      "execution_count": null,
      "outputs": [
        {
          "output_type": "execute_result",
          "data": {
            "text/plain": [
              "Index(['A', 'B', 'C', 'D'], dtype='object')"
            ]
          },
          "metadata": {
            "tags": []
          },
          "execution_count": 61
        }
      ]
    },
    {
      "cell_type": "markdown",
      "metadata": {
        "id": "GP8a3XfmZYQ7",
        "colab_type": "text"
      },
      "source": [
        "### Assigning a dict to a row of a DataFrame"
      ]
    },
    {
      "cell_type": "code",
      "metadata": {
        "id": "_4DLpyihZYfH",
        "colab_type": "code",
        "colab": {}
      },
      "source": [
        "#  create a two col df \n",
        "X = pd.DataFrame({'x': [1,2,3], 'y':[3,4,5]})"
      ],
      "execution_count": null,
      "outputs": []
    },
    {
      "cell_type": "code",
      "metadata": {
        "id": "-ZW_kGSeZYi8",
        "colab_type": "code",
        "colab": {
          "base_uri": "https://localhost:8080/",
          "height": 138
        },
        "outputId": "25041d0e-946e-4aec-d2ac-0533240ed26d"
      },
      "source": [
        "X"
      ],
      "execution_count": null,
      "outputs": [
        {
          "output_type": "execute_result",
          "data": {
            "text/html": [
              "<div>\n",
              "<style scoped>\n",
              "    .dataframe tbody tr th:only-of-type {\n",
              "        vertical-align: middle;\n",
              "    }\n",
              "\n",
              "    .dataframe tbody tr th {\n",
              "        vertical-align: top;\n",
              "    }\n",
              "\n",
              "    .dataframe thead th {\n",
              "        text-align: right;\n",
              "    }\n",
              "</style>\n",
              "<table border=\"1\" class=\"dataframe\">\n",
              "  <thead>\n",
              "    <tr style=\"text-align: right;\">\n",
              "      <th></th>\n",
              "      <th>x</th>\n",
              "      <th>y</th>\n",
              "    </tr>\n",
              "  </thead>\n",
              "  <tbody>\n",
              "    <tr>\n",
              "      <th>0</th>\n",
              "      <td>1</td>\n",
              "      <td>3</td>\n",
              "    </tr>\n",
              "    <tr>\n",
              "      <th>1</th>\n",
              "      <td>2</td>\n",
              "      <td>4</td>\n",
              "    </tr>\n",
              "    <tr>\n",
              "      <th>2</th>\n",
              "      <td>3</td>\n",
              "      <td>5</td>\n",
              "    </tr>\n",
              "  </tbody>\n",
              "</table>\n",
              "</div>"
            ],
            "text/plain": [
              "   x  y\n",
              "0  1  3\n",
              "1  2  4\n",
              "2  3  5"
            ]
          },
          "metadata": {
            "tags": []
          },
          "execution_count": 158
        }
      ]
    },
    {
      "cell_type": "markdown",
      "metadata": {
        "id": "oEOCQJvahrbH",
        "colab_type": "text"
      },
      "source": [
        "### Changing values of a column using row indexing"
      ]
    },
    {
      "cell_type": "code",
      "metadata": {
        "id": "EO1JROP4g6xw",
        "colab_type": "code",
        "colab": {
          "base_uri": "https://localhost:8080/",
          "height": 138
        },
        "outputId": "18781aeb-5e32-45a3-bc3d-79cbb79d061e"
      },
      "source": [
        "# change the value of the 2nd row\n",
        "# just X.loc[1] also works!\n",
        "X.iloc[1] = {'x':99, 'y':88}\n",
        "X.iloc[1]['y'] = 500\n",
        "X"
      ],
      "execution_count": null,
      "outputs": [
        {
          "output_type": "execute_result",
          "data": {
            "text/html": [
              "<div>\n",
              "<style scoped>\n",
              "    .dataframe tbody tr th:only-of-type {\n",
              "        vertical-align: middle;\n",
              "    }\n",
              "\n",
              "    .dataframe tbody tr th {\n",
              "        vertical-align: top;\n",
              "    }\n",
              "\n",
              "    .dataframe thead th {\n",
              "        text-align: right;\n",
              "    }\n",
              "</style>\n",
              "<table border=\"1\" class=\"dataframe\">\n",
              "  <thead>\n",
              "    <tr style=\"text-align: right;\">\n",
              "      <th></th>\n",
              "      <th>x</th>\n",
              "      <th>y</th>\n",
              "    </tr>\n",
              "  </thead>\n",
              "  <tbody>\n",
              "    <tr>\n",
              "      <th>0</th>\n",
              "      <td>1</td>\n",
              "      <td>3</td>\n",
              "    </tr>\n",
              "    <tr>\n",
              "      <th>1</th>\n",
              "      <td>99</td>\n",
              "      <td>500</td>\n",
              "    </tr>\n",
              "    <tr>\n",
              "      <th>2</th>\n",
              "      <td>3</td>\n",
              "      <td>5</td>\n",
              "    </tr>\n",
              "  </tbody>\n",
              "</table>\n",
              "</div>"
            ],
            "text/plain": [
              "    x    y\n",
              "0   1    3\n",
              "1  99  500\n",
              "2   3    5"
            ]
          },
          "metadata": {
            "tags": []
          },
          "execution_count": 161
        }
      ]
    },
    {
      "cell_type": "code",
      "metadata": {
        "id": "Ak9K2aKng64o",
        "colab_type": "code",
        "colab": {
          "base_uri": "https://localhost:8080/",
          "height": 138
        },
        "outputId": "9bf7756c-67b0-4fda-af84-a64be96da51e"
      },
      "source": [
        "#  if we change the value of only 1 column, the rest of the row will get NaNs\n",
        "X.iloc[2] = {'y':55} # the value of X at the 2nd location of the 1st element of the 2nd row is NaN\n",
        "X"
      ],
      "execution_count": null,
      "outputs": [
        {
          "output_type": "execute_result",
          "data": {
            "text/html": [
              "<div>\n",
              "<style scoped>\n",
              "    .dataframe tbody tr th:only-of-type {\n",
              "        vertical-align: middle;\n",
              "    }\n",
              "\n",
              "    .dataframe tbody tr th {\n",
              "        vertical-align: top;\n",
              "    }\n",
              "\n",
              "    .dataframe thead th {\n",
              "        text-align: right;\n",
              "    }\n",
              "</style>\n",
              "<table border=\"1\" class=\"dataframe\">\n",
              "  <thead>\n",
              "    <tr style=\"text-align: right;\">\n",
              "      <th></th>\n",
              "      <th>x</th>\n",
              "      <th>y</th>\n",
              "    </tr>\n",
              "  </thead>\n",
              "  <tbody>\n",
              "    <tr>\n",
              "      <th>0</th>\n",
              "      <td>1.0</td>\n",
              "      <td>3.0</td>\n",
              "    </tr>\n",
              "    <tr>\n",
              "      <th>1</th>\n",
              "      <td>99.0</td>\n",
              "      <td>500.0</td>\n",
              "    </tr>\n",
              "    <tr>\n",
              "      <th>2</th>\n",
              "      <td>NaN</td>\n",
              "      <td>55.0</td>\n",
              "    </tr>\n",
              "  </tbody>\n",
              "</table>\n",
              "</div>"
            ],
            "text/plain": [
              "      x      y\n",
              "0   1.0    3.0\n",
              "1  99.0  500.0\n",
              "2   NaN   55.0"
            ]
          },
          "metadata": {
            "tags": []
          },
          "execution_count": 162
        }
      ]
    },
    {
      "cell_type": "code",
      "metadata": {
        "id": "fiPvOieig695",
        "colab_type": "code",
        "colab": {
          "base_uri": "https://localhost:8080/",
          "height": 138
        },
        "outputId": "96eb298c-a5fa-4caf-bca8-5c3d8c25c6c9"
      },
      "source": [
        "#  addign anotehr column\n",
        "X['z'] = [1,2,3]\n",
        "X.iloc[1] = 100\n",
        "X"
      ],
      "execution_count": null,
      "outputs": [
        {
          "output_type": "execute_result",
          "data": {
            "text/html": [
              "<div>\n",
              "<style scoped>\n",
              "    .dataframe tbody tr th:only-of-type {\n",
              "        vertical-align: middle;\n",
              "    }\n",
              "\n",
              "    .dataframe tbody tr th {\n",
              "        vertical-align: top;\n",
              "    }\n",
              "\n",
              "    .dataframe thead th {\n",
              "        text-align: right;\n",
              "    }\n",
              "</style>\n",
              "<table border=\"1\" class=\"dataframe\">\n",
              "  <thead>\n",
              "    <tr style=\"text-align: right;\">\n",
              "      <th></th>\n",
              "      <th>x</th>\n",
              "      <th>y</th>\n",
              "      <th>z</th>\n",
              "    </tr>\n",
              "  </thead>\n",
              "  <tbody>\n",
              "    <tr>\n",
              "      <th>0</th>\n",
              "      <td>1.0</td>\n",
              "      <td>3.0</td>\n",
              "      <td>1</td>\n",
              "    </tr>\n",
              "    <tr>\n",
              "      <th>1</th>\n",
              "      <td>100.0</td>\n",
              "      <td>100.0</td>\n",
              "      <td>100</td>\n",
              "    </tr>\n",
              "    <tr>\n",
              "      <th>2</th>\n",
              "      <td>NaN</td>\n",
              "      <td>55.0</td>\n",
              "      <td>3</td>\n",
              "    </tr>\n",
              "  </tbody>\n",
              "</table>\n",
              "</div>"
            ],
            "text/plain": [
              "       x      y    z\n",
              "0    1.0    3.0    1\n",
              "1  100.0  100.0  100\n",
              "2    NaN   55.0    3"
            ]
          },
          "metadata": {
            "tags": []
          },
          "execution_count": 164
        }
      ]
    },
    {
      "cell_type": "markdown",
      "metadata": {
        "id": "CMUHSOKXj8iV",
        "colab_type": "text"
      },
      "source": [
        "# Slicing Ranges"
      ]
    },
    {
      "cell_type": "code",
      "metadata": {
        "id": "wIr4SwypkT9c",
        "colab_type": "code",
        "colab": {
          "base_uri": "https://localhost:8080/",
          "height": 181
        },
        "outputId": "4dbac3c5-2698-42e7-889c-ac4bdcbbe405"
      },
      "source": [
        "#  s was df['A']\n",
        "# s is like a series now\n",
        "s"
      ],
      "execution_count": null,
      "outputs": [
        {
          "output_type": "execute_result",
          "data": {
            "text/plain": [
              "2000-01-01    1.904858\n",
              "2000-01-02    1.532126\n",
              "2000-01-03   -0.005548\n",
              "2000-01-04    0.919469\n",
              "2000-01-05   -2.428640\n",
              "2000-01-06    0.334977\n",
              "2000-01-07   -0.350545\n",
              "2000-01-08    1.279870\n",
              "Freq: D, Name: A, dtype: float64"
            ]
          },
          "metadata": {
            "tags": []
          },
          "execution_count": 80
        }
      ]
    },
    {
      "cell_type": "code",
      "metadata": {
        "id": "RrNPB6v_lF5n",
        "colab_type": "code",
        "colab": {
          "base_uri": "https://localhost:8080/",
          "height": 181
        },
        "outputId": "a7df314f-2ac6-4efb-d3d3-1721fc9d990b"
      },
      "source": [
        "s[::] # same as s[:], double colons s[::2] are used for skipping"
      ],
      "execution_count": null,
      "outputs": [
        {
          "output_type": "execute_result",
          "data": {
            "text/plain": [
              "2000-01-01    1.904858\n",
              "2000-01-02    1.532126\n",
              "2000-01-03   -0.005548\n",
              "2000-01-04    0.919469\n",
              "2000-01-05   -2.428640\n",
              "2000-01-06    0.334977\n",
              "2000-01-07   -0.350545\n",
              "2000-01-08    1.279870\n",
              "Freq: D, Name: A, dtype: float64"
            ]
          },
          "metadata": {
            "tags": []
          },
          "execution_count": 82
        }
      ]
    },
    {
      "cell_type": "code",
      "metadata": {
        "id": "_gDU4ph5j7Lw",
        "colab_type": "code",
        "colab": {
          "base_uri": "https://localhost:8080/",
          "height": 126
        },
        "outputId": "cfe9a90c-b02b-4779-dce2-f644285b95e8"
      },
      "source": [
        "s[:5] # first 5 same sa s[0:5]"
      ],
      "execution_count": null,
      "outputs": [
        {
          "output_type": "execute_result",
          "data": {
            "text/plain": [
              "2000-01-01    1.904858\n",
              "2000-01-02    1.532126\n",
              "2000-01-03   -0.005548\n",
              "2000-01-04    0.919469\n",
              "2000-01-05   -2.428640\n",
              "Freq: D, Name: A, dtype: float64"
            ]
          },
          "metadata": {
            "tags": []
          },
          "execution_count": 77
        }
      ]
    },
    {
      "cell_type": "code",
      "metadata": {
        "id": "MybgNkX3j7WV",
        "colab_type": "code",
        "colab": {
          "base_uri": "https://localhost:8080/",
          "height": 108
        },
        "outputId": "7c750465-2ba8-4fad-87b2-28d731e04b37"
      },
      "source": [
        "s[::2] # every other "
      ],
      "execution_count": null,
      "outputs": [
        {
          "output_type": "execute_result",
          "data": {
            "text/plain": [
              "2000-01-01    1.904858\n",
              "2000-01-03   -0.005548\n",
              "2000-01-05   -2.428640\n",
              "2000-01-07   -0.350545\n",
              "Freq: 2D, Name: A, dtype: float64"
            ]
          },
          "metadata": {
            "tags": []
          },
          "execution_count": 78
        }
      ]
    },
    {
      "cell_type": "code",
      "metadata": {
        "id": "b5u4MX3wj7Z1",
        "colab_type": "code",
        "colab": {
          "base_uri": "https://localhost:8080/",
          "height": 181
        },
        "outputId": "ef4075e0-087a-46cd-abff-11f03b2e4663"
      },
      "source": [
        "s[::-1] # in reverse order"
      ],
      "execution_count": null,
      "outputs": [
        {
          "output_type": "execute_result",
          "data": {
            "text/plain": [
              "2000-01-08    1.279870\n",
              "2000-01-07   -0.350545\n",
              "2000-01-06    0.334977\n",
              "2000-01-05   -2.428640\n",
              "2000-01-04    0.919469\n",
              "2000-01-03   -0.005548\n",
              "2000-01-02    1.532126\n",
              "2000-01-01    1.904858\n",
              "Freq: -1D, Name: A, dtype: float64"
            ]
          },
          "metadata": {
            "tags": []
          },
          "execution_count": 79
        }
      ]
    },
    {
      "cell_type": "code",
      "metadata": {
        "id": "ssJMi99tj7gA",
        "colab_type": "code",
        "colab": {}
      },
      "source": [
        "s2 = s.copy()"
      ],
      "execution_count": null,
      "outputs": []
    },
    {
      "cell_type": "code",
      "metadata": {
        "id": "EgHHSe-Nlf_x",
        "colab_type": "code",
        "colab": {
          "base_uri": "https://localhost:8080/",
          "height": 181
        },
        "outputId": "5ee58731-836c-493a-e8b2-302c40d5f125"
      },
      "source": [
        "# turns first five rows into 0\n",
        "s2[:5] = 0\n",
        "s2"
      ],
      "execution_count": null,
      "outputs": [
        {
          "output_type": "execute_result",
          "data": {
            "text/plain": [
              "2000-01-01    0.000000\n",
              "2000-01-02    0.000000\n",
              "2000-01-03    0.000000\n",
              "2000-01-04    0.000000\n",
              "2000-01-05    0.000000\n",
              "2000-01-06    0.334977\n",
              "2000-01-07   -0.350545\n",
              "2000-01-08    1.279870\n",
              "Freq: D, Name: A, dtype: float64"
            ]
          },
          "metadata": {
            "tags": []
          },
          "execution_count": 85
        }
      ]
    },
    {
      "cell_type": "code",
      "metadata": {
        "id": "TAC3HwlMlgC8",
        "colab_type": "code",
        "colab": {
          "base_uri": "https://localhost:8080/",
          "height": 138
        },
        "outputId": "5606252f-ff90-4c7b-fe61-8d7da10bec86"
      },
      "source": [
        "df[:3] # outputs first 3 rows"
      ],
      "execution_count": null,
      "outputs": [
        {
          "output_type": "execute_result",
          "data": {
            "text/html": [
              "<div>\n",
              "<style scoped>\n",
              "    .dataframe tbody tr th:only-of-type {\n",
              "        vertical-align: middle;\n",
              "    }\n",
              "\n",
              "    .dataframe tbody tr th {\n",
              "        vertical-align: top;\n",
              "    }\n",
              "\n",
              "    .dataframe thead th {\n",
              "        text-align: right;\n",
              "    }\n",
              "</style>\n",
              "<table border=\"1\" class=\"dataframe\">\n",
              "  <thead>\n",
              "    <tr style=\"text-align: right;\">\n",
              "      <th></th>\n",
              "      <th>A</th>\n",
              "      <th>B</th>\n",
              "      <th>C</th>\n",
              "      <th>D</th>\n",
              "    </tr>\n",
              "  </thead>\n",
              "  <tbody>\n",
              "    <tr>\n",
              "      <th>2000-01-01</th>\n",
              "      <td>1.904858</td>\n",
              "      <td>-1.036630</td>\n",
              "      <td>1.364472</td>\n",
              "      <td>-0.736082</td>\n",
              "    </tr>\n",
              "    <tr>\n",
              "      <th>2000-01-02</th>\n",
              "      <td>1.532126</td>\n",
              "      <td>-0.736140</td>\n",
              "      <td>-0.209754</td>\n",
              "      <td>-1.858622</td>\n",
              "    </tr>\n",
              "    <tr>\n",
              "      <th>2000-01-03</th>\n",
              "      <td>-0.005548</td>\n",
              "      <td>1.113099</td>\n",
              "      <td>-1.550566</td>\n",
              "      <td>0.522875</td>\n",
              "    </tr>\n",
              "  </tbody>\n",
              "</table>\n",
              "</div>"
            ],
            "text/plain": [
              "                   A         B         C         D\n",
              "2000-01-01  1.904858 -1.036630  1.364472 -0.736082\n",
              "2000-01-02  1.532126 -0.736140 -0.209754 -1.858622\n",
              "2000-01-03 -0.005548  1.113099 -1.550566  0.522875"
            ]
          },
          "metadata": {
            "tags": []
          },
          "execution_count": 86
        }
      ]
    },
    {
      "cell_type": "code",
      "metadata": {
        "id": "_VL1vAhTlgGD",
        "colab_type": "code",
        "colab": {
          "base_uri": "https://localhost:8080/",
          "height": 288
        },
        "outputId": "fbd74f08-2e37-410a-aef5-ce15dbe500cb"
      },
      "source": [
        "df[::-1] "
      ],
      "execution_count": null,
      "outputs": [
        {
          "output_type": "execute_result",
          "data": {
            "text/html": [
              "<div>\n",
              "<style scoped>\n",
              "    .dataframe tbody tr th:only-of-type {\n",
              "        vertical-align: middle;\n",
              "    }\n",
              "\n",
              "    .dataframe tbody tr th {\n",
              "        vertical-align: top;\n",
              "    }\n",
              "\n",
              "    .dataframe thead th {\n",
              "        text-align: right;\n",
              "    }\n",
              "</style>\n",
              "<table border=\"1\" class=\"dataframe\">\n",
              "  <thead>\n",
              "    <tr style=\"text-align: right;\">\n",
              "      <th></th>\n",
              "      <th>A</th>\n",
              "      <th>B</th>\n",
              "      <th>C</th>\n",
              "      <th>D</th>\n",
              "    </tr>\n",
              "  </thead>\n",
              "  <tbody>\n",
              "    <tr>\n",
              "      <th>2000-01-08</th>\n",
              "      <td>1.279870</td>\n",
              "      <td>0.344439</td>\n",
              "      <td>0.365789</td>\n",
              "      <td>-1.607499</td>\n",
              "    </tr>\n",
              "    <tr>\n",
              "      <th>2000-01-07</th>\n",
              "      <td>-0.350545</td>\n",
              "      <td>1.020576</td>\n",
              "      <td>-0.145013</td>\n",
              "      <td>0.981130</td>\n",
              "    </tr>\n",
              "    <tr>\n",
              "      <th>2000-01-06</th>\n",
              "      <td>0.334977</td>\n",
              "      <td>1.322407</td>\n",
              "      <td>-0.220230</td>\n",
              "      <td>-1.599317</td>\n",
              "    </tr>\n",
              "    <tr>\n",
              "      <th>2000-01-05</th>\n",
              "      <td>-2.428640</td>\n",
              "      <td>2.062501</td>\n",
              "      <td>1.204805</td>\n",
              "      <td>-0.885867</td>\n",
              "    </tr>\n",
              "    <tr>\n",
              "      <th>2000-01-04</th>\n",
              "      <td>0.919469</td>\n",
              "      <td>-2.152696</td>\n",
              "      <td>-0.797773</td>\n",
              "      <td>0.239495</td>\n",
              "    </tr>\n",
              "    <tr>\n",
              "      <th>2000-01-03</th>\n",
              "      <td>-0.005548</td>\n",
              "      <td>1.113099</td>\n",
              "      <td>-1.550566</td>\n",
              "      <td>0.522875</td>\n",
              "    </tr>\n",
              "    <tr>\n",
              "      <th>2000-01-02</th>\n",
              "      <td>1.532126</td>\n",
              "      <td>-0.736140</td>\n",
              "      <td>-0.209754</td>\n",
              "      <td>-1.858622</td>\n",
              "    </tr>\n",
              "    <tr>\n",
              "      <th>2000-01-01</th>\n",
              "      <td>1.904858</td>\n",
              "      <td>-1.036630</td>\n",
              "      <td>1.364472</td>\n",
              "      <td>-0.736082</td>\n",
              "    </tr>\n",
              "  </tbody>\n",
              "</table>\n",
              "</div>"
            ],
            "text/plain": [
              "                   A         B         C         D\n",
              "2000-01-08  1.279870  0.344439  0.365789 -1.607499\n",
              "2000-01-07 -0.350545  1.020576 -0.145013  0.981130\n",
              "2000-01-06  0.334977  1.322407 -0.220230 -1.599317\n",
              "2000-01-05 -2.428640  2.062501  1.204805 -0.885867\n",
              "2000-01-04  0.919469 -2.152696 -0.797773  0.239495\n",
              "2000-01-03 -0.005548  1.113099 -1.550566  0.522875\n",
              "2000-01-02  1.532126 -0.736140 -0.209754 -1.858622\n",
              "2000-01-01  1.904858 -1.036630  1.364472 -0.736082"
            ]
          },
          "metadata": {
            "tags": []
          },
          "execution_count": 87
        }
      ]
    },
    {
      "cell_type": "markdown",
      "metadata": {
        "id": "JTjZue1tm2lY",
        "colab_type": "text"
      },
      "source": [
        "## Selection by Label"
      ]
    },
    {
      "cell_type": "code",
      "metadata": {
        "id": "cZf6e_RMlgJL",
        "colab_type": "code",
        "colab": {
          "base_uri": "https://localhost:8080/",
          "height": 198
        },
        "outputId": "0da396a5-1c19-41bb-f6f6-a30b15b5a756"
      },
      "source": [
        "\n",
        "dfl = pd.DataFrame(np.random.randn(5,4), \n",
        "                  columns = list('ABCD'),\n",
        "                  index=pd.date_range('20130101', periods=5))\n",
        "\n",
        "dfl"
      ],
      "execution_count": null,
      "outputs": [
        {
          "output_type": "execute_result",
          "data": {
            "text/html": [
              "<div>\n",
              "<style scoped>\n",
              "    .dataframe tbody tr th:only-of-type {\n",
              "        vertical-align: middle;\n",
              "    }\n",
              "\n",
              "    .dataframe tbody tr th {\n",
              "        vertical-align: top;\n",
              "    }\n",
              "\n",
              "    .dataframe thead th {\n",
              "        text-align: right;\n",
              "    }\n",
              "</style>\n",
              "<table border=\"1\" class=\"dataframe\">\n",
              "  <thead>\n",
              "    <tr style=\"text-align: right;\">\n",
              "      <th></th>\n",
              "      <th>A</th>\n",
              "      <th>B</th>\n",
              "      <th>C</th>\n",
              "      <th>D</th>\n",
              "    </tr>\n",
              "  </thead>\n",
              "  <tbody>\n",
              "    <tr>\n",
              "      <th>2013-01-01</th>\n",
              "      <td>-0.150120</td>\n",
              "      <td>1.666070</td>\n",
              "      <td>0.020874</td>\n",
              "      <td>-1.582633</td>\n",
              "    </tr>\n",
              "    <tr>\n",
              "      <th>2013-01-02</th>\n",
              "      <td>0.318356</td>\n",
              "      <td>1.138704</td>\n",
              "      <td>0.454163</td>\n",
              "      <td>-1.706591</td>\n",
              "    </tr>\n",
              "    <tr>\n",
              "      <th>2013-01-03</th>\n",
              "      <td>0.304486</td>\n",
              "      <td>-0.735436</td>\n",
              "      <td>0.147157</td>\n",
              "      <td>-0.238521</td>\n",
              "    </tr>\n",
              "    <tr>\n",
              "      <th>2013-01-04</th>\n",
              "      <td>-0.237939</td>\n",
              "      <td>-1.856986</td>\n",
              "      <td>0.191768</td>\n",
              "      <td>-0.893753</td>\n",
              "    </tr>\n",
              "    <tr>\n",
              "      <th>2013-01-05</th>\n",
              "      <td>-1.177202</td>\n",
              "      <td>0.564525</td>\n",
              "      <td>0.216410</td>\n",
              "      <td>0.653990</td>\n",
              "    </tr>\n",
              "  </tbody>\n",
              "</table>\n",
              "</div>"
            ],
            "text/plain": [
              "                   A         B         C         D\n",
              "2013-01-01 -0.150120  1.666070  0.020874 -1.582633\n",
              "2013-01-02  0.318356  1.138704  0.454163 -1.706591\n",
              "2013-01-03  0.304486 -0.735436  0.147157 -0.238521\n",
              "2013-01-04 -0.237939 -1.856986  0.191768 -0.893753\n",
              "2013-01-05 -1.177202  0.564525  0.216410  0.653990"
            ]
          },
          "metadata": {
            "tags": []
          },
          "execution_count": 107
        }
      ]
    },
    {
      "cell_type": "code",
      "metadata": {
        "id": "suDo402_lgMI",
        "colab_type": "code",
        "colab": {
          "base_uri": "https://localhost:8080/",
          "height": 138
        },
        "outputId": "eacc00fb-ec4e-4666-a0d0-81d62a43bd2b"
      },
      "source": [
        "dfl.loc['20130101': '20130103']"
      ],
      "execution_count": null,
      "outputs": [
        {
          "output_type": "execute_result",
          "data": {
            "text/html": [
              "<div>\n",
              "<style scoped>\n",
              "    .dataframe tbody tr th:only-of-type {\n",
              "        vertical-align: middle;\n",
              "    }\n",
              "\n",
              "    .dataframe tbody tr th {\n",
              "        vertical-align: top;\n",
              "    }\n",
              "\n",
              "    .dataframe thead th {\n",
              "        text-align: right;\n",
              "    }\n",
              "</style>\n",
              "<table border=\"1\" class=\"dataframe\">\n",
              "  <thead>\n",
              "    <tr style=\"text-align: right;\">\n",
              "      <th></th>\n",
              "      <th>A</th>\n",
              "      <th>B</th>\n",
              "      <th>C</th>\n",
              "      <th>D</th>\n",
              "    </tr>\n",
              "  </thead>\n",
              "  <tbody>\n",
              "    <tr>\n",
              "      <th>2013-01-01</th>\n",
              "      <td>-0.150120</td>\n",
              "      <td>1.666070</td>\n",
              "      <td>0.020874</td>\n",
              "      <td>-1.582633</td>\n",
              "    </tr>\n",
              "    <tr>\n",
              "      <th>2013-01-02</th>\n",
              "      <td>0.318356</td>\n",
              "      <td>1.138704</td>\n",
              "      <td>0.454163</td>\n",
              "      <td>-1.706591</td>\n",
              "    </tr>\n",
              "    <tr>\n",
              "      <th>2013-01-03</th>\n",
              "      <td>0.304486</td>\n",
              "      <td>-0.735436</td>\n",
              "      <td>0.147157</td>\n",
              "      <td>-0.238521</td>\n",
              "    </tr>\n",
              "  </tbody>\n",
              "</table>\n",
              "</div>"
            ],
            "text/plain": [
              "                   A         B         C         D\n",
              "2013-01-01 -0.150120  1.666070  0.020874 -1.582633\n",
              "2013-01-02  0.318356  1.138704  0.454163 -1.706591\n",
              "2013-01-03  0.304486 -0.735436  0.147157 -0.238521"
            ]
          },
          "metadata": {
            "tags": []
          },
          "execution_count": 112
        }
      ]
    },
    {
      "cell_type": "code",
      "metadata": {
        "id": "yocHie3tlgPv",
        "colab_type": "code",
        "colab": {
          "base_uri": "https://localhost:8080/",
          "height": 138
        },
        "outputId": "883ab113-17ef-447e-9b7c-bcff71496c62"
      },
      "source": [
        "# to access the items of a row\n",
        "# dfl.loc['20130101'][0]\n",
        "\n",
        "dfl.loc[:'20130103']"
      ],
      "execution_count": null,
      "outputs": [
        {
          "output_type": "execute_result",
          "data": {
            "text/html": [
              "<div>\n",
              "<style scoped>\n",
              "    .dataframe tbody tr th:only-of-type {\n",
              "        vertical-align: middle;\n",
              "    }\n",
              "\n",
              "    .dataframe tbody tr th {\n",
              "        vertical-align: top;\n",
              "    }\n",
              "\n",
              "    .dataframe thead th {\n",
              "        text-align: right;\n",
              "    }\n",
              "</style>\n",
              "<table border=\"1\" class=\"dataframe\">\n",
              "  <thead>\n",
              "    <tr style=\"text-align: right;\">\n",
              "      <th></th>\n",
              "      <th>A</th>\n",
              "      <th>B</th>\n",
              "      <th>C</th>\n",
              "      <th>D</th>\n",
              "    </tr>\n",
              "  </thead>\n",
              "  <tbody>\n",
              "    <tr>\n",
              "      <th>2013-01-01</th>\n",
              "      <td>-0.150120</td>\n",
              "      <td>1.666070</td>\n",
              "      <td>0.020874</td>\n",
              "      <td>-1.582633</td>\n",
              "    </tr>\n",
              "    <tr>\n",
              "      <th>2013-01-02</th>\n",
              "      <td>0.318356</td>\n",
              "      <td>1.138704</td>\n",
              "      <td>0.454163</td>\n",
              "      <td>-1.706591</td>\n",
              "    </tr>\n",
              "    <tr>\n",
              "      <th>2013-01-03</th>\n",
              "      <td>0.304486</td>\n",
              "      <td>-0.735436</td>\n",
              "      <td>0.147157</td>\n",
              "      <td>-0.238521</td>\n",
              "    </tr>\n",
              "  </tbody>\n",
              "</table>\n",
              "</div>"
            ],
            "text/plain": [
              "                   A         B         C         D\n",
              "2013-01-01 -0.150120  1.666070  0.020874 -1.582633\n",
              "2013-01-02  0.318356  1.138704  0.454163 -1.706591\n",
              "2013-01-03  0.304486 -0.735436  0.147157 -0.238521"
            ]
          },
          "metadata": {
            "tags": []
          },
          "execution_count": 125
        }
      ]
    },
    {
      "cell_type": "markdown",
      "metadata": {
        "id": "DCUXmW-YxA8Z",
        "colab_type": "text"
      },
      "source": [
        "### More index (row) based indexing"
      ]
    },
    {
      "cell_type": "code",
      "metadata": {
        "id": "jnmDwj4NwpVQ",
        "colab_type": "code",
        "colab": {
          "base_uri": "https://localhost:8080/",
          "height": 145
        },
        "outputId": "9bf930a0-1b09-4bbc-c52c-ade4ae27adfa"
      },
      "source": [
        "s1 = pd.Series(np.random.randn(6), index=list('abcdef'))\n",
        "s1"
      ],
      "execution_count": null,
      "outputs": [
        {
          "output_type": "execute_result",
          "data": {
            "text/plain": [
              "a    0.017725\n",
              "b   -0.969186\n",
              "c   -0.490467\n",
              "d   -0.593311\n",
              "e    1.683164\n",
              "f    0.195339\n",
              "dtype: float64"
            ]
          },
          "metadata": {
            "tags": []
          },
          "execution_count": 128
        }
      ]
    },
    {
      "cell_type": "code",
      "metadata": {
        "id": "_xIffYO4wpYj",
        "colab_type": "code",
        "colab": {
          "base_uri": "https://localhost:8080/",
          "height": 108
        },
        "outputId": "9b802862-7f72-4530-b2b2-90263dcbfadc"
      },
      "source": [
        "# 'c' row onwards\n",
        "s1.loc['c':]"
      ],
      "execution_count": null,
      "outputs": [
        {
          "output_type": "execute_result",
          "data": {
            "text/plain": [
              "c   -0.490467\n",
              "d   -0.593311\n",
              "e    1.683164\n",
              "f    0.195339\n",
              "dtype: float64"
            ]
          },
          "metadata": {
            "tags": []
          },
          "execution_count": 131
        }
      ]
    },
    {
      "cell_type": "code",
      "metadata": {
        "id": "wUsWKmP3wpou",
        "colab_type": "code",
        "colab": {}
      },
      "source": [
        "s1.loc['c'] = 0"
      ],
      "execution_count": null,
      "outputs": []
    },
    {
      "cell_type": "code",
      "metadata": {
        "id": "_ahTGopdwp0x",
        "colab_type": "code",
        "colab": {
          "base_uri": "https://localhost:8080/",
          "height": 145
        },
        "outputId": "0ca7e9ab-1875-4261-e5b3-c80bf12d6d1f"
      },
      "source": [
        "s1"
      ],
      "execution_count": null,
      "outputs": [
        {
          "output_type": "execute_result",
          "data": {
            "text/plain": [
              "a    0.017725\n",
              "b   -0.969186\n",
              "c    0.000000\n",
              "d   -0.593311\n",
              "e    1.683164\n",
              "f    0.195339\n",
              "dtype: float64"
            ]
          },
          "metadata": {
            "tags": []
          },
          "execution_count": 133
        }
      ]
    },
    {
      "cell_type": "code",
      "metadata": {
        "id": "_yf4n8Gbwp4P",
        "colab_type": "code",
        "colab": {
          "base_uri": "https://localhost:8080/",
          "height": 145
        },
        "outputId": "6fa24265-e715-4e82-c32f-fb0d913b2cbb"
      },
      "source": [
        "s1.loc['c':] = 0\n",
        "s1"
      ],
      "execution_count": null,
      "outputs": [
        {
          "output_type": "execute_result",
          "data": {
            "text/plain": [
              "a    0.017725\n",
              "b   -0.969186\n",
              "c    0.000000\n",
              "d    0.000000\n",
              "e    0.000000\n",
              "f    0.000000\n",
              "dtype: float64"
            ]
          },
          "metadata": {
            "tags": []
          },
          "execution_count": 135
        }
      ]
    },
    {
      "cell_type": "code",
      "metadata": {
        "id": "DEeke-_Iwpl9",
        "colab_type": "code",
        "colab": {}
      },
      "source": [
        "df1 = pd.DataFrame(np.random.randn(6,4),\n",
        "                  index = list('abcded'),\n",
        "                  columns=list('ABDC'))"
      ],
      "execution_count": null,
      "outputs": []
    },
    {
      "cell_type": "code",
      "metadata": {
        "id": "BfO4t1NYwpjb",
        "colab_type": "code",
        "colab": {
          "base_uri": "https://localhost:8080/",
          "height": 228
        },
        "outputId": "2cce3a40-c62a-4743-b0a0-63a141f16c97"
      },
      "source": [
        "df1"
      ],
      "execution_count": null,
      "outputs": [
        {
          "output_type": "execute_result",
          "data": {
            "text/html": [
              "<div>\n",
              "<style scoped>\n",
              "    .dataframe tbody tr th:only-of-type {\n",
              "        vertical-align: middle;\n",
              "    }\n",
              "\n",
              "    .dataframe tbody tr th {\n",
              "        vertical-align: top;\n",
              "    }\n",
              "\n",
              "    .dataframe thead th {\n",
              "        text-align: right;\n",
              "    }\n",
              "</style>\n",
              "<table border=\"1\" class=\"dataframe\">\n",
              "  <thead>\n",
              "    <tr style=\"text-align: right;\">\n",
              "      <th></th>\n",
              "      <th>A</th>\n",
              "      <th>B</th>\n",
              "      <th>D</th>\n",
              "      <th>C</th>\n",
              "    </tr>\n",
              "  </thead>\n",
              "  <tbody>\n",
              "    <tr>\n",
              "      <th>a</th>\n",
              "      <td>-1.432712</td>\n",
              "      <td>-0.457020</td>\n",
              "      <td>-0.427773</td>\n",
              "      <td>0.637294</td>\n",
              "    </tr>\n",
              "    <tr>\n",
              "      <th>b</th>\n",
              "      <td>2.180567</td>\n",
              "      <td>-0.054165</td>\n",
              "      <td>0.592990</td>\n",
              "      <td>-0.644671</td>\n",
              "    </tr>\n",
              "    <tr>\n",
              "      <th>c</th>\n",
              "      <td>-1.037832</td>\n",
              "      <td>0.020412</td>\n",
              "      <td>-0.306324</td>\n",
              "      <td>-0.326059</td>\n",
              "    </tr>\n",
              "    <tr>\n",
              "      <th>d</th>\n",
              "      <td>1.084503</td>\n",
              "      <td>0.455060</td>\n",
              "      <td>0.199775</td>\n",
              "      <td>-1.979673</td>\n",
              "    </tr>\n",
              "    <tr>\n",
              "      <th>e</th>\n",
              "      <td>-0.221576</td>\n",
              "      <td>1.572959</td>\n",
              "      <td>-1.804321</td>\n",
              "      <td>-0.587746</td>\n",
              "    </tr>\n",
              "    <tr>\n",
              "      <th>d</th>\n",
              "      <td>-0.494115</td>\n",
              "      <td>0.587223</td>\n",
              "      <td>-1.334331</td>\n",
              "      <td>-0.716053</td>\n",
              "    </tr>\n",
              "  </tbody>\n",
              "</table>\n",
              "</div>"
            ],
            "text/plain": [
              "          A         B         D         C\n",
              "a -1.432712 -0.457020 -0.427773  0.637294\n",
              "b  2.180567 -0.054165  0.592990 -0.644671\n",
              "c -1.037832  0.020412 -0.306324 -0.326059\n",
              "d  1.084503  0.455060  0.199775 -1.979673\n",
              "e -0.221576  1.572959 -1.804321 -0.587746\n",
              "d -0.494115  0.587223 -1.334331 -0.716053"
            ]
          },
          "metadata": {
            "tags": []
          },
          "execution_count": 167
        }
      ]
    },
    {
      "cell_type": "code",
      "metadata": {
        "id": "f5I5j875wpfd",
        "colab_type": "code",
        "colab": {
          "base_uri": "https://localhost:8080/",
          "height": 108
        },
        "outputId": "c2e3f24d-14d1-42dc-c101-6164073b0080"
      },
      "source": [
        "df1.loc['d']"
      ],
      "execution_count": null,
      "outputs": [
        {
          "output_type": "execute_result",
          "data": {
            "text/html": [
              "<div>\n",
              "<style scoped>\n",
              "    .dataframe tbody tr th:only-of-type {\n",
              "        vertical-align: middle;\n",
              "    }\n",
              "\n",
              "    .dataframe tbody tr th {\n",
              "        vertical-align: top;\n",
              "    }\n",
              "\n",
              "    .dataframe thead th {\n",
              "        text-align: right;\n",
              "    }\n",
              "</style>\n",
              "<table border=\"1\" class=\"dataframe\">\n",
              "  <thead>\n",
              "    <tr style=\"text-align: right;\">\n",
              "      <th></th>\n",
              "      <th>A</th>\n",
              "      <th>B</th>\n",
              "      <th>D</th>\n",
              "      <th>C</th>\n",
              "    </tr>\n",
              "  </thead>\n",
              "  <tbody>\n",
              "    <tr>\n",
              "      <th>d</th>\n",
              "      <td>1.084503</td>\n",
              "      <td>0.455060</td>\n",
              "      <td>0.199775</td>\n",
              "      <td>-1.979673</td>\n",
              "    </tr>\n",
              "    <tr>\n",
              "      <th>d</th>\n",
              "      <td>-0.494115</td>\n",
              "      <td>0.587223</td>\n",
              "      <td>-1.334331</td>\n",
              "      <td>-0.716053</td>\n",
              "    </tr>\n",
              "  </tbody>\n",
              "</table>\n",
              "</div>"
            ],
            "text/plain": [
              "          A         B         D         C\n",
              "d  1.084503  0.455060  0.199775 -1.979673\n",
              "d -0.494115  0.587223 -1.334331 -0.716053"
            ]
          },
          "metadata": {
            "tags": []
          },
          "execution_count": 168
        }
      ]
    },
    {
      "cell_type": "markdown",
      "metadata": {
        "id": "xwTu7-ZsyNF0",
        "colab_type": "text"
      },
      "source": [
        "### Selecting particular rows and columns"
      ]
    },
    {
      "cell_type": "code",
      "metadata": {
        "id": "cFhUN6Pxx_DB",
        "colab_type": "code",
        "colab": {
          "base_uri": "https://localhost:8080/",
          "height": 168
        },
        "outputId": "928aecd9-12ec-4b31-fcb3-44349c70a884"
      },
      "source": [
        "# a,c,d rows and B and D columns\n",
        "df1.loc[['a', 'c', 'd'], 'B':'D']"
      ],
      "execution_count": null,
      "outputs": [
        {
          "output_type": "execute_result",
          "data": {
            "text/html": [
              "<div>\n",
              "<style scoped>\n",
              "    .dataframe tbody tr th:only-of-type {\n",
              "        vertical-align: middle;\n",
              "    }\n",
              "\n",
              "    .dataframe tbody tr th {\n",
              "        vertical-align: top;\n",
              "    }\n",
              "\n",
              "    .dataframe thead th {\n",
              "        text-align: right;\n",
              "    }\n",
              "</style>\n",
              "<table border=\"1\" class=\"dataframe\">\n",
              "  <thead>\n",
              "    <tr style=\"text-align: right;\">\n",
              "      <th></th>\n",
              "      <th>B</th>\n",
              "      <th>D</th>\n",
              "    </tr>\n",
              "  </thead>\n",
              "  <tbody>\n",
              "    <tr>\n",
              "      <th>a</th>\n",
              "      <td>-0.457020</td>\n",
              "      <td>-0.427773</td>\n",
              "    </tr>\n",
              "    <tr>\n",
              "      <th>c</th>\n",
              "      <td>0.020412</td>\n",
              "      <td>-0.306324</td>\n",
              "    </tr>\n",
              "    <tr>\n",
              "      <th>d</th>\n",
              "      <td>0.455060</td>\n",
              "      <td>0.199775</td>\n",
              "    </tr>\n",
              "    <tr>\n",
              "      <th>d</th>\n",
              "      <td>0.587223</td>\n",
              "      <td>-1.334331</td>\n",
              "    </tr>\n",
              "  </tbody>\n",
              "</table>\n",
              "</div>"
            ],
            "text/plain": [
              "          B         D\n",
              "a -0.457020 -0.427773\n",
              "c  0.020412 -0.306324\n",
              "d  0.455060  0.199775\n",
              "d  0.587223 -1.334331"
            ]
          },
          "metadata": {
            "tags": []
          },
          "execution_count": 169
        }
      ]
    },
    {
      "cell_type": "code",
      "metadata": {
        "id": "m9KtrVCZx_Ma",
        "colab_type": "code",
        "colab": {
          "base_uri": "https://localhost:8080/",
          "height": 168
        },
        "outputId": "0407582f-b183-4311-fa95-38582b69aa6b"
      },
      "source": [
        "df1.loc['c':, 'A':'C']"
      ],
      "execution_count": null,
      "outputs": [
        {
          "output_type": "execute_result",
          "data": {
            "text/html": [
              "<div>\n",
              "<style scoped>\n",
              "    .dataframe tbody tr th:only-of-type {\n",
              "        vertical-align: middle;\n",
              "    }\n",
              "\n",
              "    .dataframe tbody tr th {\n",
              "        vertical-align: top;\n",
              "    }\n",
              "\n",
              "    .dataframe thead th {\n",
              "        text-align: right;\n",
              "    }\n",
              "</style>\n",
              "<table border=\"1\" class=\"dataframe\">\n",
              "  <thead>\n",
              "    <tr style=\"text-align: right;\">\n",
              "      <th></th>\n",
              "      <th>A</th>\n",
              "      <th>B</th>\n",
              "      <th>D</th>\n",
              "      <th>C</th>\n",
              "    </tr>\n",
              "  </thead>\n",
              "  <tbody>\n",
              "    <tr>\n",
              "      <th>c</th>\n",
              "      <td>-1.037832</td>\n",
              "      <td>0.020412</td>\n",
              "      <td>-0.306324</td>\n",
              "      <td>-0.326059</td>\n",
              "    </tr>\n",
              "    <tr>\n",
              "      <th>d</th>\n",
              "      <td>1.084503</td>\n",
              "      <td>0.455060</td>\n",
              "      <td>0.199775</td>\n",
              "      <td>-1.979673</td>\n",
              "    </tr>\n",
              "    <tr>\n",
              "      <th>e</th>\n",
              "      <td>-0.221576</td>\n",
              "      <td>1.572959</td>\n",
              "      <td>-1.804321</td>\n",
              "      <td>-0.587746</td>\n",
              "    </tr>\n",
              "    <tr>\n",
              "      <th>d</th>\n",
              "      <td>-0.494115</td>\n",
              "      <td>0.587223</td>\n",
              "      <td>-1.334331</td>\n",
              "      <td>-0.716053</td>\n",
              "    </tr>\n",
              "  </tbody>\n",
              "</table>\n",
              "</div>"
            ],
            "text/plain": [
              "          A         B         D         C\n",
              "c -1.037832  0.020412 -0.306324 -0.326059\n",
              "d  1.084503  0.455060  0.199775 -1.979673\n",
              "e -0.221576  1.572959 -1.804321 -0.587746\n",
              "d -0.494115  0.587223 -1.334331 -0.716053"
            ]
          },
          "metadata": {
            "tags": []
          },
          "execution_count": 171
        }
      ]
    },
    {
      "cell_type": "markdown",
      "metadata": {
        "id": "4IIvBBjV3qBC",
        "colab_type": "text"
      },
      "source": [
        "#### if the index aren't unique, you might have problems slicing the df using .loc\n",
        "\n",
        "KeyError: \"Cannot get left slice bound for non-unique label: 'd'\""
      ]
    },
    {
      "cell_type": "code",
      "metadata": {
        "id": "AJWmbSK7x_RC",
        "colab_type": "code",
        "colab": {
          "base_uri": "https://localhost:8080/",
          "height": 322
        },
        "outputId": "fc7d41d5-4e2d-4406-9ba2-a65a84b41e94"
      },
      "source": [
        "df1.loc['d':, 'A':'C']"
      ],
      "execution_count": null,
      "outputs": [
        {
          "output_type": "error",
          "ename": "KeyError",
          "evalue": "ignored",
          "traceback": [
            "\u001b[0;31m---------------------------------------------------------------------------\u001b[0m",
            "\u001b[0;31mKeyError\u001b[0m                                  Traceback (most recent call last)",
            "\u001b[0;32m<ipython-input-172-9cb3871eb073>\u001b[0m in \u001b[0;36m<module>\u001b[0;34m()\u001b[0m\n\u001b[0;32m----> 1\u001b[0;31m \u001b[0mdf1\u001b[0m\u001b[0;34m.\u001b[0m\u001b[0mloc\u001b[0m\u001b[0;34m[\u001b[0m\u001b[0;34m'd'\u001b[0m\u001b[0;34m:\u001b[0m\u001b[0;34m,\u001b[0m \u001b[0;34m'A'\u001b[0m\u001b[0;34m:\u001b[0m\u001b[0;34m'C'\u001b[0m\u001b[0;34m]\u001b[0m\u001b[0;34m\u001b[0m\u001b[0;34m\u001b[0m\u001b[0m\n\u001b[0m",
            "\u001b[0;32m/usr/local/lib/python3.6/dist-packages/pandas/core/indexing.py\u001b[0m in \u001b[0;36m__getitem__\u001b[0;34m(self, key)\u001b[0m\n\u001b[1;32m   1416\u001b[0m                 \u001b[0;32mexcept\u001b[0m \u001b[0;34m(\u001b[0m\u001b[0mKeyError\u001b[0m\u001b[0;34m,\u001b[0m \u001b[0mIndexError\u001b[0m\u001b[0;34m,\u001b[0m \u001b[0mAttributeError\u001b[0m\u001b[0;34m)\u001b[0m\u001b[0;34m:\u001b[0m\u001b[0;34m\u001b[0m\u001b[0;34m\u001b[0m\u001b[0m\n\u001b[1;32m   1417\u001b[0m                     \u001b[0;32mpass\u001b[0m\u001b[0;34m\u001b[0m\u001b[0;34m\u001b[0m\u001b[0m\n\u001b[0;32m-> 1418\u001b[0;31m             \u001b[0;32mreturn\u001b[0m \u001b[0mself\u001b[0m\u001b[0;34m.\u001b[0m\u001b[0m_getitem_tuple\u001b[0m\u001b[0;34m(\u001b[0m\u001b[0mkey\u001b[0m\u001b[0;34m)\u001b[0m\u001b[0;34m\u001b[0m\u001b[0;34m\u001b[0m\u001b[0m\n\u001b[0m\u001b[1;32m   1419\u001b[0m         \u001b[0;32melse\u001b[0m\u001b[0;34m:\u001b[0m\u001b[0;34m\u001b[0m\u001b[0;34m\u001b[0m\u001b[0m\n\u001b[1;32m   1420\u001b[0m             \u001b[0;31m# we by definition only have the 0th axis\u001b[0m\u001b[0;34m\u001b[0m\u001b[0;34m\u001b[0m\u001b[0;34m\u001b[0m\u001b[0m\n",
            "\u001b[0;32m/usr/local/lib/python3.6/dist-packages/pandas/core/indexing.py\u001b[0m in \u001b[0;36m_getitem_tuple\u001b[0;34m(self, tup)\u001b[0m\n\u001b[1;32m    820\u001b[0m                 \u001b[0;32mcontinue\u001b[0m\u001b[0;34m\u001b[0m\u001b[0;34m\u001b[0m\u001b[0m\n\u001b[1;32m    821\u001b[0m \u001b[0;34m\u001b[0m\u001b[0m\n\u001b[0;32m--> 822\u001b[0;31m             \u001b[0mretval\u001b[0m \u001b[0;34m=\u001b[0m \u001b[0mgetattr\u001b[0m\u001b[0;34m(\u001b[0m\u001b[0mretval\u001b[0m\u001b[0;34m,\u001b[0m \u001b[0mself\u001b[0m\u001b[0;34m.\u001b[0m\u001b[0mname\u001b[0m\u001b[0;34m)\u001b[0m\u001b[0;34m.\u001b[0m\u001b[0m_getitem_axis\u001b[0m\u001b[0;34m(\u001b[0m\u001b[0mkey\u001b[0m\u001b[0;34m,\u001b[0m \u001b[0maxis\u001b[0m\u001b[0;34m=\u001b[0m\u001b[0mi\u001b[0m\u001b[0;34m)\u001b[0m\u001b[0;34m\u001b[0m\u001b[0;34m\u001b[0m\u001b[0m\n\u001b[0m\u001b[1;32m    823\u001b[0m \u001b[0;34m\u001b[0m\u001b[0m\n\u001b[1;32m    824\u001b[0m         \u001b[0;32mreturn\u001b[0m \u001b[0mretval\u001b[0m\u001b[0;34m\u001b[0m\u001b[0;34m\u001b[0m\u001b[0m\n",
            "\u001b[0;32m/usr/local/lib/python3.6/dist-packages/pandas/core/indexing.py\u001b[0m in \u001b[0;36m_getitem_axis\u001b[0;34m(self, key, axis)\u001b[0m\n\u001b[1;32m   1795\u001b[0m         \u001b[0;32mif\u001b[0m \u001b[0misinstance\u001b[0m\u001b[0;34m(\u001b[0m\u001b[0mkey\u001b[0m\u001b[0;34m,\u001b[0m \u001b[0mslice\u001b[0m\u001b[0;34m)\u001b[0m\u001b[0;34m:\u001b[0m\u001b[0;34m\u001b[0m\u001b[0;34m\u001b[0m\u001b[0m\n\u001b[1;32m   1796\u001b[0m             \u001b[0mself\u001b[0m\u001b[0;34m.\u001b[0m\u001b[0m_validate_key\u001b[0m\u001b[0;34m(\u001b[0m\u001b[0mkey\u001b[0m\u001b[0;34m,\u001b[0m \u001b[0maxis\u001b[0m\u001b[0;34m)\u001b[0m\u001b[0;34m\u001b[0m\u001b[0;34m\u001b[0m\u001b[0m\n\u001b[0;32m-> 1797\u001b[0;31m             \u001b[0;32mreturn\u001b[0m \u001b[0mself\u001b[0m\u001b[0;34m.\u001b[0m\u001b[0m_get_slice_axis\u001b[0m\u001b[0;34m(\u001b[0m\u001b[0mkey\u001b[0m\u001b[0;34m,\u001b[0m \u001b[0maxis\u001b[0m\u001b[0;34m=\u001b[0m\u001b[0maxis\u001b[0m\u001b[0;34m)\u001b[0m\u001b[0;34m\u001b[0m\u001b[0;34m\u001b[0m\u001b[0m\n\u001b[0m\u001b[1;32m   1798\u001b[0m         \u001b[0;32melif\u001b[0m \u001b[0mcom\u001b[0m\u001b[0;34m.\u001b[0m\u001b[0mis_bool_indexer\u001b[0m\u001b[0;34m(\u001b[0m\u001b[0mkey\u001b[0m\u001b[0;34m)\u001b[0m\u001b[0;34m:\u001b[0m\u001b[0;34m\u001b[0m\u001b[0;34m\u001b[0m\u001b[0m\n\u001b[1;32m   1799\u001b[0m             \u001b[0;32mreturn\u001b[0m \u001b[0mself\u001b[0m\u001b[0;34m.\u001b[0m\u001b[0m_getbool_axis\u001b[0m\u001b[0;34m(\u001b[0m\u001b[0mkey\u001b[0m\u001b[0;34m,\u001b[0m \u001b[0maxis\u001b[0m\u001b[0;34m=\u001b[0m\u001b[0maxis\u001b[0m\u001b[0;34m)\u001b[0m\u001b[0;34m\u001b[0m\u001b[0;34m\u001b[0m\u001b[0m\n",
            "\u001b[0;32m/usr/local/lib/python3.6/dist-packages/pandas/core/indexing.py\u001b[0m in \u001b[0;36m_get_slice_axis\u001b[0;34m(self, slice_obj, axis)\u001b[0m\n\u001b[1;32m   1452\u001b[0m         \u001b[0mlabels\u001b[0m \u001b[0;34m=\u001b[0m \u001b[0mobj\u001b[0m\u001b[0;34m.\u001b[0m\u001b[0m_get_axis\u001b[0m\u001b[0;34m(\u001b[0m\u001b[0maxis\u001b[0m\u001b[0;34m)\u001b[0m\u001b[0;34m\u001b[0m\u001b[0;34m\u001b[0m\u001b[0m\n\u001b[1;32m   1453\u001b[0m         indexer = labels.slice_indexer(\n\u001b[0;32m-> 1454\u001b[0;31m             \u001b[0mslice_obj\u001b[0m\u001b[0;34m.\u001b[0m\u001b[0mstart\u001b[0m\u001b[0;34m,\u001b[0m \u001b[0mslice_obj\u001b[0m\u001b[0;34m.\u001b[0m\u001b[0mstop\u001b[0m\u001b[0;34m,\u001b[0m \u001b[0mslice_obj\u001b[0m\u001b[0;34m.\u001b[0m\u001b[0mstep\u001b[0m\u001b[0;34m,\u001b[0m \u001b[0mkind\u001b[0m\u001b[0;34m=\u001b[0m\u001b[0mself\u001b[0m\u001b[0;34m.\u001b[0m\u001b[0mname\u001b[0m\u001b[0;34m\u001b[0m\u001b[0;34m\u001b[0m\u001b[0m\n\u001b[0m\u001b[1;32m   1455\u001b[0m         )\n\u001b[1;32m   1456\u001b[0m \u001b[0;34m\u001b[0m\u001b[0m\n",
            "\u001b[0;32m/usr/local/lib/python3.6/dist-packages/pandas/core/indexes/base.py\u001b[0m in \u001b[0;36mslice_indexer\u001b[0;34m(self, start, end, step, kind)\u001b[0m\n\u001b[1;32m   5032\u001b[0m         \u001b[0mslice\u001b[0m\u001b[0;34m(\u001b[0m\u001b[0;36m1\u001b[0m\u001b[0;34m,\u001b[0m \u001b[0;36m3\u001b[0m\u001b[0;34m)\u001b[0m\u001b[0;34m\u001b[0m\u001b[0;34m\u001b[0m\u001b[0m\n\u001b[1;32m   5033\u001b[0m         \"\"\"\n\u001b[0;32m-> 5034\u001b[0;31m         \u001b[0mstart_slice\u001b[0m\u001b[0;34m,\u001b[0m \u001b[0mend_slice\u001b[0m \u001b[0;34m=\u001b[0m \u001b[0mself\u001b[0m\u001b[0;34m.\u001b[0m\u001b[0mslice_locs\u001b[0m\u001b[0;34m(\u001b[0m\u001b[0mstart\u001b[0m\u001b[0;34m,\u001b[0m \u001b[0mend\u001b[0m\u001b[0;34m,\u001b[0m \u001b[0mstep\u001b[0m\u001b[0;34m=\u001b[0m\u001b[0mstep\u001b[0m\u001b[0;34m,\u001b[0m \u001b[0mkind\u001b[0m\u001b[0;34m=\u001b[0m\u001b[0mkind\u001b[0m\u001b[0;34m)\u001b[0m\u001b[0;34m\u001b[0m\u001b[0;34m\u001b[0m\u001b[0m\n\u001b[0m\u001b[1;32m   5035\u001b[0m \u001b[0;34m\u001b[0m\u001b[0m\n\u001b[1;32m   5036\u001b[0m         \u001b[0;31m# return a slice\u001b[0m\u001b[0;34m\u001b[0m\u001b[0;34m\u001b[0m\u001b[0;34m\u001b[0m\u001b[0m\n",
            "\u001b[0;32m/usr/local/lib/python3.6/dist-packages/pandas/core/indexes/base.py\u001b[0m in \u001b[0;36mslice_locs\u001b[0;34m(self, start, end, step, kind)\u001b[0m\n\u001b[1;32m   5246\u001b[0m         \u001b[0mstart_slice\u001b[0m \u001b[0;34m=\u001b[0m \u001b[0;32mNone\u001b[0m\u001b[0;34m\u001b[0m\u001b[0;34m\u001b[0m\u001b[0m\n\u001b[1;32m   5247\u001b[0m         \u001b[0;32mif\u001b[0m \u001b[0mstart\u001b[0m \u001b[0;32mis\u001b[0m \u001b[0;32mnot\u001b[0m \u001b[0;32mNone\u001b[0m\u001b[0;34m:\u001b[0m\u001b[0;34m\u001b[0m\u001b[0;34m\u001b[0m\u001b[0m\n\u001b[0;32m-> 5248\u001b[0;31m             \u001b[0mstart_slice\u001b[0m \u001b[0;34m=\u001b[0m \u001b[0mself\u001b[0m\u001b[0;34m.\u001b[0m\u001b[0mget_slice_bound\u001b[0m\u001b[0;34m(\u001b[0m\u001b[0mstart\u001b[0m\u001b[0;34m,\u001b[0m \u001b[0;34m\"left\"\u001b[0m\u001b[0;34m,\u001b[0m \u001b[0mkind\u001b[0m\u001b[0;34m)\u001b[0m\u001b[0;34m\u001b[0m\u001b[0;34m\u001b[0m\u001b[0m\n\u001b[0m\u001b[1;32m   5249\u001b[0m         \u001b[0;32mif\u001b[0m \u001b[0mstart_slice\u001b[0m \u001b[0;32mis\u001b[0m \u001b[0;32mNone\u001b[0m\u001b[0;34m:\u001b[0m\u001b[0;34m\u001b[0m\u001b[0;34m\u001b[0m\u001b[0m\n\u001b[1;32m   5250\u001b[0m             \u001b[0mstart_slice\u001b[0m \u001b[0;34m=\u001b[0m \u001b[0;36m0\u001b[0m\u001b[0;34m\u001b[0m\u001b[0;34m\u001b[0m\u001b[0m\n",
            "\u001b[0;32m/usr/local/lib/python3.6/dist-packages/pandas/core/indexes/base.py\u001b[0m in \u001b[0;36mget_slice_bound\u001b[0;34m(self, label, side, kind)\u001b[0m\n\u001b[1;32m   5180\u001b[0m                 raise KeyError(\n\u001b[1;32m   5181\u001b[0m                     \u001b[0;34m\"Cannot get %s slice bound for non-unique \"\u001b[0m\u001b[0;34m\u001b[0m\u001b[0;34m\u001b[0m\u001b[0m\n\u001b[0;32m-> 5182\u001b[0;31m                     \u001b[0;34m\"label: %r\"\u001b[0m \u001b[0;34m%\u001b[0m \u001b[0;34m(\u001b[0m\u001b[0mside\u001b[0m\u001b[0;34m,\u001b[0m \u001b[0moriginal_label\u001b[0m\u001b[0;34m)\u001b[0m\u001b[0;34m\u001b[0m\u001b[0;34m\u001b[0m\u001b[0m\n\u001b[0m\u001b[1;32m   5183\u001b[0m                 )\n\u001b[1;32m   5184\u001b[0m \u001b[0;34m\u001b[0m\u001b[0m\n",
            "\u001b[0;31mKeyError\u001b[0m: \"Cannot get left slice bound for non-unique label: 'd'\""
          ]
        }
      ]
    },
    {
      "cell_type": "markdown",
      "metadata": {
        "id": "ZVUaX2J4JjjL",
        "colab_type": "text"
      },
      "source": [
        "## iloc, loc"
      ]
    },
    {
      "cell_type": "code",
      "metadata": {
        "id": "nhrIs_vLJh5n",
        "colab_type": "code",
        "colab": {}
      },
      "source": [
        ""
      ],
      "execution_count": null,
      "outputs": []
    }
  ]
}