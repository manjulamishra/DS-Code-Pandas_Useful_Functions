{
  "nbformat": 4,
  "nbformat_minor": 0,
  "metadata": {
    "colab": {
      "name": "Join_Merge_Concat_in_Python.ipynb",
      "provenance": [],
      "include_colab_link": true
    },
    "kernelspec": {
      "name": "python3",
      "display_name": "Python 3"
    }
  },
  "cells": [
    {
      "cell_type": "markdown",
      "metadata": {
        "id": "view-in-github",
        "colab_type": "text"
      },
      "source": [
        "<a href=\"https://colab.research.google.com/github/manjulamishra/DS-Code-Pandas_Useful_Functions/blob/master/Join_Merge_Concat_in_Python.ipynb\" target=\"_parent\"><img src=\"https://colab.research.google.com/assets/colab-badge.svg\" alt=\"Open In Colab\"/></a>"
      ]
    },
    {
      "cell_type": "markdown",
      "metadata": {
        "id": "9BjosoPjgfYT",
        "colab_type": "text"
      },
      "source": [
        "# Joins\n"
      ]
    },
    {
      "cell_type": "code",
      "metadata": {
        "id": "t9JkIrNXhF-U",
        "colab_type": "code",
        "colab": {}
      },
      "source": [
        "import pandas as pd\n",
        "import numpy as np"
      ],
      "execution_count": null,
      "outputs": []
    },
    {
      "cell_type": "markdown",
      "metadata": {
        "id": "O93tIPHEhXnz",
        "colab_type": "text"
      },
      "source": [
        "## Self Join\n",
        "https://dfrieds.com/data-analysis/self-join-python-pandas\n",
        "\n",
        "https://stackoverflow.com/questions/41434723/self-join-with-pandas\n",
        "\n",
        "In SQL, self join is a join when you join a table to itself. This is helpful in comparing rows to one another, base don their values in columns, in a *single* table. "
      ]
    },
    {
      "cell_type": "markdown",
      "metadata": {
        "id": "Lk9PpwbDh6K6",
        "colab_type": "text"
      },
      "source": [
        "### An example\n",
        "basic real estate transcations\n",
        "\n",
        "**Create a table**\n",
        "table includes:\n",
        "1. a unique transaction id for each purchase\n",
        "2. A close date for each sale\n",
        "3. the buyer's name and seller's name\n",
        "\n",
        "Notice that Julia was a buyer for transaction id 1 and a seller for transaciton id 2"
      ]
    },
    {
      "cell_type": "markdown",
      "metadata": {
        "id": "H4vPJbJN1U01",
        "colab_type": "text"
      },
      "source": [
        "# Note\n",
        "I've been palying with changing names/duplicating Julia/Lara's name. So some of the comments might not even make sense as I'll read my notebook later. I should read the comments and change the names to match the comments/resutls"
      ]
    },
    {
      "cell_type": "code",
      "metadata": {
        "id": "5JkK7NJGhJZC",
        "colab_type": "code",
        "colab": {}
      },
      "source": [
        "dates = pd.date_range('2012-08-01', periods=5)\n",
        "data = pd.DataFrame({'transaction_id': [1,2,3,4,5],\n",
        "                    'close_date':dates,\n",
        "                    'buyer_name':['Julia', 'Joe', 'Jake', \"Jamie\", \"Jackie\"],\n",
        "                    'seller_name': ['Lara', 'Barbara', 'Julia', 'Emily', 'Mason' ]})"
      ],
      "execution_count": null,
      "outputs": []
    },
    {
      "cell_type": "code",
      "metadata": {
        "id": "OiGQyV_fjZGE",
        "colab_type": "code",
        "colab": {
          "base_uri": "https://localhost:8080/",
          "height": 198
        },
        "outputId": "f300280c-a7d1-46ad-cedf-758aad238a9f"
      },
      "source": [
        "data"
      ],
      "execution_count": null,
      "outputs": [
        {
          "output_type": "execute_result",
          "data": {
            "text/html": [
              "<div>\n",
              "<style scoped>\n",
              "    .dataframe tbody tr th:only-of-type {\n",
              "        vertical-align: middle;\n",
              "    }\n",
              "\n",
              "    .dataframe tbody tr th {\n",
              "        vertical-align: top;\n",
              "    }\n",
              "\n",
              "    .dataframe thead th {\n",
              "        text-align: right;\n",
              "    }\n",
              "</style>\n",
              "<table border=\"1\" class=\"dataframe\">\n",
              "  <thead>\n",
              "    <tr style=\"text-align: right;\">\n",
              "      <th></th>\n",
              "      <th>transaction_id</th>\n",
              "      <th>close_date</th>\n",
              "      <th>buyer_name</th>\n",
              "      <th>seller_name</th>\n",
              "    </tr>\n",
              "  </thead>\n",
              "  <tbody>\n",
              "    <tr>\n",
              "      <th>0</th>\n",
              "      <td>1</td>\n",
              "      <td>2012-08-01</td>\n",
              "      <td>Julia</td>\n",
              "      <td>Lara</td>\n",
              "    </tr>\n",
              "    <tr>\n",
              "      <th>1</th>\n",
              "      <td>2</td>\n",
              "      <td>2012-08-02</td>\n",
              "      <td>Joe</td>\n",
              "      <td>Barbara</td>\n",
              "    </tr>\n",
              "    <tr>\n",
              "      <th>2</th>\n",
              "      <td>3</td>\n",
              "      <td>2012-08-03</td>\n",
              "      <td>Jake</td>\n",
              "      <td>Julia</td>\n",
              "    </tr>\n",
              "    <tr>\n",
              "      <th>3</th>\n",
              "      <td>4</td>\n",
              "      <td>2012-08-04</td>\n",
              "      <td>Jamie</td>\n",
              "      <td>Emily</td>\n",
              "    </tr>\n",
              "    <tr>\n",
              "      <th>4</th>\n",
              "      <td>5</td>\n",
              "      <td>2012-08-05</td>\n",
              "      <td>Jackie</td>\n",
              "      <td>Mason</td>\n",
              "    </tr>\n",
              "  </tbody>\n",
              "</table>\n",
              "</div>"
            ],
            "text/plain": [
              "   transaction_id close_date buyer_name seller_name\n",
              "0               1 2012-08-01      Julia        Lara\n",
              "1               2 2012-08-02        Joe     Barbara\n",
              "2               3 2012-08-03       Jake       Julia\n",
              "3               4 2012-08-04      Jamie       Emily\n",
              "4               5 2012-08-05     Jackie       Mason"
            ]
          },
          "metadata": {
            "tags": []
          },
          "execution_count": 47
        }
      ]
    },
    {
      "cell_type": "markdown",
      "metadata": {
        "id": "9I9ar6rxjuE8",
        "colab_type": "text"
      },
      "source": [
        "## Find people who were Both Buyers and Sellers\n",
        "We want to know who are the people who bought a house but also sold a house. \n",
        "\n",
        "One method of finding a solution is to do a self join. In pandas, the DataFrame object has a merge() method. Below, for df, for the merge() method, I'll set the following arguments:\n",
        "\n",
        "1. right = df so that the first df listed in the statement merges with another DataFrame, df\n",
        "2. left_on = 'buyer_name' is the column to join from the left df\n",
        "3. right_on = 'seller_name' is the column to join from the right df\n",
        "\n",
        "BY default, these arguments are also set in the merge() method:\n",
        "*  how = 'inner' so the return results only \n",
        "show records in which the left df has a value in buyer_name equivalent to the right df with a vlaue if seller_name.\n",
        "*  suffixes = ('_x', '_y') so _x is appende dto the end of the column names for our left df if those column names originally match the right df. _y is appended to the end of column names from our right df if those column names originally match the left df.\n",
        "\n",
        "\n",
        "\n",
        "> Indented block\n",
        "\n"
      ]
    },
    {
      "cell_type": "code",
      "metadata": {
        "id": "fFJo6_g5jiyu",
        "colab_type": "code",
        "colab": {}
      },
      "source": [
        "df = data\n",
        "# we are merging the same df on two different columns\n",
        "#  we are saying that show the enteries which match buyers from df and sellers from df\n",
        "# it shows only those results but with all columns twice adding _x/_y as suffixes\n",
        "# I, on purpose, created a duplicate row for Juila and since the condition says that \n",
        "# get all the matching results, it repeats the first columns again for Julia's \n",
        "# second gig as a seller\n",
        "df2 = df.merge(right=df, left_on='buyer_name', right_on='seller_name')"
      ],
      "execution_count": null,
      "outputs": []
    },
    {
      "cell_type": "code",
      "metadata": {
        "id": "ttS9z_T_niVS",
        "colab_type": "code",
        "colab": {
          "base_uri": "https://localhost:8080/",
          "height": 98
        },
        "outputId": "7879ea0f-7628-4651-9a4e-2ce5638a7704"
      },
      "source": [
        "df2"
      ],
      "execution_count": null,
      "outputs": [
        {
          "output_type": "execute_result",
          "data": {
            "text/html": [
              "<div>\n",
              "<style scoped>\n",
              "    .dataframe tbody tr th:only-of-type {\n",
              "        vertical-align: middle;\n",
              "    }\n",
              "\n",
              "    .dataframe tbody tr th {\n",
              "        vertical-align: top;\n",
              "    }\n",
              "\n",
              "    .dataframe thead th {\n",
              "        text-align: right;\n",
              "    }\n",
              "</style>\n",
              "<table border=\"1\" class=\"dataframe\">\n",
              "  <thead>\n",
              "    <tr style=\"text-align: right;\">\n",
              "      <th></th>\n",
              "      <th>transaction_id_x</th>\n",
              "      <th>close_date_x</th>\n",
              "      <th>buyer_name_x</th>\n",
              "      <th>seller_name_x</th>\n",
              "      <th>transaction_id_y</th>\n",
              "      <th>close_date_y</th>\n",
              "      <th>buyer_name_y</th>\n",
              "      <th>seller_name_y</th>\n",
              "    </tr>\n",
              "  </thead>\n",
              "  <tbody>\n",
              "    <tr>\n",
              "      <th>0</th>\n",
              "      <td>1</td>\n",
              "      <td>2012-08-01</td>\n",
              "      <td>Julia</td>\n",
              "      <td>Lara</td>\n",
              "      <td>3</td>\n",
              "      <td>2012-08-03</td>\n",
              "      <td>Jake</td>\n",
              "      <td>Julia</td>\n",
              "    </tr>\n",
              "  </tbody>\n",
              "</table>\n",
              "</div>"
            ],
            "text/plain": [
              "   transaction_id_x close_date_x  ... buyer_name_y seller_name_y\n",
              "0                 1   2012-08-01  ...         Jake         Julia\n",
              "\n",
              "[1 rows x 8 columns]"
            ]
          },
          "metadata": {
            "tags": []
          },
          "execution_count": 49
        }
      ]
    },
    {
      "cell_type": "markdown",
      "metadata": {
        "id": "9nWS-rLWvmcP",
        "colab_type": "text"
      },
      "source": [
        "Our ouptput of df2 shows the details of Julia who bought a home and sold sold two homes\n",
        "\n",
        "*  we can find all unique values in the buyer_name_x field to programmatically arrive at our result"
      ]
    },
    {
      "cell_type": "code",
      "metadata": {
        "id": "hO5Eb5eQokwI",
        "colab_type": "code",
        "colab": {
          "base_uri": "https://localhost:8080/",
          "height": 35
        },
        "outputId": "6c42b5c2-9b21-46c6-d6fb-b25d008cbf3d"
      },
      "source": [
        "# when we do unique that means it will have only names \n",
        "# that we wanted to see repeat (the same name as buyers and sellers)\n",
        "df2['buyer_name_x'].unique()"
      ],
      "execution_count": null,
      "outputs": [
        {
          "output_type": "execute_result",
          "data": {
            "text/plain": [
              "array(['Julia'], dtype=object)"
            ]
          },
          "metadata": {
            "tags": []
          },
          "execution_count": 50
        }
      ]
    },
    {
      "cell_type": "markdown",
      "metadata": {
        "id": "53_FC4a2yxeS",
        "colab_type": "text"
      },
      "source": [
        "## Intermediate Real Estate Transcations"
      ]
    },
    {
      "cell_type": "markdown",
      "metadata": {
        "id": "26QRUGYwzVMZ",
        "colab_type": "text"
      },
      "source": [
        "### appneding new row to teh dataset\n",
        "let's crete a new row to the existing dataset in which Julia buys a second home"
      ]
    },
    {
      "cell_type": "code",
      "metadata": {
        "id": "9wEIbg6TwFml",
        "colab_type": "code",
        "colab": {}
      },
      "source": [
        "df.loc[5] = [6,'2012-08-05', 'Julia', 'Mary']"
      ],
      "execution_count": null,
      "outputs": []
    },
    {
      "cell_type": "code",
      "metadata": {
        "id": "bhRS_3QKzzn0",
        "colab_type": "code",
        "colab": {
          "base_uri": "https://localhost:8080/",
          "height": 228
        },
        "outputId": "f13a5836-f1f8-4bab-a04a-5a1787d9bd98"
      },
      "source": [
        "df"
      ],
      "execution_count": null,
      "outputs": [
        {
          "output_type": "execute_result",
          "data": {
            "text/html": [
              "<div>\n",
              "<style scoped>\n",
              "    .dataframe tbody tr th:only-of-type {\n",
              "        vertical-align: middle;\n",
              "    }\n",
              "\n",
              "    .dataframe tbody tr th {\n",
              "        vertical-align: top;\n",
              "    }\n",
              "\n",
              "    .dataframe thead th {\n",
              "        text-align: right;\n",
              "    }\n",
              "</style>\n",
              "<table border=\"1\" class=\"dataframe\">\n",
              "  <thead>\n",
              "    <tr style=\"text-align: right;\">\n",
              "      <th></th>\n",
              "      <th>transaction_id</th>\n",
              "      <th>close_date</th>\n",
              "      <th>buyer_name</th>\n",
              "      <th>seller_name</th>\n",
              "    </tr>\n",
              "  </thead>\n",
              "  <tbody>\n",
              "    <tr>\n",
              "      <th>0</th>\n",
              "      <td>1</td>\n",
              "      <td>2012-08-01 00:00:00</td>\n",
              "      <td>Julia</td>\n",
              "      <td>Lara</td>\n",
              "    </tr>\n",
              "    <tr>\n",
              "      <th>1</th>\n",
              "      <td>2</td>\n",
              "      <td>2012-08-02 00:00:00</td>\n",
              "      <td>Joe</td>\n",
              "      <td>Barbara</td>\n",
              "    </tr>\n",
              "    <tr>\n",
              "      <th>2</th>\n",
              "      <td>3</td>\n",
              "      <td>2012-08-03 00:00:00</td>\n",
              "      <td>Jake</td>\n",
              "      <td>Julia</td>\n",
              "    </tr>\n",
              "    <tr>\n",
              "      <th>3</th>\n",
              "      <td>4</td>\n",
              "      <td>2012-08-04 00:00:00</td>\n",
              "      <td>Jamie</td>\n",
              "      <td>Emily</td>\n",
              "    </tr>\n",
              "    <tr>\n",
              "      <th>4</th>\n",
              "      <td>5</td>\n",
              "      <td>2012-08-05 00:00:00</td>\n",
              "      <td>Jackie</td>\n",
              "      <td>Mason</td>\n",
              "    </tr>\n",
              "    <tr>\n",
              "      <th>5</th>\n",
              "      <td>6</td>\n",
              "      <td>2012-08-05</td>\n",
              "      <td>Julia</td>\n",
              "      <td>Mary</td>\n",
              "    </tr>\n",
              "  </tbody>\n",
              "</table>\n",
              "</div>"
            ],
            "text/plain": [
              "   transaction_id           close_date buyer_name seller_name\n",
              "0               1  2012-08-01 00:00:00      Julia        Lara\n",
              "1               2  2012-08-02 00:00:00        Joe     Barbara\n",
              "2               3  2012-08-03 00:00:00       Jake       Julia\n",
              "3               4  2012-08-04 00:00:00      Jamie       Emily\n",
              "4               5  2012-08-05 00:00:00     Jackie       Mason\n",
              "5               6           2012-08-05      Julia        Mary"
            ]
          },
          "metadata": {
            "tags": []
          },
          "execution_count": 52
        }
      ]
    },
    {
      "cell_type": "markdown",
      "metadata": {
        "id": "6WocKLMmz-6P",
        "colab_type": "text"
      },
      "source": [
        "### Find people who are both buyers and sellers"
      ]
    },
    {
      "cell_type": "code",
      "metadata": {
        "id": "TAusBmB3z0R-",
        "colab_type": "code",
        "colab": {
          "base_uri": "https://localhost:8080/",
          "height": 163
        },
        "outputId": "b9f52e59-dbcf-4f87-94fa-a1dfbd0bb34b"
      },
      "source": [
        "df3 = df.merge(right=df, left_on='buyer_name', right_on='seller_name')\n",
        "df3"
      ],
      "execution_count": null,
      "outputs": [
        {
          "output_type": "execute_result",
          "data": {
            "text/html": [
              "<div>\n",
              "<style scoped>\n",
              "    .dataframe tbody tr th:only-of-type {\n",
              "        vertical-align: middle;\n",
              "    }\n",
              "\n",
              "    .dataframe tbody tr th {\n",
              "        vertical-align: top;\n",
              "    }\n",
              "\n",
              "    .dataframe thead th {\n",
              "        text-align: right;\n",
              "    }\n",
              "</style>\n",
              "<table border=\"1\" class=\"dataframe\">\n",
              "  <thead>\n",
              "    <tr style=\"text-align: right;\">\n",
              "      <th></th>\n",
              "      <th>transaction_id_x</th>\n",
              "      <th>close_date_x</th>\n",
              "      <th>buyer_name_x</th>\n",
              "      <th>seller_name_x</th>\n",
              "      <th>transaction_id_y</th>\n",
              "      <th>close_date_y</th>\n",
              "      <th>buyer_name_y</th>\n",
              "      <th>seller_name_y</th>\n",
              "    </tr>\n",
              "  </thead>\n",
              "  <tbody>\n",
              "    <tr>\n",
              "      <th>0</th>\n",
              "      <td>1</td>\n",
              "      <td>2012-08-01 00:00:00</td>\n",
              "      <td>Julia</td>\n",
              "      <td>Lara</td>\n",
              "      <td>3</td>\n",
              "      <td>2012-08-03 00:00:00</td>\n",
              "      <td>Jake</td>\n",
              "      <td>Julia</td>\n",
              "    </tr>\n",
              "    <tr>\n",
              "      <th>1</th>\n",
              "      <td>6</td>\n",
              "      <td>2012-08-05</td>\n",
              "      <td>Julia</td>\n",
              "      <td>Mary</td>\n",
              "      <td>3</td>\n",
              "      <td>2012-08-03 00:00:00</td>\n",
              "      <td>Jake</td>\n",
              "      <td>Julia</td>\n",
              "    </tr>\n",
              "  </tbody>\n",
              "</table>\n",
              "</div>"
            ],
            "text/plain": [
              "   transaction_id_x         close_date_x  ... buyer_name_y seller_name_y\n",
              "0                 1  2012-08-01 00:00:00  ...         Jake         Julia\n",
              "1                 6           2012-08-05  ...         Jake         Julia\n",
              "\n",
              "[2 rows x 8 columns]"
            ]
          },
          "metadata": {
            "tags": []
          },
          "execution_count": 53
        }
      ]
    },
    {
      "cell_type": "markdown",
      "metadata": {
        "id": "9itYqS_81tNR",
        "colab_type": "text"
      },
      "source": [
        "### Explanation\n",
        "the first record indicates Juila's purchase for transcation_id of 1 and later a sale with transcation_id 3\n",
        "\n",
        "the second record indicates Julia's purchase for transcation_id of 6 anfd later a sale with transcation_id 3\n",
        "\n",
        "This is the correct output as i wanted all rows to of df joined with df in which a buyer_name from the left df matched to seller_name from the right df.\n",
        "\n",
        "All unique values of the buyer_name_x field arrive at the same conclusion."
      ]
    },
    {
      "cell_type": "code",
      "metadata": {
        "id": "TGRwOb850Xse",
        "colab_type": "code",
        "colab": {
          "base_uri": "https://localhost:8080/",
          "height": 35
        },
        "outputId": "0193b691-664d-4efc-f90a-0f20cfd9c8b1"
      },
      "source": [
        "df2['buyer_name_x'].unique()"
      ],
      "execution_count": null,
      "outputs": [
        {
          "output_type": "execute_result",
          "data": {
            "text/plain": [
              "array(['Julia'], dtype=object)"
            ]
          },
          "metadata": {
            "tags": []
          },
          "execution_count": 55
        }
      ]
    },
    {
      "cell_type": "markdown",
      "metadata": {
        "id": "6pLqu6Os4T-B",
        "colab_type": "text"
      },
      "source": [
        "# Difference between join(), merge(), and concat()\n",
        "\n",
        "https://martin-thoma.com/pandas-merge-join-concatenate/"
      ]
    },
    {
      "cell_type": "markdown",
      "metadata": {
        "id": "9cLRpa1O52LB",
        "colab_type": "text"
      },
      "source": [
        "*  merge by default uses inner join which means it takes only the common observations from both dataset into account\n",
        "\n",
        "*  \n",
        "\n"
      ]
    },
    {
      "cell_type": "code",
      "metadata": {
        "id": "WDu139HZ7dMY",
        "colab_type": "code",
        "colab": {
          "base_uri": "https://localhost:8080/",
          "height": 348
        },
        "outputId": "13923cfb-015b-4ac3-d224-499fae8305f1"
      },
      "source": [
        "dates = pd.date_range('2012-08-01', periods=10)\n",
        "df = pd.DataFrame({'transaction_id': range(0,10),\n",
        "                    'close_date':dates,\n",
        "                    'buyer_name':['Julia', 'Jim', 'Jake', \"Jill\", \"Jackie\", \"Nimita\", 'Manjula', 'Ajay', 'Ojas', 'James'],\n",
        "                    'seller_name': ['Jim', 'Barbara', 'Julia', 'Emily', 'Mason',\"Nimmu\", 'Maggi', 'Kayla', 'James', 'Ojas' ]})\n",
        "df"
      ],
      "execution_count": null,
      "outputs": [
        {
          "output_type": "execute_result",
          "data": {
            "text/html": [
              "<div>\n",
              "<style scoped>\n",
              "    .dataframe tbody tr th:only-of-type {\n",
              "        vertical-align: middle;\n",
              "    }\n",
              "\n",
              "    .dataframe tbody tr th {\n",
              "        vertical-align: top;\n",
              "    }\n",
              "\n",
              "    .dataframe thead th {\n",
              "        text-align: right;\n",
              "    }\n",
              "</style>\n",
              "<table border=\"1\" class=\"dataframe\">\n",
              "  <thead>\n",
              "    <tr style=\"text-align: right;\">\n",
              "      <th></th>\n",
              "      <th>transaction_id</th>\n",
              "      <th>close_date</th>\n",
              "      <th>buyer_name</th>\n",
              "      <th>seller_name</th>\n",
              "    </tr>\n",
              "  </thead>\n",
              "  <tbody>\n",
              "    <tr>\n",
              "      <th>0</th>\n",
              "      <td>0</td>\n",
              "      <td>2012-08-01</td>\n",
              "      <td>Julia</td>\n",
              "      <td>Jim</td>\n",
              "    </tr>\n",
              "    <tr>\n",
              "      <th>1</th>\n",
              "      <td>1</td>\n",
              "      <td>2012-08-02</td>\n",
              "      <td>Jim</td>\n",
              "      <td>Barbara</td>\n",
              "    </tr>\n",
              "    <tr>\n",
              "      <th>2</th>\n",
              "      <td>2</td>\n",
              "      <td>2012-08-03</td>\n",
              "      <td>Jake</td>\n",
              "      <td>Julia</td>\n",
              "    </tr>\n",
              "    <tr>\n",
              "      <th>3</th>\n",
              "      <td>3</td>\n",
              "      <td>2012-08-04</td>\n",
              "      <td>Jill</td>\n",
              "      <td>Emily</td>\n",
              "    </tr>\n",
              "    <tr>\n",
              "      <th>4</th>\n",
              "      <td>4</td>\n",
              "      <td>2012-08-05</td>\n",
              "      <td>Jackie</td>\n",
              "      <td>Mason</td>\n",
              "    </tr>\n",
              "    <tr>\n",
              "      <th>5</th>\n",
              "      <td>5</td>\n",
              "      <td>2012-08-06</td>\n",
              "      <td>Nimita</td>\n",
              "      <td>Nimmu</td>\n",
              "    </tr>\n",
              "    <tr>\n",
              "      <th>6</th>\n",
              "      <td>6</td>\n",
              "      <td>2012-08-07</td>\n",
              "      <td>Manjula</td>\n",
              "      <td>Maggi</td>\n",
              "    </tr>\n",
              "    <tr>\n",
              "      <th>7</th>\n",
              "      <td>7</td>\n",
              "      <td>2012-08-08</td>\n",
              "      <td>Ajay</td>\n",
              "      <td>Kayla</td>\n",
              "    </tr>\n",
              "    <tr>\n",
              "      <th>8</th>\n",
              "      <td>8</td>\n",
              "      <td>2012-08-09</td>\n",
              "      <td>Ojas</td>\n",
              "      <td>James</td>\n",
              "    </tr>\n",
              "    <tr>\n",
              "      <th>9</th>\n",
              "      <td>9</td>\n",
              "      <td>2012-08-10</td>\n",
              "      <td>James</td>\n",
              "      <td>Ojas</td>\n",
              "    </tr>\n",
              "  </tbody>\n",
              "</table>\n",
              "</div>"
            ],
            "text/plain": [
              "   transaction_id close_date buyer_name seller_name\n",
              "0               0 2012-08-01      Julia         Jim\n",
              "1               1 2012-08-02        Jim     Barbara\n",
              "2               2 2012-08-03       Jake       Julia\n",
              "3               3 2012-08-04       Jill       Emily\n",
              "4               4 2012-08-05     Jackie       Mason\n",
              "5               5 2012-08-06     Nimita       Nimmu\n",
              "6               6 2012-08-07    Manjula       Maggi\n",
              "7               7 2012-08-08       Ajay       Kayla\n",
              "8               8 2012-08-09       Ojas       James\n",
              "9               9 2012-08-10      James        Ojas"
            ]
          },
          "metadata": {
            "tags": []
          },
          "execution_count": 24
        }
      ]
    },
    {
      "cell_type": "code",
      "metadata": {
        "id": "wsCfqumQ76zD",
        "colab_type": "code",
        "colab": {}
      },
      "source": [
        "dates = pd.date_range('2012-08-01', periods=5)\n",
        "df2 = pd.DataFrame({'transaction_id': [1,2,3,4,5],\n",
        "                    'close_date':dates,\n",
        "                    'buyer_name':['Julia', 'Joe', 'Jake', \"Jamie\", \"Jackie\"],\n",
        "                    'seller_name': ['Lara', 'Barbara', 'Julia', 'Emily', 'Mason' ]})"
      ],
      "execution_count": null,
      "outputs": []
    },
    {
      "cell_type": "code",
      "metadata": {
        "id": "52T8rGhf8rFd",
        "colab_type": "code",
        "colab": {
          "base_uri": "https://localhost:8080/",
          "height": 198
        },
        "outputId": "0aff7955-5a3c-4f1e-9fcc-52bffc33381e"
      },
      "source": [
        "df2"
      ],
      "execution_count": null,
      "outputs": [
        {
          "output_type": "execute_result",
          "data": {
            "text/html": [
              "<div>\n",
              "<style scoped>\n",
              "    .dataframe tbody tr th:only-of-type {\n",
              "        vertical-align: middle;\n",
              "    }\n",
              "\n",
              "    .dataframe tbody tr th {\n",
              "        vertical-align: top;\n",
              "    }\n",
              "\n",
              "    .dataframe thead th {\n",
              "        text-align: right;\n",
              "    }\n",
              "</style>\n",
              "<table border=\"1\" class=\"dataframe\">\n",
              "  <thead>\n",
              "    <tr style=\"text-align: right;\">\n",
              "      <th></th>\n",
              "      <th>transaction_id</th>\n",
              "      <th>close_date</th>\n",
              "      <th>buyer_name</th>\n",
              "      <th>seller_name</th>\n",
              "    </tr>\n",
              "  </thead>\n",
              "  <tbody>\n",
              "    <tr>\n",
              "      <th>0</th>\n",
              "      <td>1</td>\n",
              "      <td>2012-08-01</td>\n",
              "      <td>Julia</td>\n",
              "      <td>Lara</td>\n",
              "    </tr>\n",
              "    <tr>\n",
              "      <th>1</th>\n",
              "      <td>2</td>\n",
              "      <td>2012-08-02</td>\n",
              "      <td>Joe</td>\n",
              "      <td>Barbara</td>\n",
              "    </tr>\n",
              "    <tr>\n",
              "      <th>2</th>\n",
              "      <td>3</td>\n",
              "      <td>2012-08-03</td>\n",
              "      <td>Jake</td>\n",
              "      <td>Julia</td>\n",
              "    </tr>\n",
              "    <tr>\n",
              "      <th>3</th>\n",
              "      <td>4</td>\n",
              "      <td>2012-08-04</td>\n",
              "      <td>Jamie</td>\n",
              "      <td>Emily</td>\n",
              "    </tr>\n",
              "    <tr>\n",
              "      <th>4</th>\n",
              "      <td>5</td>\n",
              "      <td>2012-08-05</td>\n",
              "      <td>Jackie</td>\n",
              "      <td>Mason</td>\n",
              "    </tr>\n",
              "  </tbody>\n",
              "</table>\n",
              "</div>"
            ],
            "text/plain": [
              "   transaction_id close_date buyer_name seller_name\n",
              "0               1 2012-08-01      Julia        Lara\n",
              "1               2 2012-08-02        Joe     Barbara\n",
              "2               3 2012-08-03       Jake       Julia\n",
              "3               4 2012-08-04      Jamie       Emily\n",
              "4               5 2012-08-05     Jackie       Mason"
            ]
          },
          "metadata": {
            "tags": []
          },
          "execution_count": 26
        }
      ]
    },
    {
      "cell_type": "markdown",
      "metadata": {
        "id": "uOSeqes9rmJH",
        "colab_type": "text"
      },
      "source": [
        "# Merge()\n",
        "\n",
        "to perform multiple dfs merge\n",
        " \n",
        "pd.merge(pd.merge(df1,df2,on='name'),df3,on='name')"
      ]
    },
    {
      "cell_type": "markdown",
      "metadata": {
        "id": "wi4HDZ3Mmn0q",
        "colab_type": "text"
      },
      "source": [
        "## Merge Inner"
      ]
    },
    {
      "cell_type": "code",
      "metadata": {
        "id": "RI1AVvbasIJN",
        "colab_type": "code",
        "colab": {}
      },
      "source": [
        ""
      ],
      "execution_count": null,
      "outputs": []
    },
    {
      "cell_type": "markdown",
      "metadata": {
        "id": "P3hiR9Xlmref",
        "colab_type": "text"
      },
      "source": [
        "### default how='inner'\n",
        "\n",
        "if not metioned, merge automatically performs inner join\n",
        "\n",
        "You metion which column(s) you want to merge on. You can do inner merge of multiple columns"
      ]
    },
    {
      "cell_type": "code",
      "metadata": {
        "id": "zeCJjDWX8sZ-",
        "colab_type": "code",
        "colab": {
          "base_uri": "https://localhost:8080/",
          "height": 138
        },
        "outputId": "ce59e7c9-3074-481a-cfee-e66ca53006b1"
      },
      "source": [
        "# df2.merge(df, on='close_date')\n",
        "# df2.merge(df, on='close_date', how='inner') \n",
        "df2.merge(df, on=['close_date', 'buyer_name'])"
      ],
      "execution_count": null,
      "outputs": [
        {
          "output_type": "execute_result",
          "data": {
            "text/html": [
              "<div>\n",
              "<style scoped>\n",
              "    .dataframe tbody tr th:only-of-type {\n",
              "        vertical-align: middle;\n",
              "    }\n",
              "\n",
              "    .dataframe tbody tr th {\n",
              "        vertical-align: top;\n",
              "    }\n",
              "\n",
              "    .dataframe thead th {\n",
              "        text-align: right;\n",
              "    }\n",
              "</style>\n",
              "<table border=\"1\" class=\"dataframe\">\n",
              "  <thead>\n",
              "    <tr style=\"text-align: right;\">\n",
              "      <th></th>\n",
              "      <th>transaction_id_x</th>\n",
              "      <th>close_date</th>\n",
              "      <th>buyer_name</th>\n",
              "      <th>seller_name_x</th>\n",
              "      <th>transaction_id_y</th>\n",
              "      <th>seller_name_y</th>\n",
              "    </tr>\n",
              "  </thead>\n",
              "  <tbody>\n",
              "    <tr>\n",
              "      <th>0</th>\n",
              "      <td>1</td>\n",
              "      <td>2012-08-01</td>\n",
              "      <td>Julia</td>\n",
              "      <td>Lara</td>\n",
              "      <td>0</td>\n",
              "      <td>Jim</td>\n",
              "    </tr>\n",
              "    <tr>\n",
              "      <th>1</th>\n",
              "      <td>3</td>\n",
              "      <td>2012-08-03</td>\n",
              "      <td>Jake</td>\n",
              "      <td>Julia</td>\n",
              "      <td>2</td>\n",
              "      <td>Julia</td>\n",
              "    </tr>\n",
              "    <tr>\n",
              "      <th>2</th>\n",
              "      <td>5</td>\n",
              "      <td>2012-08-05</td>\n",
              "      <td>Jackie</td>\n",
              "      <td>Mason</td>\n",
              "      <td>4</td>\n",
              "      <td>Mason</td>\n",
              "    </tr>\n",
              "  </tbody>\n",
              "</table>\n",
              "</div>"
            ],
            "text/plain": [
              "   transaction_id_x close_date  ... transaction_id_y seller_name_y\n",
              "0                 1 2012-08-01  ...                0           Jim\n",
              "1                 3 2012-08-03  ...                2         Julia\n",
              "2                 5 2012-08-05  ...                4         Mason\n",
              "\n",
              "[3 rows x 6 columns]"
            ]
          },
          "metadata": {
            "tags": []
          },
          "execution_count": 36
        }
      ]
    },
    {
      "cell_type": "markdown",
      "metadata": {
        "id": "eUP0HIhTnx54",
        "colab_type": "text"
      },
      "source": [
        "## Left Merge\n",
        "\n",
        "left merge is when all the rows and columns from the left table are kept in final table but only the matching rows from the right are joined. If the left table doesn't have the matching rows, it's replaced with NaNs"
      ]
    },
    {
      "cell_type": "code",
      "metadata": {
        "id": "v45biHD-Achr",
        "colab_type": "code",
        "colab": {
          "base_uri": "https://localhost:8080/",
          "height": 348
        },
        "outputId": "fd12f89c-4a00-409a-bc0e-029e16675d59"
      },
      "source": [
        "#  since df has more rows than df2, when we merge df2, \n",
        "# it creates NaNs for the values not foun din df2\n",
        "df.merge(df2, on='close_date', how='left')"
      ],
      "execution_count": null,
      "outputs": [
        {
          "output_type": "execute_result",
          "data": {
            "text/html": [
              "<div>\n",
              "<style scoped>\n",
              "    .dataframe tbody tr th:only-of-type {\n",
              "        vertical-align: middle;\n",
              "    }\n",
              "\n",
              "    .dataframe tbody tr th {\n",
              "        vertical-align: top;\n",
              "    }\n",
              "\n",
              "    .dataframe thead th {\n",
              "        text-align: right;\n",
              "    }\n",
              "</style>\n",
              "<table border=\"1\" class=\"dataframe\">\n",
              "  <thead>\n",
              "    <tr style=\"text-align: right;\">\n",
              "      <th></th>\n",
              "      <th>transaction_id_x</th>\n",
              "      <th>close_date</th>\n",
              "      <th>buyer_name_x</th>\n",
              "      <th>seller_name_x</th>\n",
              "      <th>transaction_id_y</th>\n",
              "      <th>buyer_name_y</th>\n",
              "      <th>seller_name_y</th>\n",
              "    </tr>\n",
              "  </thead>\n",
              "  <tbody>\n",
              "    <tr>\n",
              "      <th>0</th>\n",
              "      <td>0</td>\n",
              "      <td>2012-08-01</td>\n",
              "      <td>Julia</td>\n",
              "      <td>Jim</td>\n",
              "      <td>1.0</td>\n",
              "      <td>Julia</td>\n",
              "      <td>Lara</td>\n",
              "    </tr>\n",
              "    <tr>\n",
              "      <th>1</th>\n",
              "      <td>1</td>\n",
              "      <td>2012-08-02</td>\n",
              "      <td>Jim</td>\n",
              "      <td>Barbara</td>\n",
              "      <td>2.0</td>\n",
              "      <td>Joe</td>\n",
              "      <td>Barbara</td>\n",
              "    </tr>\n",
              "    <tr>\n",
              "      <th>2</th>\n",
              "      <td>2</td>\n",
              "      <td>2012-08-03</td>\n",
              "      <td>Jake</td>\n",
              "      <td>Julia</td>\n",
              "      <td>3.0</td>\n",
              "      <td>Jake</td>\n",
              "      <td>Julia</td>\n",
              "    </tr>\n",
              "    <tr>\n",
              "      <th>3</th>\n",
              "      <td>3</td>\n",
              "      <td>2012-08-04</td>\n",
              "      <td>Jill</td>\n",
              "      <td>Emily</td>\n",
              "      <td>4.0</td>\n",
              "      <td>Jamie</td>\n",
              "      <td>Emily</td>\n",
              "    </tr>\n",
              "    <tr>\n",
              "      <th>4</th>\n",
              "      <td>4</td>\n",
              "      <td>2012-08-05</td>\n",
              "      <td>Jackie</td>\n",
              "      <td>Mason</td>\n",
              "      <td>5.0</td>\n",
              "      <td>Jackie</td>\n",
              "      <td>Mason</td>\n",
              "    </tr>\n",
              "    <tr>\n",
              "      <th>5</th>\n",
              "      <td>5</td>\n",
              "      <td>2012-08-06</td>\n",
              "      <td>Nimita</td>\n",
              "      <td>Nimmu</td>\n",
              "      <td>NaN</td>\n",
              "      <td>NaN</td>\n",
              "      <td>NaN</td>\n",
              "    </tr>\n",
              "    <tr>\n",
              "      <th>6</th>\n",
              "      <td>6</td>\n",
              "      <td>2012-08-07</td>\n",
              "      <td>Manjula</td>\n",
              "      <td>Maggi</td>\n",
              "      <td>NaN</td>\n",
              "      <td>NaN</td>\n",
              "      <td>NaN</td>\n",
              "    </tr>\n",
              "    <tr>\n",
              "      <th>7</th>\n",
              "      <td>7</td>\n",
              "      <td>2012-08-08</td>\n",
              "      <td>Ajay</td>\n",
              "      <td>Kayla</td>\n",
              "      <td>NaN</td>\n",
              "      <td>NaN</td>\n",
              "      <td>NaN</td>\n",
              "    </tr>\n",
              "    <tr>\n",
              "      <th>8</th>\n",
              "      <td>8</td>\n",
              "      <td>2012-08-09</td>\n",
              "      <td>Ojas</td>\n",
              "      <td>James</td>\n",
              "      <td>NaN</td>\n",
              "      <td>NaN</td>\n",
              "      <td>NaN</td>\n",
              "    </tr>\n",
              "    <tr>\n",
              "      <th>9</th>\n",
              "      <td>9</td>\n",
              "      <td>2012-08-10</td>\n",
              "      <td>James</td>\n",
              "      <td>Ojas</td>\n",
              "      <td>NaN</td>\n",
              "      <td>NaN</td>\n",
              "      <td>NaN</td>\n",
              "    </tr>\n",
              "  </tbody>\n",
              "</table>\n",
              "</div>"
            ],
            "text/plain": [
              "   transaction_id_x close_date  ... buyer_name_y seller_name_y\n",
              "0                 0 2012-08-01  ...        Julia          Lara\n",
              "1                 1 2012-08-02  ...          Joe       Barbara\n",
              "2                 2 2012-08-03  ...         Jake         Julia\n",
              "3                 3 2012-08-04  ...        Jamie         Emily\n",
              "4                 4 2012-08-05  ...       Jackie         Mason\n",
              "5                 5 2012-08-06  ...          NaN           NaN\n",
              "6                 6 2012-08-07  ...          NaN           NaN\n",
              "7                 7 2012-08-08  ...          NaN           NaN\n",
              "8                 8 2012-08-09  ...          NaN           NaN\n",
              "9                 9 2012-08-10  ...          NaN           NaN\n",
              "\n",
              "[10 rows x 7 columns]"
            ]
          },
          "metadata": {
            "tags": []
          },
          "execution_count": 37
        }
      ]
    },
    {
      "cell_type": "markdown",
      "metadata": {
        "id": "khhDw78Ao5BD",
        "colab_type": "text"
      },
      "source": [
        "## Merge Right\n",
        "\n",
        "Right merge is just opposite to the Left Join\n"
      ]
    },
    {
      "cell_type": "code",
      "metadata": {
        "id": "KjyJ-4PSoexB",
        "colab_type": "code",
        "colab": {
          "base_uri": "https://localhost:8080/",
          "height": 198
        },
        "outputId": "0b1398af-4168-4110-ec66-852a049d0899"
      },
      "source": [
        "df.merge(df2, on='buyer_name', how='right')"
      ],
      "execution_count": null,
      "outputs": [
        {
          "output_type": "execute_result",
          "data": {
            "text/html": [
              "<div>\n",
              "<style scoped>\n",
              "    .dataframe tbody tr th:only-of-type {\n",
              "        vertical-align: middle;\n",
              "    }\n",
              "\n",
              "    .dataframe tbody tr th {\n",
              "        vertical-align: top;\n",
              "    }\n",
              "\n",
              "    .dataframe thead th {\n",
              "        text-align: right;\n",
              "    }\n",
              "</style>\n",
              "<table border=\"1\" class=\"dataframe\">\n",
              "  <thead>\n",
              "    <tr style=\"text-align: right;\">\n",
              "      <th></th>\n",
              "      <th>transaction_id_x</th>\n",
              "      <th>close_date_x</th>\n",
              "      <th>buyer_name</th>\n",
              "      <th>seller_name_x</th>\n",
              "      <th>transaction_id_y</th>\n",
              "      <th>close_date_y</th>\n",
              "      <th>seller_name_y</th>\n",
              "    </tr>\n",
              "  </thead>\n",
              "  <tbody>\n",
              "    <tr>\n",
              "      <th>0</th>\n",
              "      <td>0.0</td>\n",
              "      <td>2012-08-01</td>\n",
              "      <td>Julia</td>\n",
              "      <td>Jim</td>\n",
              "      <td>1</td>\n",
              "      <td>2012-08-01</td>\n",
              "      <td>Lara</td>\n",
              "    </tr>\n",
              "    <tr>\n",
              "      <th>1</th>\n",
              "      <td>2.0</td>\n",
              "      <td>2012-08-03</td>\n",
              "      <td>Jake</td>\n",
              "      <td>Julia</td>\n",
              "      <td>3</td>\n",
              "      <td>2012-08-03</td>\n",
              "      <td>Julia</td>\n",
              "    </tr>\n",
              "    <tr>\n",
              "      <th>2</th>\n",
              "      <td>4.0</td>\n",
              "      <td>2012-08-05</td>\n",
              "      <td>Jackie</td>\n",
              "      <td>Mason</td>\n",
              "      <td>5</td>\n",
              "      <td>2012-08-05</td>\n",
              "      <td>Mason</td>\n",
              "    </tr>\n",
              "    <tr>\n",
              "      <th>3</th>\n",
              "      <td>NaN</td>\n",
              "      <td>NaT</td>\n",
              "      <td>Joe</td>\n",
              "      <td>NaN</td>\n",
              "      <td>2</td>\n",
              "      <td>2012-08-02</td>\n",
              "      <td>Barbara</td>\n",
              "    </tr>\n",
              "    <tr>\n",
              "      <th>4</th>\n",
              "      <td>NaN</td>\n",
              "      <td>NaT</td>\n",
              "      <td>Jamie</td>\n",
              "      <td>NaN</td>\n",
              "      <td>4</td>\n",
              "      <td>2012-08-04</td>\n",
              "      <td>Emily</td>\n",
              "    </tr>\n",
              "  </tbody>\n",
              "</table>\n",
              "</div>"
            ],
            "text/plain": [
              "   transaction_id_x close_date_x  ... close_date_y seller_name_y\n",
              "0               0.0   2012-08-01  ...   2012-08-01          Lara\n",
              "1               2.0   2012-08-03  ...   2012-08-03         Julia\n",
              "2               4.0   2012-08-05  ...   2012-08-05         Mason\n",
              "3               NaN          NaT  ...   2012-08-02       Barbara\n",
              "4               NaN          NaT  ...   2012-08-04         Emily\n",
              "\n",
              "[5 rows x 7 columns]"
            ]
          },
          "metadata": {
            "tags": []
          },
          "execution_count": 38
        }
      ]
    },
    {
      "cell_type": "markdown",
      "metadata": {
        "id": "Au9an5fApMdz",
        "colab_type": "text"
      },
      "source": [
        "## Outer Merge\n",
        "\n",
        "Outer merge is when both dataframes are merged despite any commonalities. All rows and columns from both dfs are preserved in the resulting table"
      ]
    },
    {
      "cell_type": "code",
      "metadata": {
        "id": "5augnhm_pHC1",
        "colab_type": "code",
        "colab": {
          "base_uri": "https://localhost:8080/",
          "height": 348
        },
        "outputId": "ba7a35af-b052-4503-b183-17d45273e283"
      },
      "source": [
        "df.merge(df2, on='close_date', how='outer')"
      ],
      "execution_count": null,
      "outputs": [
        {
          "output_type": "execute_result",
          "data": {
            "text/html": [
              "<div>\n",
              "<style scoped>\n",
              "    .dataframe tbody tr th:only-of-type {\n",
              "        vertical-align: middle;\n",
              "    }\n",
              "\n",
              "    .dataframe tbody tr th {\n",
              "        vertical-align: top;\n",
              "    }\n",
              "\n",
              "    .dataframe thead th {\n",
              "        text-align: right;\n",
              "    }\n",
              "</style>\n",
              "<table border=\"1\" class=\"dataframe\">\n",
              "  <thead>\n",
              "    <tr style=\"text-align: right;\">\n",
              "      <th></th>\n",
              "      <th>transaction_id_x</th>\n",
              "      <th>close_date</th>\n",
              "      <th>buyer_name_x</th>\n",
              "      <th>seller_name_x</th>\n",
              "      <th>transaction_id_y</th>\n",
              "      <th>buyer_name_y</th>\n",
              "      <th>seller_name_y</th>\n",
              "    </tr>\n",
              "  </thead>\n",
              "  <tbody>\n",
              "    <tr>\n",
              "      <th>0</th>\n",
              "      <td>0</td>\n",
              "      <td>2012-08-01</td>\n",
              "      <td>Julia</td>\n",
              "      <td>Jim</td>\n",
              "      <td>1.0</td>\n",
              "      <td>Julia</td>\n",
              "      <td>Lara</td>\n",
              "    </tr>\n",
              "    <tr>\n",
              "      <th>1</th>\n",
              "      <td>1</td>\n",
              "      <td>2012-08-02</td>\n",
              "      <td>Jim</td>\n",
              "      <td>Barbara</td>\n",
              "      <td>2.0</td>\n",
              "      <td>Joe</td>\n",
              "      <td>Barbara</td>\n",
              "    </tr>\n",
              "    <tr>\n",
              "      <th>2</th>\n",
              "      <td>2</td>\n",
              "      <td>2012-08-03</td>\n",
              "      <td>Jake</td>\n",
              "      <td>Julia</td>\n",
              "      <td>3.0</td>\n",
              "      <td>Jake</td>\n",
              "      <td>Julia</td>\n",
              "    </tr>\n",
              "    <tr>\n",
              "      <th>3</th>\n",
              "      <td>3</td>\n",
              "      <td>2012-08-04</td>\n",
              "      <td>Jill</td>\n",
              "      <td>Emily</td>\n",
              "      <td>4.0</td>\n",
              "      <td>Jamie</td>\n",
              "      <td>Emily</td>\n",
              "    </tr>\n",
              "    <tr>\n",
              "      <th>4</th>\n",
              "      <td>4</td>\n",
              "      <td>2012-08-05</td>\n",
              "      <td>Jackie</td>\n",
              "      <td>Mason</td>\n",
              "      <td>5.0</td>\n",
              "      <td>Jackie</td>\n",
              "      <td>Mason</td>\n",
              "    </tr>\n",
              "    <tr>\n",
              "      <th>5</th>\n",
              "      <td>5</td>\n",
              "      <td>2012-08-06</td>\n",
              "      <td>Nimita</td>\n",
              "      <td>Nimmu</td>\n",
              "      <td>NaN</td>\n",
              "      <td>NaN</td>\n",
              "      <td>NaN</td>\n",
              "    </tr>\n",
              "    <tr>\n",
              "      <th>6</th>\n",
              "      <td>6</td>\n",
              "      <td>2012-08-07</td>\n",
              "      <td>Manjula</td>\n",
              "      <td>Maggi</td>\n",
              "      <td>NaN</td>\n",
              "      <td>NaN</td>\n",
              "      <td>NaN</td>\n",
              "    </tr>\n",
              "    <tr>\n",
              "      <th>7</th>\n",
              "      <td>7</td>\n",
              "      <td>2012-08-08</td>\n",
              "      <td>Ajay</td>\n",
              "      <td>Kayla</td>\n",
              "      <td>NaN</td>\n",
              "      <td>NaN</td>\n",
              "      <td>NaN</td>\n",
              "    </tr>\n",
              "    <tr>\n",
              "      <th>8</th>\n",
              "      <td>8</td>\n",
              "      <td>2012-08-09</td>\n",
              "      <td>Ojas</td>\n",
              "      <td>James</td>\n",
              "      <td>NaN</td>\n",
              "      <td>NaN</td>\n",
              "      <td>NaN</td>\n",
              "    </tr>\n",
              "    <tr>\n",
              "      <th>9</th>\n",
              "      <td>9</td>\n",
              "      <td>2012-08-10</td>\n",
              "      <td>James</td>\n",
              "      <td>Ojas</td>\n",
              "      <td>NaN</td>\n",
              "      <td>NaN</td>\n",
              "      <td>NaN</td>\n",
              "    </tr>\n",
              "  </tbody>\n",
              "</table>\n",
              "</div>"
            ],
            "text/plain": [
              "   transaction_id_x close_date  ... buyer_name_y seller_name_y\n",
              "0                 0 2012-08-01  ...        Julia          Lara\n",
              "1                 1 2012-08-02  ...          Joe       Barbara\n",
              "2                 2 2012-08-03  ...         Jake         Julia\n",
              "3                 3 2012-08-04  ...        Jamie         Emily\n",
              "4                 4 2012-08-05  ...       Jackie         Mason\n",
              "5                 5 2012-08-06  ...          NaN           NaN\n",
              "6                 6 2012-08-07  ...          NaN           NaN\n",
              "7                 7 2012-08-08  ...          NaN           NaN\n",
              "8                 8 2012-08-09  ...          NaN           NaN\n",
              "9                 9 2012-08-10  ...          NaN           NaN\n",
              "\n",
              "[10 rows x 7 columns]"
            ]
          },
          "metadata": {
            "tags": []
          },
          "execution_count": 40
        }
      ]
    },
    {
      "cell_type": "markdown",
      "metadata": {
        "id": "ptU6-pG91TBa",
        "colab_type": "text"
      },
      "source": [
        "## Set-Like Operations\n",
        "\n",
        "**Rows that appear in both df, df2, inner join/intersection**\n",
        "\n",
        "pd.merge(df1,df2)\n",
        "\n",
        "**Rows that appear in either or both df or df2 (union) it's outer join**\n",
        "\n",
        "pd.merge(df1,df2, how='outer')\n",
        "\n",
        "**Rows that appear in df1 but not in df2(set difference)**\n",
        "\n",
        "pd.merge(df1,df2, how='outer', indicator=True).query('_merge == \"left_only\"').drop(columns=['_merge'])"
      ]
    },
    {
      "cell_type": "markdown",
      "metadata": {
        "id": "fD-f2_8233GO",
        "colab_type": "text"
      },
      "source": [
        "##Rows that appear in df1 but not in df2(set difference)\n",
        "\n",
        "pd.merge(df1,df2, how='outer', indicator=True).query('_merge == \"left_only\"').drop(columns=['_merge'])"
      ]
    },
    {
      "cell_type": "code",
      "metadata": {
        "id": "9ysBUkIZ2-mj",
        "colab_type": "code",
        "colab": {
          "base_uri": "https://localhost:8080/",
          "height": 348
        },
        "outputId": "2bc45eb1-69d9-427c-9351-7e642617c5ba"
      },
      "source": [
        "df.merge(df2, how='outer', indicator=True).query('_merge==\"left_only\"').drop(columns=['_merge'])"
      ],
      "execution_count": null,
      "outputs": [
        {
          "output_type": "execute_result",
          "data": {
            "text/html": [
              "<div>\n",
              "<style scoped>\n",
              "    .dataframe tbody tr th:only-of-type {\n",
              "        vertical-align: middle;\n",
              "    }\n",
              "\n",
              "    .dataframe tbody tr th {\n",
              "        vertical-align: top;\n",
              "    }\n",
              "\n",
              "    .dataframe thead th {\n",
              "        text-align: right;\n",
              "    }\n",
              "</style>\n",
              "<table border=\"1\" class=\"dataframe\">\n",
              "  <thead>\n",
              "    <tr style=\"text-align: right;\">\n",
              "      <th></th>\n",
              "      <th>transaction_id</th>\n",
              "      <th>close_date</th>\n",
              "      <th>buyer_name</th>\n",
              "      <th>seller_name</th>\n",
              "    </tr>\n",
              "  </thead>\n",
              "  <tbody>\n",
              "    <tr>\n",
              "      <th>0</th>\n",
              "      <td>0</td>\n",
              "      <td>2012-08-01</td>\n",
              "      <td>Julia</td>\n",
              "      <td>Jim</td>\n",
              "    </tr>\n",
              "    <tr>\n",
              "      <th>1</th>\n",
              "      <td>1</td>\n",
              "      <td>2012-08-02</td>\n",
              "      <td>Jim</td>\n",
              "      <td>Barbara</td>\n",
              "    </tr>\n",
              "    <tr>\n",
              "      <th>2</th>\n",
              "      <td>2</td>\n",
              "      <td>2012-08-03</td>\n",
              "      <td>Jake</td>\n",
              "      <td>Julia</td>\n",
              "    </tr>\n",
              "    <tr>\n",
              "      <th>3</th>\n",
              "      <td>3</td>\n",
              "      <td>2012-08-04</td>\n",
              "      <td>Jill</td>\n",
              "      <td>Emily</td>\n",
              "    </tr>\n",
              "    <tr>\n",
              "      <th>4</th>\n",
              "      <td>4</td>\n",
              "      <td>2012-08-05</td>\n",
              "      <td>Jackie</td>\n",
              "      <td>Mason</td>\n",
              "    </tr>\n",
              "    <tr>\n",
              "      <th>5</th>\n",
              "      <td>5</td>\n",
              "      <td>2012-08-06</td>\n",
              "      <td>Nimita</td>\n",
              "      <td>Nimmu</td>\n",
              "    </tr>\n",
              "    <tr>\n",
              "      <th>6</th>\n",
              "      <td>6</td>\n",
              "      <td>2012-08-07</td>\n",
              "      <td>Manjula</td>\n",
              "      <td>Maggi</td>\n",
              "    </tr>\n",
              "    <tr>\n",
              "      <th>7</th>\n",
              "      <td>7</td>\n",
              "      <td>2012-08-08</td>\n",
              "      <td>Ajay</td>\n",
              "      <td>Kayla</td>\n",
              "    </tr>\n",
              "    <tr>\n",
              "      <th>8</th>\n",
              "      <td>8</td>\n",
              "      <td>2012-08-09</td>\n",
              "      <td>Ojas</td>\n",
              "      <td>James</td>\n",
              "    </tr>\n",
              "    <tr>\n",
              "      <th>9</th>\n",
              "      <td>9</td>\n",
              "      <td>2012-08-10</td>\n",
              "      <td>James</td>\n",
              "      <td>Ojas</td>\n",
              "    </tr>\n",
              "  </tbody>\n",
              "</table>\n",
              "</div>"
            ],
            "text/plain": [
              "   transaction_id close_date buyer_name seller_name\n",
              "0               0 2012-08-01      Julia         Jim\n",
              "1               1 2012-08-02        Jim     Barbara\n",
              "2               2 2012-08-03       Jake       Julia\n",
              "3               3 2012-08-04       Jill       Emily\n",
              "4               4 2012-08-05     Jackie       Mason\n",
              "5               5 2012-08-06     Nimita       Nimmu\n",
              "6               6 2012-08-07    Manjula       Maggi\n",
              "7               7 2012-08-08       Ajay       Kayla\n",
              "8               8 2012-08-09       Ojas       James\n",
              "9               9 2012-08-10      James        Ojas"
            ]
          },
          "metadata": {
            "tags": []
          },
          "execution_count": 68
        }
      ]
    },
    {
      "cell_type": "markdown",
      "metadata": {
        "id": "XHxpT29UpqiD",
        "colab_type": "text"
      },
      "source": [
        "# Joins\n",
        "\n",
        "Join is another way to merge tables. It's used when the merging is done on the index. \n",
        "\n",
        "For merge, the default behavior is to merge on columns. Join merges on indexes.\n",
        "\n",
        "Join columns with other df either on index or on a key column. \n",
        "\n",
        "\n",
        "DataFrame.join(other, on=None, how='left', lsuffix='', rsuffix='', sort=False)"
      ]
    },
    {
      "cell_type": "code",
      "metadata": {
        "id": "GMnytWies3zN",
        "colab_type": "code",
        "colab": {
          "base_uri": "https://localhost:8080/",
          "height": 348
        },
        "outputId": "3edaff56-8e10-46d4-f26d-548a812ab179"
      },
      "source": [
        "df"
      ],
      "execution_count": null,
      "outputs": [
        {
          "output_type": "execute_result",
          "data": {
            "text/html": [
              "<div>\n",
              "<style scoped>\n",
              "    .dataframe tbody tr th:only-of-type {\n",
              "        vertical-align: middle;\n",
              "    }\n",
              "\n",
              "    .dataframe tbody tr th {\n",
              "        vertical-align: top;\n",
              "    }\n",
              "\n",
              "    .dataframe thead th {\n",
              "        text-align: right;\n",
              "    }\n",
              "</style>\n",
              "<table border=\"1\" class=\"dataframe\">\n",
              "  <thead>\n",
              "    <tr style=\"text-align: right;\">\n",
              "      <th></th>\n",
              "      <th>transaction_id</th>\n",
              "      <th>close_date</th>\n",
              "      <th>buyer_name</th>\n",
              "      <th>seller_name</th>\n",
              "    </tr>\n",
              "  </thead>\n",
              "  <tbody>\n",
              "    <tr>\n",
              "      <th>0</th>\n",
              "      <td>0</td>\n",
              "      <td>2012-08-01</td>\n",
              "      <td>Julia</td>\n",
              "      <td>Jim</td>\n",
              "    </tr>\n",
              "    <tr>\n",
              "      <th>1</th>\n",
              "      <td>1</td>\n",
              "      <td>2012-08-02</td>\n",
              "      <td>Jim</td>\n",
              "      <td>Barbara</td>\n",
              "    </tr>\n",
              "    <tr>\n",
              "      <th>2</th>\n",
              "      <td>2</td>\n",
              "      <td>2012-08-03</td>\n",
              "      <td>Jake</td>\n",
              "      <td>Julia</td>\n",
              "    </tr>\n",
              "    <tr>\n",
              "      <th>3</th>\n",
              "      <td>3</td>\n",
              "      <td>2012-08-04</td>\n",
              "      <td>Jill</td>\n",
              "      <td>Emily</td>\n",
              "    </tr>\n",
              "    <tr>\n",
              "      <th>4</th>\n",
              "      <td>4</td>\n",
              "      <td>2012-08-05</td>\n",
              "      <td>Jackie</td>\n",
              "      <td>Mason</td>\n",
              "    </tr>\n",
              "    <tr>\n",
              "      <th>5</th>\n",
              "      <td>5</td>\n",
              "      <td>2012-08-06</td>\n",
              "      <td>Nimita</td>\n",
              "      <td>Nimmu</td>\n",
              "    </tr>\n",
              "    <tr>\n",
              "      <th>6</th>\n",
              "      <td>6</td>\n",
              "      <td>2012-08-07</td>\n",
              "      <td>Manjula</td>\n",
              "      <td>Maggi</td>\n",
              "    </tr>\n",
              "    <tr>\n",
              "      <th>7</th>\n",
              "      <td>7</td>\n",
              "      <td>2012-08-08</td>\n",
              "      <td>Ajay</td>\n",
              "      <td>Kayla</td>\n",
              "    </tr>\n",
              "    <tr>\n",
              "      <th>8</th>\n",
              "      <td>8</td>\n",
              "      <td>2012-08-09</td>\n",
              "      <td>Ojas</td>\n",
              "      <td>James</td>\n",
              "    </tr>\n",
              "    <tr>\n",
              "      <th>9</th>\n",
              "      <td>9</td>\n",
              "      <td>2012-08-10</td>\n",
              "      <td>James</td>\n",
              "      <td>Ojas</td>\n",
              "    </tr>\n",
              "  </tbody>\n",
              "</table>\n",
              "</div>"
            ],
            "text/plain": [
              "   transaction_id close_date buyer_name seller_name\n",
              "0               0 2012-08-01      Julia         Jim\n",
              "1               1 2012-08-02        Jim     Barbara\n",
              "2               2 2012-08-03       Jake       Julia\n",
              "3               3 2012-08-04       Jill       Emily\n",
              "4               4 2012-08-05     Jackie       Mason\n",
              "5               5 2012-08-06     Nimita       Nimmu\n",
              "6               6 2012-08-07    Manjula       Maggi\n",
              "7               7 2012-08-08       Ajay       Kayla\n",
              "8               8 2012-08-09       Ojas       James\n",
              "9               9 2012-08-10      James        Ojas"
            ]
          },
          "metadata": {
            "tags": []
          },
          "execution_count": 45
        }
      ]
    },
    {
      "cell_type": "markdown",
      "metadata": {
        "id": "HM1EMKK9wjbi",
        "colab_type": "text"
      },
      "source": [
        "### Index-to-index if a column isn't specified"
      ]
    },
    {
      "cell_type": "code",
      "metadata": {
        "id": "KLNOYO65pir8",
        "colab_type": "code",
        "colab": {
          "base_uri": "https://localhost:8080/",
          "height": 348
        },
        "outputId": "9ea748de-0418-47ee-9ddb-1bd68ec9f8d1"
      },
      "source": [
        "# join dataframes using indexes\n",
        "df.join(df2, how='outer', lsuffix='_x')"
      ],
      "execution_count": null,
      "outputs": [
        {
          "output_type": "execute_result",
          "data": {
            "text/html": [
              "<div>\n",
              "<style scoped>\n",
              "    .dataframe tbody tr th:only-of-type {\n",
              "        vertical-align: middle;\n",
              "    }\n",
              "\n",
              "    .dataframe tbody tr th {\n",
              "        vertical-align: top;\n",
              "    }\n",
              "\n",
              "    .dataframe thead th {\n",
              "        text-align: right;\n",
              "    }\n",
              "</style>\n",
              "<table border=\"1\" class=\"dataframe\">\n",
              "  <thead>\n",
              "    <tr style=\"text-align: right;\">\n",
              "      <th></th>\n",
              "      <th>transaction_id_x</th>\n",
              "      <th>close_date_x</th>\n",
              "      <th>buyer_name_x</th>\n",
              "      <th>seller_name_x</th>\n",
              "      <th>transaction_id</th>\n",
              "      <th>close_date</th>\n",
              "      <th>buyer_name</th>\n",
              "      <th>seller_name</th>\n",
              "    </tr>\n",
              "  </thead>\n",
              "  <tbody>\n",
              "    <tr>\n",
              "      <th>0</th>\n",
              "      <td>0</td>\n",
              "      <td>2012-08-01</td>\n",
              "      <td>Julia</td>\n",
              "      <td>Jim</td>\n",
              "      <td>1.0</td>\n",
              "      <td>2012-08-01</td>\n",
              "      <td>Julia</td>\n",
              "      <td>Lara</td>\n",
              "    </tr>\n",
              "    <tr>\n",
              "      <th>1</th>\n",
              "      <td>1</td>\n",
              "      <td>2012-08-02</td>\n",
              "      <td>Jim</td>\n",
              "      <td>Barbara</td>\n",
              "      <td>2.0</td>\n",
              "      <td>2012-08-02</td>\n",
              "      <td>Joe</td>\n",
              "      <td>Barbara</td>\n",
              "    </tr>\n",
              "    <tr>\n",
              "      <th>2</th>\n",
              "      <td>2</td>\n",
              "      <td>2012-08-03</td>\n",
              "      <td>Jake</td>\n",
              "      <td>Julia</td>\n",
              "      <td>3.0</td>\n",
              "      <td>2012-08-03</td>\n",
              "      <td>Jake</td>\n",
              "      <td>Julia</td>\n",
              "    </tr>\n",
              "    <tr>\n",
              "      <th>3</th>\n",
              "      <td>3</td>\n",
              "      <td>2012-08-04</td>\n",
              "      <td>Jill</td>\n",
              "      <td>Emily</td>\n",
              "      <td>4.0</td>\n",
              "      <td>2012-08-04</td>\n",
              "      <td>Jamie</td>\n",
              "      <td>Emily</td>\n",
              "    </tr>\n",
              "    <tr>\n",
              "      <th>4</th>\n",
              "      <td>4</td>\n",
              "      <td>2012-08-05</td>\n",
              "      <td>Jackie</td>\n",
              "      <td>Mason</td>\n",
              "      <td>5.0</td>\n",
              "      <td>2012-08-05</td>\n",
              "      <td>Jackie</td>\n",
              "      <td>Mason</td>\n",
              "    </tr>\n",
              "    <tr>\n",
              "      <th>5</th>\n",
              "      <td>5</td>\n",
              "      <td>2012-08-06</td>\n",
              "      <td>Nimita</td>\n",
              "      <td>Nimmu</td>\n",
              "      <td>NaN</td>\n",
              "      <td>NaT</td>\n",
              "      <td>NaN</td>\n",
              "      <td>NaN</td>\n",
              "    </tr>\n",
              "    <tr>\n",
              "      <th>6</th>\n",
              "      <td>6</td>\n",
              "      <td>2012-08-07</td>\n",
              "      <td>Manjula</td>\n",
              "      <td>Maggi</td>\n",
              "      <td>NaN</td>\n",
              "      <td>NaT</td>\n",
              "      <td>NaN</td>\n",
              "      <td>NaN</td>\n",
              "    </tr>\n",
              "    <tr>\n",
              "      <th>7</th>\n",
              "      <td>7</td>\n",
              "      <td>2012-08-08</td>\n",
              "      <td>Ajay</td>\n",
              "      <td>Kayla</td>\n",
              "      <td>NaN</td>\n",
              "      <td>NaT</td>\n",
              "      <td>NaN</td>\n",
              "      <td>NaN</td>\n",
              "    </tr>\n",
              "    <tr>\n",
              "      <th>8</th>\n",
              "      <td>8</td>\n",
              "      <td>2012-08-09</td>\n",
              "      <td>Ojas</td>\n",
              "      <td>James</td>\n",
              "      <td>NaN</td>\n",
              "      <td>NaT</td>\n",
              "      <td>NaN</td>\n",
              "      <td>NaN</td>\n",
              "    </tr>\n",
              "    <tr>\n",
              "      <th>9</th>\n",
              "      <td>9</td>\n",
              "      <td>2012-08-10</td>\n",
              "      <td>James</td>\n",
              "      <td>Ojas</td>\n",
              "      <td>NaN</td>\n",
              "      <td>NaT</td>\n",
              "      <td>NaN</td>\n",
              "      <td>NaN</td>\n",
              "    </tr>\n",
              "  </tbody>\n",
              "</table>\n",
              "</div>"
            ],
            "text/plain": [
              "   transaction_id_x close_date_x buyer_name_x  ... close_date  buyer_name seller_name\n",
              "0                 0   2012-08-01        Julia  ... 2012-08-01       Julia        Lara\n",
              "1                 1   2012-08-02          Jim  ... 2012-08-02         Joe     Barbara\n",
              "2                 2   2012-08-03         Jake  ... 2012-08-03        Jake       Julia\n",
              "3                 3   2012-08-04         Jill  ... 2012-08-04       Jamie       Emily\n",
              "4                 4   2012-08-05       Jackie  ... 2012-08-05      Jackie       Mason\n",
              "5                 5   2012-08-06       Nimita  ...        NaT         NaN         NaN\n",
              "6                 6   2012-08-07      Manjula  ...        NaT         NaN         NaN\n",
              "7                 7   2012-08-08         Ajay  ...        NaT         NaN         NaN\n",
              "8                 8   2012-08-09         Ojas  ...        NaT         NaN         NaN\n",
              "9                 9   2012-08-10        James  ...        NaT         NaN         NaN\n",
              "\n",
              "[10 rows x 8 columns]"
            ]
          },
          "metadata": {
            "tags": []
          },
          "execution_count": 54
        }
      ]
    },
    {
      "cell_type": "markdown",
      "metadata": {
        "id": "LYg2jysXw3Gf",
        "colab_type": "text"
      },
      "source": [
        "### Joining using a column where you set a column as index"
      ]
    },
    {
      "cell_type": "code",
      "metadata": {
        "id": "yXp6CYuKsPtx",
        "colab_type": "code",
        "colab": {
          "base_uri": "https://localhost:8080/",
          "height": 378
        },
        "outputId": "3a32cb54-6326-4525-8d76-6d8a59cb3fe8"
      },
      "source": [
        "#  in this case, we set a column as an index in both dfs\n",
        "# and joined on that column\n",
        "df.set_index('close_date').join(df2.set_index('close_date'), lsuffix='_x')"
      ],
      "execution_count": null,
      "outputs": [
        {
          "output_type": "execute_result",
          "data": {
            "text/html": [
              "<div>\n",
              "<style scoped>\n",
              "    .dataframe tbody tr th:only-of-type {\n",
              "        vertical-align: middle;\n",
              "    }\n",
              "\n",
              "    .dataframe tbody tr th {\n",
              "        vertical-align: top;\n",
              "    }\n",
              "\n",
              "    .dataframe thead th {\n",
              "        text-align: right;\n",
              "    }\n",
              "</style>\n",
              "<table border=\"1\" class=\"dataframe\">\n",
              "  <thead>\n",
              "    <tr style=\"text-align: right;\">\n",
              "      <th></th>\n",
              "      <th>transaction_id_x</th>\n",
              "      <th>buyer_name_x</th>\n",
              "      <th>seller_name_x</th>\n",
              "      <th>transaction_id</th>\n",
              "      <th>buyer_name</th>\n",
              "      <th>seller_name</th>\n",
              "    </tr>\n",
              "    <tr>\n",
              "      <th>close_date</th>\n",
              "      <th></th>\n",
              "      <th></th>\n",
              "      <th></th>\n",
              "      <th></th>\n",
              "      <th></th>\n",
              "      <th></th>\n",
              "    </tr>\n",
              "  </thead>\n",
              "  <tbody>\n",
              "    <tr>\n",
              "      <th>2012-08-01</th>\n",
              "      <td>0</td>\n",
              "      <td>Julia</td>\n",
              "      <td>Jim</td>\n",
              "      <td>1.0</td>\n",
              "      <td>Julia</td>\n",
              "      <td>Lara</td>\n",
              "    </tr>\n",
              "    <tr>\n",
              "      <th>2012-08-02</th>\n",
              "      <td>1</td>\n",
              "      <td>Jim</td>\n",
              "      <td>Barbara</td>\n",
              "      <td>2.0</td>\n",
              "      <td>Joe</td>\n",
              "      <td>Barbara</td>\n",
              "    </tr>\n",
              "    <tr>\n",
              "      <th>2012-08-03</th>\n",
              "      <td>2</td>\n",
              "      <td>Jake</td>\n",
              "      <td>Julia</td>\n",
              "      <td>3.0</td>\n",
              "      <td>Jake</td>\n",
              "      <td>Julia</td>\n",
              "    </tr>\n",
              "    <tr>\n",
              "      <th>2012-08-04</th>\n",
              "      <td>3</td>\n",
              "      <td>Jill</td>\n",
              "      <td>Emily</td>\n",
              "      <td>4.0</td>\n",
              "      <td>Jamie</td>\n",
              "      <td>Emily</td>\n",
              "    </tr>\n",
              "    <tr>\n",
              "      <th>2012-08-05</th>\n",
              "      <td>4</td>\n",
              "      <td>Jackie</td>\n",
              "      <td>Mason</td>\n",
              "      <td>5.0</td>\n",
              "      <td>Jackie</td>\n",
              "      <td>Mason</td>\n",
              "    </tr>\n",
              "    <tr>\n",
              "      <th>2012-08-06</th>\n",
              "      <td>5</td>\n",
              "      <td>Nimita</td>\n",
              "      <td>Nimmu</td>\n",
              "      <td>NaN</td>\n",
              "      <td>NaN</td>\n",
              "      <td>NaN</td>\n",
              "    </tr>\n",
              "    <tr>\n",
              "      <th>2012-08-07</th>\n",
              "      <td>6</td>\n",
              "      <td>Manjula</td>\n",
              "      <td>Maggi</td>\n",
              "      <td>NaN</td>\n",
              "      <td>NaN</td>\n",
              "      <td>NaN</td>\n",
              "    </tr>\n",
              "    <tr>\n",
              "      <th>2012-08-08</th>\n",
              "      <td>7</td>\n",
              "      <td>Ajay</td>\n",
              "      <td>Kayla</td>\n",
              "      <td>NaN</td>\n",
              "      <td>NaN</td>\n",
              "      <td>NaN</td>\n",
              "    </tr>\n",
              "    <tr>\n",
              "      <th>2012-08-09</th>\n",
              "      <td>8</td>\n",
              "      <td>Ojas</td>\n",
              "      <td>James</td>\n",
              "      <td>NaN</td>\n",
              "      <td>NaN</td>\n",
              "      <td>NaN</td>\n",
              "    </tr>\n",
              "    <tr>\n",
              "      <th>2012-08-10</th>\n",
              "      <td>9</td>\n",
              "      <td>James</td>\n",
              "      <td>Ojas</td>\n",
              "      <td>NaN</td>\n",
              "      <td>NaN</td>\n",
              "      <td>NaN</td>\n",
              "    </tr>\n",
              "  </tbody>\n",
              "</table>\n",
              "</div>"
            ],
            "text/plain": [
              "            transaction_id_x buyer_name_x  ... buyer_name  seller_name\n",
              "close_date                                 ...                        \n",
              "2012-08-01                 0        Julia  ...      Julia         Lara\n",
              "2012-08-02                 1          Jim  ...        Joe      Barbara\n",
              "2012-08-03                 2         Jake  ...       Jake        Julia\n",
              "2012-08-04                 3         Jill  ...      Jamie        Emily\n",
              "2012-08-05                 4       Jackie  ...     Jackie        Mason\n",
              "2012-08-06                 5       Nimita  ...        NaN          NaN\n",
              "2012-08-07                 6      Manjula  ...        NaN          NaN\n",
              "2012-08-08                 7         Ajay  ...        NaN          NaN\n",
              "2012-08-09                 8         Ojas  ...        NaN          NaN\n",
              "2012-08-10                 9        James  ...        NaN          NaN\n",
              "\n",
              "[10 rows x 6 columns]"
            ]
          },
          "metadata": {
            "tags": []
          },
          "execution_count": 57
        }
      ]
    },
    {
      "cell_type": "markdown",
      "metadata": {
        "id": "8KaG2-c_x21v",
        "colab_type": "text"
      },
      "source": [
        "### Important note\n",
        "\n",
        "This method preserves orginal dataframes index in the resulting table"
      ]
    },
    {
      "cell_type": "code",
      "metadata": {
        "id": "l_FgocOhxHTY",
        "colab_type": "code",
        "colab": {
          "base_uri": "https://localhost:8080/",
          "height": 348
        },
        "outputId": "95c6a750-4a42-4836-fb97-8d8f01f195e0"
      },
      "source": [
        "# same thing done a bit differently \n",
        "df.join(df2.set_index('close_date'), on='close_date', lsuffix='_x')"
      ],
      "execution_count": null,
      "outputs": [
        {
          "output_type": "execute_result",
          "data": {
            "text/html": [
              "<div>\n",
              "<style scoped>\n",
              "    .dataframe tbody tr th:only-of-type {\n",
              "        vertical-align: middle;\n",
              "    }\n",
              "\n",
              "    .dataframe tbody tr th {\n",
              "        vertical-align: top;\n",
              "    }\n",
              "\n",
              "    .dataframe thead th {\n",
              "        text-align: right;\n",
              "    }\n",
              "</style>\n",
              "<table border=\"1\" class=\"dataframe\">\n",
              "  <thead>\n",
              "    <tr style=\"text-align: right;\">\n",
              "      <th></th>\n",
              "      <th>transaction_id_x</th>\n",
              "      <th>close_date</th>\n",
              "      <th>buyer_name_x</th>\n",
              "      <th>seller_name_x</th>\n",
              "      <th>transaction_id</th>\n",
              "      <th>buyer_name</th>\n",
              "      <th>seller_name</th>\n",
              "    </tr>\n",
              "  </thead>\n",
              "  <tbody>\n",
              "    <tr>\n",
              "      <th>0</th>\n",
              "      <td>0</td>\n",
              "      <td>2012-08-01</td>\n",
              "      <td>Julia</td>\n",
              "      <td>Jim</td>\n",
              "      <td>1.0</td>\n",
              "      <td>Julia</td>\n",
              "      <td>Lara</td>\n",
              "    </tr>\n",
              "    <tr>\n",
              "      <th>1</th>\n",
              "      <td>1</td>\n",
              "      <td>2012-08-02</td>\n",
              "      <td>Jim</td>\n",
              "      <td>Barbara</td>\n",
              "      <td>2.0</td>\n",
              "      <td>Joe</td>\n",
              "      <td>Barbara</td>\n",
              "    </tr>\n",
              "    <tr>\n",
              "      <th>2</th>\n",
              "      <td>2</td>\n",
              "      <td>2012-08-03</td>\n",
              "      <td>Jake</td>\n",
              "      <td>Julia</td>\n",
              "      <td>3.0</td>\n",
              "      <td>Jake</td>\n",
              "      <td>Julia</td>\n",
              "    </tr>\n",
              "    <tr>\n",
              "      <th>3</th>\n",
              "      <td>3</td>\n",
              "      <td>2012-08-04</td>\n",
              "      <td>Jill</td>\n",
              "      <td>Emily</td>\n",
              "      <td>4.0</td>\n",
              "      <td>Jamie</td>\n",
              "      <td>Emily</td>\n",
              "    </tr>\n",
              "    <tr>\n",
              "      <th>4</th>\n",
              "      <td>4</td>\n",
              "      <td>2012-08-05</td>\n",
              "      <td>Jackie</td>\n",
              "      <td>Mason</td>\n",
              "      <td>5.0</td>\n",
              "      <td>Jackie</td>\n",
              "      <td>Mason</td>\n",
              "    </tr>\n",
              "    <tr>\n",
              "      <th>5</th>\n",
              "      <td>5</td>\n",
              "      <td>2012-08-06</td>\n",
              "      <td>Nimita</td>\n",
              "      <td>Nimmu</td>\n",
              "      <td>NaN</td>\n",
              "      <td>NaN</td>\n",
              "      <td>NaN</td>\n",
              "    </tr>\n",
              "    <tr>\n",
              "      <th>6</th>\n",
              "      <td>6</td>\n",
              "      <td>2012-08-07</td>\n",
              "      <td>Manjula</td>\n",
              "      <td>Maggi</td>\n",
              "      <td>NaN</td>\n",
              "      <td>NaN</td>\n",
              "      <td>NaN</td>\n",
              "    </tr>\n",
              "    <tr>\n",
              "      <th>7</th>\n",
              "      <td>7</td>\n",
              "      <td>2012-08-08</td>\n",
              "      <td>Ajay</td>\n",
              "      <td>Kayla</td>\n",
              "      <td>NaN</td>\n",
              "      <td>NaN</td>\n",
              "      <td>NaN</td>\n",
              "    </tr>\n",
              "    <tr>\n",
              "      <th>8</th>\n",
              "      <td>8</td>\n",
              "      <td>2012-08-09</td>\n",
              "      <td>Ojas</td>\n",
              "      <td>James</td>\n",
              "      <td>NaN</td>\n",
              "      <td>NaN</td>\n",
              "      <td>NaN</td>\n",
              "    </tr>\n",
              "    <tr>\n",
              "      <th>9</th>\n",
              "      <td>9</td>\n",
              "      <td>2012-08-10</td>\n",
              "      <td>James</td>\n",
              "      <td>Ojas</td>\n",
              "      <td>NaN</td>\n",
              "      <td>NaN</td>\n",
              "      <td>NaN</td>\n",
              "    </tr>\n",
              "  </tbody>\n",
              "</table>\n",
              "</div>"
            ],
            "text/plain": [
              "   transaction_id_x close_date  ... buyer_name seller_name\n",
              "0                 0 2012-08-01  ...      Julia        Lara\n",
              "1                 1 2012-08-02  ...        Joe     Barbara\n",
              "2                 2 2012-08-03  ...       Jake       Julia\n",
              "3                 3 2012-08-04  ...      Jamie       Emily\n",
              "4                 4 2012-08-05  ...     Jackie       Mason\n",
              "5                 5 2012-08-06  ...        NaN         NaN\n",
              "6                 6 2012-08-07  ...        NaN         NaN\n",
              "7                 7 2012-08-08  ...        NaN         NaN\n",
              "8                 8 2012-08-09  ...        NaN         NaN\n",
              "9                 9 2012-08-10  ...        NaN         NaN\n",
              "\n",
              "[10 rows x 7 columns]"
            ]
          },
          "metadata": {
            "tags": []
          },
          "execution_count": 60
        }
      ]
    },
    {
      "cell_type": "markdown",
      "metadata": {
        "id": "BUcpyjg0ycun",
        "colab_type": "text"
      },
      "source": [
        "# Concat()"
      ]
    },
    {
      "cell_type": "markdown",
      "metadata": {
        "id": "474bL8v5yf0r",
        "colab_type": "text"
      },
      "source": [
        "## Append rows of DataFrames\n",
        "\n",
        "Stacking horizontally (axis = 0)"
      ]
    },
    {
      "cell_type": "code",
      "metadata": {
        "id": "_VnC7DYoxwDk",
        "colab_type": "code",
        "colab": {
          "base_uri": "https://localhost:8080/",
          "height": 498
        },
        "outputId": "da09bd87-92da-48f4-a1e6-fb888cf90010"
      },
      "source": [
        "pd.concat([df,df2])"
      ],
      "execution_count": null,
      "outputs": [
        {
          "output_type": "execute_result",
          "data": {
            "text/html": [
              "<div>\n",
              "<style scoped>\n",
              "    .dataframe tbody tr th:only-of-type {\n",
              "        vertical-align: middle;\n",
              "    }\n",
              "\n",
              "    .dataframe tbody tr th {\n",
              "        vertical-align: top;\n",
              "    }\n",
              "\n",
              "    .dataframe thead th {\n",
              "        text-align: right;\n",
              "    }\n",
              "</style>\n",
              "<table border=\"1\" class=\"dataframe\">\n",
              "  <thead>\n",
              "    <tr style=\"text-align: right;\">\n",
              "      <th></th>\n",
              "      <th>transaction_id</th>\n",
              "      <th>close_date</th>\n",
              "      <th>buyer_name</th>\n",
              "      <th>seller_name</th>\n",
              "    </tr>\n",
              "  </thead>\n",
              "  <tbody>\n",
              "    <tr>\n",
              "      <th>0</th>\n",
              "      <td>0</td>\n",
              "      <td>2012-08-01</td>\n",
              "      <td>Julia</td>\n",
              "      <td>Jim</td>\n",
              "    </tr>\n",
              "    <tr>\n",
              "      <th>1</th>\n",
              "      <td>1</td>\n",
              "      <td>2012-08-02</td>\n",
              "      <td>Jim</td>\n",
              "      <td>Barbara</td>\n",
              "    </tr>\n",
              "    <tr>\n",
              "      <th>2</th>\n",
              "      <td>2</td>\n",
              "      <td>2012-08-03</td>\n",
              "      <td>Jake</td>\n",
              "      <td>Julia</td>\n",
              "    </tr>\n",
              "    <tr>\n",
              "      <th>3</th>\n",
              "      <td>3</td>\n",
              "      <td>2012-08-04</td>\n",
              "      <td>Jill</td>\n",
              "      <td>Emily</td>\n",
              "    </tr>\n",
              "    <tr>\n",
              "      <th>4</th>\n",
              "      <td>4</td>\n",
              "      <td>2012-08-05</td>\n",
              "      <td>Jackie</td>\n",
              "      <td>Mason</td>\n",
              "    </tr>\n",
              "    <tr>\n",
              "      <th>5</th>\n",
              "      <td>5</td>\n",
              "      <td>2012-08-06</td>\n",
              "      <td>Nimita</td>\n",
              "      <td>Nimmu</td>\n",
              "    </tr>\n",
              "    <tr>\n",
              "      <th>6</th>\n",
              "      <td>6</td>\n",
              "      <td>2012-08-07</td>\n",
              "      <td>Manjula</td>\n",
              "      <td>Maggi</td>\n",
              "    </tr>\n",
              "    <tr>\n",
              "      <th>7</th>\n",
              "      <td>7</td>\n",
              "      <td>2012-08-08</td>\n",
              "      <td>Ajay</td>\n",
              "      <td>Kayla</td>\n",
              "    </tr>\n",
              "    <tr>\n",
              "      <th>8</th>\n",
              "      <td>8</td>\n",
              "      <td>2012-08-09</td>\n",
              "      <td>Ojas</td>\n",
              "      <td>James</td>\n",
              "    </tr>\n",
              "    <tr>\n",
              "      <th>9</th>\n",
              "      <td>9</td>\n",
              "      <td>2012-08-10</td>\n",
              "      <td>James</td>\n",
              "      <td>Ojas</td>\n",
              "    </tr>\n",
              "    <tr>\n",
              "      <th>0</th>\n",
              "      <td>1</td>\n",
              "      <td>2012-08-01</td>\n",
              "      <td>Julia</td>\n",
              "      <td>Lara</td>\n",
              "    </tr>\n",
              "    <tr>\n",
              "      <th>1</th>\n",
              "      <td>2</td>\n",
              "      <td>2012-08-02</td>\n",
              "      <td>Joe</td>\n",
              "      <td>Barbara</td>\n",
              "    </tr>\n",
              "    <tr>\n",
              "      <th>2</th>\n",
              "      <td>3</td>\n",
              "      <td>2012-08-03</td>\n",
              "      <td>Jake</td>\n",
              "      <td>Julia</td>\n",
              "    </tr>\n",
              "    <tr>\n",
              "      <th>3</th>\n",
              "      <td>4</td>\n",
              "      <td>2012-08-04</td>\n",
              "      <td>Jamie</td>\n",
              "      <td>Emily</td>\n",
              "    </tr>\n",
              "    <tr>\n",
              "      <th>4</th>\n",
              "      <td>5</td>\n",
              "      <td>2012-08-05</td>\n",
              "      <td>Jackie</td>\n",
              "      <td>Mason</td>\n",
              "    </tr>\n",
              "  </tbody>\n",
              "</table>\n",
              "</div>"
            ],
            "text/plain": [
              "   transaction_id close_date buyer_name seller_name\n",
              "0               0 2012-08-01      Julia         Jim\n",
              "1               1 2012-08-02        Jim     Barbara\n",
              "2               2 2012-08-03       Jake       Julia\n",
              "3               3 2012-08-04       Jill       Emily\n",
              "4               4 2012-08-05     Jackie       Mason\n",
              "5               5 2012-08-06     Nimita       Nimmu\n",
              "6               6 2012-08-07    Manjula       Maggi\n",
              "7               7 2012-08-08       Ajay       Kayla\n",
              "8               8 2012-08-09       Ojas       James\n",
              "9               9 2012-08-10      James        Ojas\n",
              "0               1 2012-08-01      Julia        Lara\n",
              "1               2 2012-08-02        Joe     Barbara\n",
              "2               3 2012-08-03       Jake       Julia\n",
              "3               4 2012-08-04      Jamie       Emily\n",
              "4               5 2012-08-05     Jackie       Mason"
            ]
          },
          "metadata": {
            "tags": []
          },
          "execution_count": 61
        }
      ]
    },
    {
      "cell_type": "markdown",
      "metadata": {
        "id": "JQnaRYZmysoh",
        "colab_type": "text"
      },
      "source": [
        "## Append columns of Dataframes\n",
        "\n",
        "stacking vertically axis = 1"
      ]
    },
    {
      "cell_type": "code",
      "metadata": {
        "id": "5PtAvmtKyq5z",
        "colab_type": "code",
        "colab": {
          "base_uri": "https://localhost:8080/",
          "height": 348
        },
        "outputId": "b4c53753-0394-474b-d59f-8aa30a1fff30"
      },
      "source": [
        "pd.concat([df, df2], axis=1)"
      ],
      "execution_count": null,
      "outputs": [
        {
          "output_type": "execute_result",
          "data": {
            "text/html": [
              "<div>\n",
              "<style scoped>\n",
              "    .dataframe tbody tr th:only-of-type {\n",
              "        vertical-align: middle;\n",
              "    }\n",
              "\n",
              "    .dataframe tbody tr th {\n",
              "        vertical-align: top;\n",
              "    }\n",
              "\n",
              "    .dataframe thead th {\n",
              "        text-align: right;\n",
              "    }\n",
              "</style>\n",
              "<table border=\"1\" class=\"dataframe\">\n",
              "  <thead>\n",
              "    <tr style=\"text-align: right;\">\n",
              "      <th></th>\n",
              "      <th>transaction_id</th>\n",
              "      <th>close_date</th>\n",
              "      <th>buyer_name</th>\n",
              "      <th>seller_name</th>\n",
              "      <th>transaction_id</th>\n",
              "      <th>close_date</th>\n",
              "      <th>buyer_name</th>\n",
              "      <th>seller_name</th>\n",
              "    </tr>\n",
              "  </thead>\n",
              "  <tbody>\n",
              "    <tr>\n",
              "      <th>0</th>\n",
              "      <td>0</td>\n",
              "      <td>2012-08-01</td>\n",
              "      <td>Julia</td>\n",
              "      <td>Jim</td>\n",
              "      <td>1.0</td>\n",
              "      <td>2012-08-01</td>\n",
              "      <td>Julia</td>\n",
              "      <td>Lara</td>\n",
              "    </tr>\n",
              "    <tr>\n",
              "      <th>1</th>\n",
              "      <td>1</td>\n",
              "      <td>2012-08-02</td>\n",
              "      <td>Jim</td>\n",
              "      <td>Barbara</td>\n",
              "      <td>2.0</td>\n",
              "      <td>2012-08-02</td>\n",
              "      <td>Joe</td>\n",
              "      <td>Barbara</td>\n",
              "    </tr>\n",
              "    <tr>\n",
              "      <th>2</th>\n",
              "      <td>2</td>\n",
              "      <td>2012-08-03</td>\n",
              "      <td>Jake</td>\n",
              "      <td>Julia</td>\n",
              "      <td>3.0</td>\n",
              "      <td>2012-08-03</td>\n",
              "      <td>Jake</td>\n",
              "      <td>Julia</td>\n",
              "    </tr>\n",
              "    <tr>\n",
              "      <th>3</th>\n",
              "      <td>3</td>\n",
              "      <td>2012-08-04</td>\n",
              "      <td>Jill</td>\n",
              "      <td>Emily</td>\n",
              "      <td>4.0</td>\n",
              "      <td>2012-08-04</td>\n",
              "      <td>Jamie</td>\n",
              "      <td>Emily</td>\n",
              "    </tr>\n",
              "    <tr>\n",
              "      <th>4</th>\n",
              "      <td>4</td>\n",
              "      <td>2012-08-05</td>\n",
              "      <td>Jackie</td>\n",
              "      <td>Mason</td>\n",
              "      <td>5.0</td>\n",
              "      <td>2012-08-05</td>\n",
              "      <td>Jackie</td>\n",
              "      <td>Mason</td>\n",
              "    </tr>\n",
              "    <tr>\n",
              "      <th>5</th>\n",
              "      <td>5</td>\n",
              "      <td>2012-08-06</td>\n",
              "      <td>Nimita</td>\n",
              "      <td>Nimmu</td>\n",
              "      <td>NaN</td>\n",
              "      <td>NaT</td>\n",
              "      <td>NaN</td>\n",
              "      <td>NaN</td>\n",
              "    </tr>\n",
              "    <tr>\n",
              "      <th>6</th>\n",
              "      <td>6</td>\n",
              "      <td>2012-08-07</td>\n",
              "      <td>Manjula</td>\n",
              "      <td>Maggi</td>\n",
              "      <td>NaN</td>\n",
              "      <td>NaT</td>\n",
              "      <td>NaN</td>\n",
              "      <td>NaN</td>\n",
              "    </tr>\n",
              "    <tr>\n",
              "      <th>7</th>\n",
              "      <td>7</td>\n",
              "      <td>2012-08-08</td>\n",
              "      <td>Ajay</td>\n",
              "      <td>Kayla</td>\n",
              "      <td>NaN</td>\n",
              "      <td>NaT</td>\n",
              "      <td>NaN</td>\n",
              "      <td>NaN</td>\n",
              "    </tr>\n",
              "    <tr>\n",
              "      <th>8</th>\n",
              "      <td>8</td>\n",
              "      <td>2012-08-09</td>\n",
              "      <td>Ojas</td>\n",
              "      <td>James</td>\n",
              "      <td>NaN</td>\n",
              "      <td>NaT</td>\n",
              "      <td>NaN</td>\n",
              "      <td>NaN</td>\n",
              "    </tr>\n",
              "    <tr>\n",
              "      <th>9</th>\n",
              "      <td>9</td>\n",
              "      <td>2012-08-10</td>\n",
              "      <td>James</td>\n",
              "      <td>Ojas</td>\n",
              "      <td>NaN</td>\n",
              "      <td>NaT</td>\n",
              "      <td>NaN</td>\n",
              "      <td>NaN</td>\n",
              "    </tr>\n",
              "  </tbody>\n",
              "</table>\n",
              "</div>"
            ],
            "text/plain": [
              "   transaction_id close_date  buyer_name  ... close_date  buyer_name seller_name\n",
              "0               0 2012-08-01       Julia  ... 2012-08-01       Julia        Lara\n",
              "1               1 2012-08-02         Jim  ... 2012-08-02         Joe     Barbara\n",
              "2               2 2012-08-03        Jake  ... 2012-08-03        Jake       Julia\n",
              "3               3 2012-08-04        Jill  ... 2012-08-04       Jamie       Emily\n",
              "4               4 2012-08-05      Jackie  ... 2012-08-05      Jackie       Mason\n",
              "5               5 2012-08-06      Nimita  ...        NaT         NaN         NaN\n",
              "6               6 2012-08-07     Manjula  ...        NaT         NaN         NaN\n",
              "7               7 2012-08-08        Ajay  ...        NaT         NaN         NaN\n",
              "8               8 2012-08-09        Ojas  ...        NaT         NaN         NaN\n",
              "9               9 2012-08-10       James  ...        NaT         NaN         NaN\n",
              "\n",
              "[10 rows x 8 columns]"
            ]
          },
          "metadata": {
            "tags": []
          },
          "execution_count": 64
        }
      ]
    },
    {
      "cell_type": "markdown",
      "metadata": {
        "id": "YhF8hA8nzRJM",
        "colab_type": "text"
      },
      "source": [
        "# Filtering joins\n",
        "\n",
        "From my pandas cheat sheet\n",
        "\n",
        "All rows in df that have a match in df2"
      ]
    },
    {
      "cell_type": "code",
      "metadata": {
        "id": "inRggSRmzBeC",
        "colab_type": "code",
        "colab": {
          "base_uri": "https://localhost:8080/",
          "height": 138
        },
        "outputId": "73aed629-3fe2-4dc1-dcda-c8ec802fef63"
      },
      "source": [
        "df[df.buyer_name.isin(df2.buyer_name)]"
      ],
      "execution_count": null,
      "outputs": [
        {
          "output_type": "execute_result",
          "data": {
            "text/html": [
              "<div>\n",
              "<style scoped>\n",
              "    .dataframe tbody tr th:only-of-type {\n",
              "        vertical-align: middle;\n",
              "    }\n",
              "\n",
              "    .dataframe tbody tr th {\n",
              "        vertical-align: top;\n",
              "    }\n",
              "\n",
              "    .dataframe thead th {\n",
              "        text-align: right;\n",
              "    }\n",
              "</style>\n",
              "<table border=\"1\" class=\"dataframe\">\n",
              "  <thead>\n",
              "    <tr style=\"text-align: right;\">\n",
              "      <th></th>\n",
              "      <th>transaction_id</th>\n",
              "      <th>close_date</th>\n",
              "      <th>buyer_name</th>\n",
              "      <th>seller_name</th>\n",
              "    </tr>\n",
              "  </thead>\n",
              "  <tbody>\n",
              "    <tr>\n",
              "      <th>0</th>\n",
              "      <td>0</td>\n",
              "      <td>2012-08-01</td>\n",
              "      <td>Julia</td>\n",
              "      <td>Jim</td>\n",
              "    </tr>\n",
              "    <tr>\n",
              "      <th>2</th>\n",
              "      <td>2</td>\n",
              "      <td>2012-08-03</td>\n",
              "      <td>Jake</td>\n",
              "      <td>Julia</td>\n",
              "    </tr>\n",
              "    <tr>\n",
              "      <th>4</th>\n",
              "      <td>4</td>\n",
              "      <td>2012-08-05</td>\n",
              "      <td>Jackie</td>\n",
              "      <td>Mason</td>\n",
              "    </tr>\n",
              "  </tbody>\n",
              "</table>\n",
              "</div>"
            ],
            "text/plain": [
              "   transaction_id close_date buyer_name seller_name\n",
              "0               0 2012-08-01      Julia         Jim\n",
              "2               2 2012-08-03       Jake       Julia\n",
              "4               4 2012-08-05     Jackie       Mason"
            ]
          },
          "metadata": {
            "tags": []
          },
          "execution_count": 65
        }
      ]
    },
    {
      "cell_type": "markdown",
      "metadata": {
        "id": "Mi9PIeFo0EjS",
        "colab_type": "text"
      },
      "source": [
        "All rows in df that **DO NOT** have a match in df2"
      ]
    },
    {
      "cell_type": "code",
      "metadata": {
        "id": "GsUtC3CMz3Rc",
        "colab_type": "code",
        "colab": {
          "base_uri": "https://localhost:8080/",
          "height": 258
        },
        "outputId": "cbf18468-cd07-40d0-82dd-8498b3549dd2"
      },
      "source": [
        "df[~df.buyer_name.isin(df2.buyer_name)]"
      ],
      "execution_count": null,
      "outputs": [
        {
          "output_type": "execute_result",
          "data": {
            "text/html": [
              "<div>\n",
              "<style scoped>\n",
              "    .dataframe tbody tr th:only-of-type {\n",
              "        vertical-align: middle;\n",
              "    }\n",
              "\n",
              "    .dataframe tbody tr th {\n",
              "        vertical-align: top;\n",
              "    }\n",
              "\n",
              "    .dataframe thead th {\n",
              "        text-align: right;\n",
              "    }\n",
              "</style>\n",
              "<table border=\"1\" class=\"dataframe\">\n",
              "  <thead>\n",
              "    <tr style=\"text-align: right;\">\n",
              "      <th></th>\n",
              "      <th>transaction_id</th>\n",
              "      <th>close_date</th>\n",
              "      <th>buyer_name</th>\n",
              "      <th>seller_name</th>\n",
              "    </tr>\n",
              "  </thead>\n",
              "  <tbody>\n",
              "    <tr>\n",
              "      <th>1</th>\n",
              "      <td>1</td>\n",
              "      <td>2012-08-02</td>\n",
              "      <td>Jim</td>\n",
              "      <td>Barbara</td>\n",
              "    </tr>\n",
              "    <tr>\n",
              "      <th>3</th>\n",
              "      <td>3</td>\n",
              "      <td>2012-08-04</td>\n",
              "      <td>Jill</td>\n",
              "      <td>Emily</td>\n",
              "    </tr>\n",
              "    <tr>\n",
              "      <th>5</th>\n",
              "      <td>5</td>\n",
              "      <td>2012-08-06</td>\n",
              "      <td>Nimita</td>\n",
              "      <td>Nimmu</td>\n",
              "    </tr>\n",
              "    <tr>\n",
              "      <th>6</th>\n",
              "      <td>6</td>\n",
              "      <td>2012-08-07</td>\n",
              "      <td>Manjula</td>\n",
              "      <td>Maggi</td>\n",
              "    </tr>\n",
              "    <tr>\n",
              "      <th>7</th>\n",
              "      <td>7</td>\n",
              "      <td>2012-08-08</td>\n",
              "      <td>Ajay</td>\n",
              "      <td>Kayla</td>\n",
              "    </tr>\n",
              "    <tr>\n",
              "      <th>8</th>\n",
              "      <td>8</td>\n",
              "      <td>2012-08-09</td>\n",
              "      <td>Ojas</td>\n",
              "      <td>James</td>\n",
              "    </tr>\n",
              "    <tr>\n",
              "      <th>9</th>\n",
              "      <td>9</td>\n",
              "      <td>2012-08-10</td>\n",
              "      <td>James</td>\n",
              "      <td>Ojas</td>\n",
              "    </tr>\n",
              "  </tbody>\n",
              "</table>\n",
              "</div>"
            ],
            "text/plain": [
              "   transaction_id close_date buyer_name seller_name\n",
              "1               1 2012-08-02        Jim     Barbara\n",
              "3               3 2012-08-04       Jill       Emily\n",
              "5               5 2012-08-06     Nimita       Nimmu\n",
              "6               6 2012-08-07    Manjula       Maggi\n",
              "7               7 2012-08-08       Ajay       Kayla\n",
              "8               8 2012-08-09       Ojas       James\n",
              "9               9 2012-08-10      James        Ojas"
            ]
          },
          "metadata": {
            "tags": []
          },
          "execution_count": 67
        }
      ]
    },
    {
      "cell_type": "markdown",
      "metadata": {
        "id": "kuNaGzlR6bwH",
        "colab_type": "text"
      },
      "source": [
        "### More filtering \n",
        "\n",
        "\n",
        "DataFrame.filter(self, items=None, like=None, regex=None, axis=None)[source]\n",
        "\n",
        "https://pandas.pydata.org/pandas-docs/stable/reference/api/pandas.DataFrame.filter.html\n"
      ]
    },
    {
      "cell_type": "code",
      "metadata": {
        "id": "n_70FBID0b2s",
        "colab_type": "code",
        "colab": {}
      },
      "source": [
        "#let's create a small df\n",
        "df = pd.DataFrame(np.array(([1,2,3], [4,5,6])),\n",
        "                  index=['mouse', 'rabbit'],\n",
        "                  columns=['one', 'two', 'three'])"
      ],
      "execution_count": null,
      "outputs": []
    },
    {
      "cell_type": "code",
      "metadata": {
        "id": "RWz36x447IG-",
        "colab_type": "code",
        "colab": {
          "base_uri": "https://localhost:8080/",
          "height": 108
        },
        "outputId": "0c95671f-8fa9-4d5b-997e-8e5fc686c345"
      },
      "source": [
        "df"
      ],
      "execution_count": null,
      "outputs": [
        {
          "output_type": "execute_result",
          "data": {
            "text/html": [
              "<div>\n",
              "<style scoped>\n",
              "    .dataframe tbody tr th:only-of-type {\n",
              "        vertical-align: middle;\n",
              "    }\n",
              "\n",
              "    .dataframe tbody tr th {\n",
              "        vertical-align: top;\n",
              "    }\n",
              "\n",
              "    .dataframe thead th {\n",
              "        text-align: right;\n",
              "    }\n",
              "</style>\n",
              "<table border=\"1\" class=\"dataframe\">\n",
              "  <thead>\n",
              "    <tr style=\"text-align: right;\">\n",
              "      <th></th>\n",
              "      <th>one</th>\n",
              "      <th>two</th>\n",
              "      <th>three</th>\n",
              "    </tr>\n",
              "  </thead>\n",
              "  <tbody>\n",
              "    <tr>\n",
              "      <th>mouse</th>\n",
              "      <td>1</td>\n",
              "      <td>2</td>\n",
              "      <td>3</td>\n",
              "    </tr>\n",
              "    <tr>\n",
              "      <th>rabbit</th>\n",
              "      <td>4</td>\n",
              "      <td>5</td>\n",
              "      <td>6</td>\n",
              "    </tr>\n",
              "  </tbody>\n",
              "</table>\n",
              "</div>"
            ],
            "text/plain": [
              "        one  two  three\n",
              "mouse     1    2      3\n",
              "rabbit    4    5      6"
            ]
          },
          "metadata": {
            "tags": []
          },
          "execution_count": 70
        }
      ]
    },
    {
      "cell_type": "code",
      "metadata": {
        "id": "G6RJ4Wd67IwF",
        "colab_type": "code",
        "colab": {
          "base_uri": "https://localhost:8080/",
          "height": 108
        },
        "outputId": "e519b1c0-1813-4295-8cc2-673e33dffe90"
      },
      "source": [
        "# select column by name\n",
        "# pass a list columns\n",
        "df.filter(items=['one', 'two'])"
      ],
      "execution_count": null,
      "outputs": [
        {
          "output_type": "execute_result",
          "data": {
            "text/html": [
              "<div>\n",
              "<style scoped>\n",
              "    .dataframe tbody tr th:only-of-type {\n",
              "        vertical-align: middle;\n",
              "    }\n",
              "\n",
              "    .dataframe tbody tr th {\n",
              "        vertical-align: top;\n",
              "    }\n",
              "\n",
              "    .dataframe thead th {\n",
              "        text-align: right;\n",
              "    }\n",
              "</style>\n",
              "<table border=\"1\" class=\"dataframe\">\n",
              "  <thead>\n",
              "    <tr style=\"text-align: right;\">\n",
              "      <th></th>\n",
              "      <th>one</th>\n",
              "      <th>two</th>\n",
              "    </tr>\n",
              "  </thead>\n",
              "  <tbody>\n",
              "    <tr>\n",
              "      <th>mouse</th>\n",
              "      <td>1</td>\n",
              "      <td>2</td>\n",
              "    </tr>\n",
              "    <tr>\n",
              "      <th>rabbit</th>\n",
              "      <td>4</td>\n",
              "      <td>5</td>\n",
              "    </tr>\n",
              "  </tbody>\n",
              "</table>\n",
              "</div>"
            ],
            "text/plain": [
              "        one  two\n",
              "mouse     1    2\n",
              "rabbit    4    5"
            ]
          },
          "metadata": {
            "tags": []
          },
          "execution_count": 75
        }
      ]
    },
    {
      "cell_type": "code",
      "metadata": {
        "id": "nvmhXXlZ7d5z",
        "colab_type": "code",
        "colab": {
          "base_uri": "https://localhost:8080/",
          "height": 108
        },
        "outputId": "e2230226-8b70-43f3-c583-3ec26f389b6b"
      },
      "source": [
        "# select column by regular expression \n",
        "# df.filter(regex='o', axis=1) => this will output both columns one and two with os\n",
        "df.filter(regex='o$', axis=1)"
      ],
      "execution_count": null,
      "outputs": [
        {
          "output_type": "execute_result",
          "data": {
            "text/html": [
              "<div>\n",
              "<style scoped>\n",
              "    .dataframe tbody tr th:only-of-type {\n",
              "        vertical-align: middle;\n",
              "    }\n",
              "\n",
              "    .dataframe tbody tr th {\n",
              "        vertical-align: top;\n",
              "    }\n",
              "\n",
              "    .dataframe thead th {\n",
              "        text-align: right;\n",
              "    }\n",
              "</style>\n",
              "<table border=\"1\" class=\"dataframe\">\n",
              "  <thead>\n",
              "    <tr style=\"text-align: right;\">\n",
              "      <th></th>\n",
              "      <th>two</th>\n",
              "    </tr>\n",
              "  </thead>\n",
              "  <tbody>\n",
              "    <tr>\n",
              "      <th>mouse</th>\n",
              "      <td>2</td>\n",
              "    </tr>\n",
              "    <tr>\n",
              "      <th>rabbit</th>\n",
              "      <td>5</td>\n",
              "    </tr>\n",
              "  </tbody>\n",
              "</table>\n",
              "</div>"
            ],
            "text/plain": [
              "        two\n",
              "mouse     2\n",
              "rabbit    5"
            ]
          },
          "metadata": {
            "tags": []
          },
          "execution_count": 81
        }
      ]
    },
    {
      "cell_type": "code",
      "metadata": {
        "id": "O_cGIiAM79_P",
        "colab_type": "code",
        "colab": {
          "base_uri": "https://localhost:8080/",
          "height": 78
        },
        "outputId": "36dec4d2-351f-4d46-c7bc-1b760e7e9251"
      },
      "source": [
        "# this filter the row because we indicated axis=0 and looks for indexes consists of 'bbi\n",
        "df.filter(like=\"bbi\", axis=0)"
      ],
      "execution_count": null,
      "outputs": [
        {
          "output_type": "execute_result",
          "data": {
            "text/html": [
              "<div>\n",
              "<style scoped>\n",
              "    .dataframe tbody tr th:only-of-type {\n",
              "        vertical-align: middle;\n",
              "    }\n",
              "\n",
              "    .dataframe tbody tr th {\n",
              "        vertical-align: top;\n",
              "    }\n",
              "\n",
              "    .dataframe thead th {\n",
              "        text-align: right;\n",
              "    }\n",
              "</style>\n",
              "<table border=\"1\" class=\"dataframe\">\n",
              "  <thead>\n",
              "    <tr style=\"text-align: right;\">\n",
              "      <th></th>\n",
              "      <th>one</th>\n",
              "      <th>two</th>\n",
              "      <th>three</th>\n",
              "    </tr>\n",
              "  </thead>\n",
              "  <tbody>\n",
              "    <tr>\n",
              "      <th>rabbit</th>\n",
              "      <td>4</td>\n",
              "      <td>5</td>\n",
              "      <td>6</td>\n",
              "    </tr>\n",
              "  </tbody>\n",
              "</table>\n",
              "</div>"
            ],
            "text/plain": [
              "        one  two  three\n",
              "rabbit    4    5      6"
            ]
          },
          "metadata": {
            "tags": []
          },
          "execution_count": 86
        }
      ]
    },
    {
      "cell_type": "code",
      "metadata": {
        "id": "O42qhVY78Rzs",
        "colab_type": "code",
        "colab": {}
      },
      "source": [
        ""
      ],
      "execution_count": null,
      "outputs": []
    }
  ]
}