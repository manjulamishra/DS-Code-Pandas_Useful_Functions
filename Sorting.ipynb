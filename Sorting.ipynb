{
  "nbformat": 4,
  "nbformat_minor": 0,
  "metadata": {
    "colab": {
      "name": "Sorting.ipynb",
      "provenance": [],
      "include_colab_link": true
    },
    "kernelspec": {
      "name": "python3",
      "display_name": "Python 3"
    }
  },
  "cells": [
    {
      "cell_type": "markdown",
      "metadata": {
        "id": "view-in-github",
        "colab_type": "text"
      },
      "source": [
        "<a href=\"https://colab.research.google.com/github/manjulamishra/DS-Code-Pandas_Useful_Functions/blob/master/Sorting.ipynb\" target=\"_parent\"><img src=\"https://colab.research.google.com/assets/colab-badge.svg\" alt=\"Open In Colab\"/></a>"
      ]
    },
    {
      "cell_type": "code",
      "metadata": {
        "id": "B5jjv3RafPD-",
        "colab_type": "code",
        "colab": {}
      },
      "source": [
        "import pandas as pd\n",
        "import numpy as np"
      ],
      "execution_count": null,
      "outputs": []
    },
    {
      "cell_type": "code",
      "metadata": {
        "id": "XaBtwdWUfXqr",
        "colab_type": "code",
        "colab": {}
      },
      "source": [
        "url = 'http://bit.ly/imdbratings'\n",
        "movies = pd.read_csv(url)"
      ],
      "execution_count": null,
      "outputs": []
    },
    {
      "cell_type": "code",
      "metadata": {
        "id": "Eh4jbacPfdDu",
        "colab_type": "code",
        "colab": {
          "base_uri": "https://localhost:8080/",
          "height": 198
        },
        "outputId": "a919013d-7905-49a7-a489-4bbdc0ff76b4"
      },
      "source": [
        "movies.head()"
      ],
      "execution_count": null,
      "outputs": [
        {
          "output_type": "execute_result",
          "data": {
            "text/html": [
              "<div>\n",
              "<style scoped>\n",
              "    .dataframe tbody tr th:only-of-type {\n",
              "        vertical-align: middle;\n",
              "    }\n",
              "\n",
              "    .dataframe tbody tr th {\n",
              "        vertical-align: top;\n",
              "    }\n",
              "\n",
              "    .dataframe thead th {\n",
              "        text-align: right;\n",
              "    }\n",
              "</style>\n",
              "<table border=\"1\" class=\"dataframe\">\n",
              "  <thead>\n",
              "    <tr style=\"text-align: right;\">\n",
              "      <th></th>\n",
              "      <th>star_rating</th>\n",
              "      <th>title</th>\n",
              "      <th>content_rating</th>\n",
              "      <th>genre</th>\n",
              "      <th>duration</th>\n",
              "      <th>actors_list</th>\n",
              "    </tr>\n",
              "  </thead>\n",
              "  <tbody>\n",
              "    <tr>\n",
              "      <th>0</th>\n",
              "      <td>9.3</td>\n",
              "      <td>The Shawshank Redemption</td>\n",
              "      <td>R</td>\n",
              "      <td>Crime</td>\n",
              "      <td>142</td>\n",
              "      <td>[u'Tim Robbins', u'Morgan Freeman', u'Bob Gunt...</td>\n",
              "    </tr>\n",
              "    <tr>\n",
              "      <th>1</th>\n",
              "      <td>9.2</td>\n",
              "      <td>The Godfather</td>\n",
              "      <td>R</td>\n",
              "      <td>Crime</td>\n",
              "      <td>175</td>\n",
              "      <td>[u'Marlon Brando', u'Al Pacino', u'James Caan']</td>\n",
              "    </tr>\n",
              "    <tr>\n",
              "      <th>2</th>\n",
              "      <td>9.1</td>\n",
              "      <td>The Godfather: Part II</td>\n",
              "      <td>R</td>\n",
              "      <td>Crime</td>\n",
              "      <td>200</td>\n",
              "      <td>[u'Al Pacino', u'Robert De Niro', u'Robert Duv...</td>\n",
              "    </tr>\n",
              "    <tr>\n",
              "      <th>3</th>\n",
              "      <td>9.0</td>\n",
              "      <td>The Dark Knight</td>\n",
              "      <td>PG-13</td>\n",
              "      <td>Action</td>\n",
              "      <td>152</td>\n",
              "      <td>[u'Christian Bale', u'Heath Ledger', u'Aaron E...</td>\n",
              "    </tr>\n",
              "    <tr>\n",
              "      <th>4</th>\n",
              "      <td>8.9</td>\n",
              "      <td>Pulp Fiction</td>\n",
              "      <td>R</td>\n",
              "      <td>Crime</td>\n",
              "      <td>154</td>\n",
              "      <td>[u'John Travolta', u'Uma Thurman', u'Samuel L....</td>\n",
              "    </tr>\n",
              "  </tbody>\n",
              "</table>\n",
              "</div>"
            ],
            "text/plain": [
              "   star_rating  ...                                        actors_list\n",
              "0          9.3  ...  [u'Tim Robbins', u'Morgan Freeman', u'Bob Gunt...\n",
              "1          9.2  ...    [u'Marlon Brando', u'Al Pacino', u'James Caan']\n",
              "2          9.1  ...  [u'Al Pacino', u'Robert De Niro', u'Robert Duv...\n",
              "3          9.0  ...  [u'Christian Bale', u'Heath Ledger', u'Aaron E...\n",
              "4          8.9  ...  [u'John Travolta', u'Uma Thurman', u'Samuel L....\n",
              "\n",
              "[5 rows x 6 columns]"
            ]
          },
          "metadata": {
            "tags": []
          },
          "execution_count": 4
        }
      ]
    },
    {
      "cell_type": "markdown",
      "metadata": {
        "id": "-MqXMo2Rfkfk",
        "colab_type": "text"
      },
      "source": [
        "# Sort Using sort_values()"
      ]
    },
    {
      "cell_type": "code",
      "metadata": {
        "id": "JbJKFMDnfjDE",
        "colab_type": "code",
        "colab": {
          "base_uri": "https://localhost:8080/",
          "height": 235
        },
        "outputId": "b9349895-8837-4e7b-e6f1-c13f9ff2e82b"
      },
      "source": [
        "movies['title'].sort_values()"
      ],
      "execution_count": null,
      "outputs": [
        {
          "output_type": "execute_result",
          "data": {
            "text/plain": [
              "542     (500) Days of Summer\n",
              "5               12 Angry Men\n",
              "201         12 Years a Slave\n",
              "698                127 Hours\n",
              "110    2001: A Space Odyssey\n",
              "               ...          \n",
              "955         Zero Dark Thirty\n",
              "677                   Zodiac\n",
              "615               Zombieland\n",
              "526                     Zulu\n",
              "864                    [Rec]\n",
              "Name: title, Length: 979, dtype: object"
            ]
          },
          "metadata": {
            "tags": []
          },
          "execution_count": 5
        }
      ]
    },
    {
      "cell_type": "code",
      "metadata": {
        "id": "1VblX1sRfti4",
        "colab_type": "code",
        "colab": {
          "base_uri": "https://localhost:8080/",
          "height": 235
        },
        "outputId": "7366f61c-8fed-4074-d12b-34cf7ebbab1a"
      },
      "source": [
        "movies.duration.sort_values()"
      ],
      "execution_count": null,
      "outputs": [
        {
          "output_type": "execute_result",
          "data": {
            "text/plain": [
              "389     64\n",
              "338     66\n",
              "258     67\n",
              "293     68\n",
              "88      68\n",
              "      ... \n",
              "445    220\n",
              "142    224\n",
              "78     229\n",
              "157    238\n",
              "476    242\n",
              "Name: duration, Length: 979, dtype: int64"
            ]
          },
          "metadata": {
            "tags": []
          },
          "execution_count": 6
        }
      ]
    },
    {
      "cell_type": "code",
      "metadata": {
        "id": "buhiWw-1fzd_",
        "colab_type": "code",
        "colab": {
          "base_uri": "https://localhost:8080/",
          "height": 35
        },
        "outputId": "231f00ff-7cd8-4c02-b7a1-b513c04d7879"
      },
      "source": [
        "# a pandas Series is returned\n",
        "type(movies.duration.sort_values())"
      ],
      "execution_count": null,
      "outputs": [
        {
          "output_type": "execute_result",
          "data": {
            "text/plain": [
              "pandas.core.series.Series"
            ]
          },
          "metadata": {
            "tags": []
          },
          "execution_count": 8
        }
      ]
    },
    {
      "cell_type": "markdown",
      "metadata": {
        "id": "puqVscYKgHn9",
        "colab_type": "text"
      },
      "source": [
        "## Sort Column\n",
        "\n",
        "sort in ascending/descending"
      ]
    },
    {
      "cell_type": "code",
      "metadata": {
        "id": "6BFqssdegBAq",
        "colab_type": "code",
        "colab": {
          "base_uri": "https://localhost:8080/",
          "height": 235
        },
        "outputId": "6c1a1b64-35b6-4ce5-b76d-77f2b6c2a46a"
      },
      "source": [
        "#  ascending True goes A-Z \n",
        "#  ascending Flase goes Z-A\n",
        "movies['title'].sort_values(ascending=True)"
      ],
      "execution_count": null,
      "outputs": [
        {
          "output_type": "execute_result",
          "data": {
            "text/plain": [
              "542     (500) Days of Summer\n",
              "5               12 Angry Men\n",
              "201         12 Years a Slave\n",
              "698                127 Hours\n",
              "110    2001: A Space Odyssey\n",
              "               ...          \n",
              "955         Zero Dark Thirty\n",
              "677                   Zodiac\n",
              "615               Zombieland\n",
              "526                     Zulu\n",
              "864                    [Rec]\n",
              "Name: title, Length: 979, dtype: object"
            ]
          },
          "metadata": {
            "tags": []
          },
          "execution_count": 10
        }
      ]
    },
    {
      "cell_type": "markdown",
      "metadata": {
        "id": "g2v45yeXgnJa",
        "colab_type": "text"
      },
      "source": [
        "## Sort a DataFrame using a particular column"
      ]
    },
    {
      "cell_type": "code",
      "metadata": {
        "id": "XaFgldqWgUJs",
        "colab_type": "code",
        "colab": {
          "base_uri": "https://localhost:8080/",
          "height": 407
        },
        "outputId": "1a58a435-3288-4b91-ac82-2c12f9d165b6"
      },
      "source": [
        "movies.sort_values('title')"
      ],
      "execution_count": null,
      "outputs": [
        {
          "output_type": "execute_result",
          "data": {
            "text/html": [
              "<div>\n",
              "<style scoped>\n",
              "    .dataframe tbody tr th:only-of-type {\n",
              "        vertical-align: middle;\n",
              "    }\n",
              "\n",
              "    .dataframe tbody tr th {\n",
              "        vertical-align: top;\n",
              "    }\n",
              "\n",
              "    .dataframe thead th {\n",
              "        text-align: right;\n",
              "    }\n",
              "</style>\n",
              "<table border=\"1\" class=\"dataframe\">\n",
              "  <thead>\n",
              "    <tr style=\"text-align: right;\">\n",
              "      <th></th>\n",
              "      <th>star_rating</th>\n",
              "      <th>title</th>\n",
              "      <th>content_rating</th>\n",
              "      <th>genre</th>\n",
              "      <th>duration</th>\n",
              "      <th>actors_list</th>\n",
              "    </tr>\n",
              "  </thead>\n",
              "  <tbody>\n",
              "    <tr>\n",
              "      <th>542</th>\n",
              "      <td>7.8</td>\n",
              "      <td>(500) Days of Summer</td>\n",
              "      <td>PG-13</td>\n",
              "      <td>Comedy</td>\n",
              "      <td>95</td>\n",
              "      <td>[u'Zooey Deschanel', u'Joseph Gordon-Levitt', ...</td>\n",
              "    </tr>\n",
              "    <tr>\n",
              "      <th>5</th>\n",
              "      <td>8.9</td>\n",
              "      <td>12 Angry Men</td>\n",
              "      <td>NOT RATED</td>\n",
              "      <td>Drama</td>\n",
              "      <td>96</td>\n",
              "      <td>[u'Henry Fonda', u'Lee J. Cobb', u'Martin Bals...</td>\n",
              "    </tr>\n",
              "    <tr>\n",
              "      <th>201</th>\n",
              "      <td>8.1</td>\n",
              "      <td>12 Years a Slave</td>\n",
              "      <td>R</td>\n",
              "      <td>Biography</td>\n",
              "      <td>134</td>\n",
              "      <td>[u'Chiwetel Ejiofor', u'Michael Kenneth Willia...</td>\n",
              "    </tr>\n",
              "    <tr>\n",
              "      <th>698</th>\n",
              "      <td>7.6</td>\n",
              "      <td>127 Hours</td>\n",
              "      <td>R</td>\n",
              "      <td>Adventure</td>\n",
              "      <td>94</td>\n",
              "      <td>[u'James Franco', u'Amber Tamblyn', u'Kate Mara']</td>\n",
              "    </tr>\n",
              "    <tr>\n",
              "      <th>110</th>\n",
              "      <td>8.3</td>\n",
              "      <td>2001: A Space Odyssey</td>\n",
              "      <td>G</td>\n",
              "      <td>Mystery</td>\n",
              "      <td>160</td>\n",
              "      <td>[u'Keir Dullea', u'Gary Lockwood', u'William S...</td>\n",
              "    </tr>\n",
              "    <tr>\n",
              "      <th>...</th>\n",
              "      <td>...</td>\n",
              "      <td>...</td>\n",
              "      <td>...</td>\n",
              "      <td>...</td>\n",
              "      <td>...</td>\n",
              "      <td>...</td>\n",
              "    </tr>\n",
              "    <tr>\n",
              "      <th>955</th>\n",
              "      <td>7.4</td>\n",
              "      <td>Zero Dark Thirty</td>\n",
              "      <td>R</td>\n",
              "      <td>Drama</td>\n",
              "      <td>157</td>\n",
              "      <td>[u'Jessica Chastain', u'Joel Edgerton', u'Chri...</td>\n",
              "    </tr>\n",
              "    <tr>\n",
              "      <th>677</th>\n",
              "      <td>7.7</td>\n",
              "      <td>Zodiac</td>\n",
              "      <td>R</td>\n",
              "      <td>Crime</td>\n",
              "      <td>157</td>\n",
              "      <td>[u'Jake Gyllenhaal', u'Robert Downey Jr.', u'M...</td>\n",
              "    </tr>\n",
              "    <tr>\n",
              "      <th>615</th>\n",
              "      <td>7.7</td>\n",
              "      <td>Zombieland</td>\n",
              "      <td>R</td>\n",
              "      <td>Comedy</td>\n",
              "      <td>88</td>\n",
              "      <td>[u'Jesse Eisenberg', u'Emma Stone', u'Woody Ha...</td>\n",
              "    </tr>\n",
              "    <tr>\n",
              "      <th>526</th>\n",
              "      <td>7.8</td>\n",
              "      <td>Zulu</td>\n",
              "      <td>UNRATED</td>\n",
              "      <td>Drama</td>\n",
              "      <td>138</td>\n",
              "      <td>[u'Stanley Baker', u'Jack Hawkins', u'Ulla Jac...</td>\n",
              "    </tr>\n",
              "    <tr>\n",
              "      <th>864</th>\n",
              "      <td>7.5</td>\n",
              "      <td>[Rec]</td>\n",
              "      <td>R</td>\n",
              "      <td>Horror</td>\n",
              "      <td>78</td>\n",
              "      <td>[u'Manuela Velasco', u'Ferran Terraza', u'Jorg...</td>\n",
              "    </tr>\n",
              "  </tbody>\n",
              "</table>\n",
              "<p>979 rows × 6 columns</p>\n",
              "</div>"
            ],
            "text/plain": [
              "     star_rating  ...                                        actors_list\n",
              "542          7.8  ...  [u'Zooey Deschanel', u'Joseph Gordon-Levitt', ...\n",
              "5            8.9  ...  [u'Henry Fonda', u'Lee J. Cobb', u'Martin Bals...\n",
              "201          8.1  ...  [u'Chiwetel Ejiofor', u'Michael Kenneth Willia...\n",
              "698          7.6  ...  [u'James Franco', u'Amber Tamblyn', u'Kate Mara']\n",
              "110          8.3  ...  [u'Keir Dullea', u'Gary Lockwood', u'William S...\n",
              "..           ...  ...                                                ...\n",
              "955          7.4  ...  [u'Jessica Chastain', u'Joel Edgerton', u'Chri...\n",
              "677          7.7  ...  [u'Jake Gyllenhaal', u'Robert Downey Jr.', u'M...\n",
              "615          7.7  ...  [u'Jesse Eisenberg', u'Emma Stone', u'Woody Ha...\n",
              "526          7.8  ...  [u'Stanley Baker', u'Jack Hawkins', u'Ulla Jac...\n",
              "864          7.5  ...  [u'Manuela Velasco', u'Ferran Terraza', u'Jorg...\n",
              "\n",
              "[979 rows x 6 columns]"
            ]
          },
          "metadata": {
            "tags": []
          },
          "execution_count": 11
        }
      ]
    },
    {
      "cell_type": "code",
      "metadata": {
        "id": "oe4exd8FgwaY",
        "colab_type": "code",
        "colab": {
          "base_uri": "https://localhost:8080/",
          "height": 407
        },
        "outputId": "5502e3ce-39bb-4e3d-8858-6197e8d4160a"
      },
      "source": [
        "movies.sort_values('genre', ascending=False)"
      ],
      "execution_count": null,
      "outputs": [
        {
          "output_type": "execute_result",
          "data": {
            "text/html": [
              "<div>\n",
              "<style scoped>\n",
              "    .dataframe tbody tr th:only-of-type {\n",
              "        vertical-align: middle;\n",
              "    }\n",
              "\n",
              "    .dataframe tbody tr th {\n",
              "        vertical-align: top;\n",
              "    }\n",
              "\n",
              "    .dataframe thead th {\n",
              "        text-align: right;\n",
              "    }\n",
              "</style>\n",
              "<table border=\"1\" class=\"dataframe\">\n",
              "  <thead>\n",
              "    <tr style=\"text-align: right;\">\n",
              "      <th></th>\n",
              "      <th>star_rating</th>\n",
              "      <th>title</th>\n",
              "      <th>content_rating</th>\n",
              "      <th>genre</th>\n",
              "      <th>duration</th>\n",
              "      <th>actors_list</th>\n",
              "    </tr>\n",
              "  </thead>\n",
              "  <tbody>\n",
              "    <tr>\n",
              "      <th>107</th>\n",
              "      <td>8.3</td>\n",
              "      <td>For a Few Dollars More</td>\n",
              "      <td>APPROVED</td>\n",
              "      <td>Western</td>\n",
              "      <td>132</td>\n",
              "      <td>[u'Clint Eastwood', u'Lee Van Cleef', u'Gian M...</td>\n",
              "    </tr>\n",
              "    <tr>\n",
              "      <th>421</th>\n",
              "      <td>7.9</td>\n",
              "      <td>The Outlaw Josey Wales</td>\n",
              "      <td>PG</td>\n",
              "      <td>Western</td>\n",
              "      <td>135</td>\n",
              "      <td>[u'Clint Eastwood', u'Sondra Locke', u'Chief D...</td>\n",
              "    </tr>\n",
              "    <tr>\n",
              "      <th>704</th>\n",
              "      <td>7.6</td>\n",
              "      <td>High Plains Drifter</td>\n",
              "      <td>R</td>\n",
              "      <td>Western</td>\n",
              "      <td>105</td>\n",
              "      <td>[u'Clint Eastwood', u'Verna Bloom', u'Marianna...</td>\n",
              "    </tr>\n",
              "    <tr>\n",
              "      <th>6</th>\n",
              "      <td>8.9</td>\n",
              "      <td>The Good, the Bad and the Ugly</td>\n",
              "      <td>NOT RATED</td>\n",
              "      <td>Western</td>\n",
              "      <td>161</td>\n",
              "      <td>[u'Clint Eastwood', u'Eli Wallach', u'Lee Van ...</td>\n",
              "    </tr>\n",
              "    <tr>\n",
              "      <th>26</th>\n",
              "      <td>8.6</td>\n",
              "      <td>Once Upon a Time in the West</td>\n",
              "      <td>PG-13</td>\n",
              "      <td>Western</td>\n",
              "      <td>175</td>\n",
              "      <td>[u'Henry Fonda', u'Charles Bronson', u'Claudia...</td>\n",
              "    </tr>\n",
              "    <tr>\n",
              "      <th>...</th>\n",
              "      <td>...</td>\n",
              "      <td>...</td>\n",
              "      <td>...</td>\n",
              "      <td>...</td>\n",
              "      <td>...</td>\n",
              "      <td>...</td>\n",
              "    </tr>\n",
              "    <tr>\n",
              "      <th>118</th>\n",
              "      <td>8.3</td>\n",
              "      <td>Indiana Jones and the Last Crusade</td>\n",
              "      <td>PG-13</td>\n",
              "      <td>Action</td>\n",
              "      <td>127</td>\n",
              "      <td>[u'Harrison Ford', u'Sean Connery', u'Alison D...</td>\n",
              "    </tr>\n",
              "    <tr>\n",
              "      <th>586</th>\n",
              "      <td>7.7</td>\n",
              "      <td>Star Trek II: The Wrath of Khan</td>\n",
              "      <td>PG</td>\n",
              "      <td>Action</td>\n",
              "      <td>113</td>\n",
              "      <td>[u'William Shatner', u'Leonard Nimoy', u'DeFor...</td>\n",
              "    </tr>\n",
              "    <tr>\n",
              "      <th>581</th>\n",
              "      <td>7.8</td>\n",
              "      <td>Man on Fire</td>\n",
              "      <td>R</td>\n",
              "      <td>Action</td>\n",
              "      <td>146</td>\n",
              "      <td>[u'Denzel Washington', u'Christopher Walken', ...</td>\n",
              "    </tr>\n",
              "    <tr>\n",
              "      <th>113</th>\n",
              "      <td>8.3</td>\n",
              "      <td>Batman Begins</td>\n",
              "      <td>PG-13</td>\n",
              "      <td>Action</td>\n",
              "      <td>140</td>\n",
              "      <td>[u'Christian Bale', u'Michael Caine', u'Ken Wa...</td>\n",
              "    </tr>\n",
              "    <tr>\n",
              "      <th>420</th>\n",
              "      <td>7.9</td>\n",
              "      <td>The Man Who Would Be King</td>\n",
              "      <td>PG</td>\n",
              "      <td>Action</td>\n",
              "      <td>129</td>\n",
              "      <td>[u'Sean Connery', u'Michael Caine', u'Christop...</td>\n",
              "    </tr>\n",
              "  </tbody>\n",
              "</table>\n",
              "<p>979 rows × 6 columns</p>\n",
              "</div>"
            ],
            "text/plain": [
              "     star_rating  ...                                        actors_list\n",
              "107          8.3  ...  [u'Clint Eastwood', u'Lee Van Cleef', u'Gian M...\n",
              "421          7.9  ...  [u'Clint Eastwood', u'Sondra Locke', u'Chief D...\n",
              "704          7.6  ...  [u'Clint Eastwood', u'Verna Bloom', u'Marianna...\n",
              "6            8.9  ...  [u'Clint Eastwood', u'Eli Wallach', u'Lee Van ...\n",
              "26           8.6  ...  [u'Henry Fonda', u'Charles Bronson', u'Claudia...\n",
              "..           ...  ...                                                ...\n",
              "118          8.3  ...  [u'Harrison Ford', u'Sean Connery', u'Alison D...\n",
              "586          7.7  ...  [u'William Shatner', u'Leonard Nimoy', u'DeFor...\n",
              "581          7.8  ...  [u'Denzel Washington', u'Christopher Walken', ...\n",
              "113          8.3  ...  [u'Christian Bale', u'Michael Caine', u'Ken Wa...\n",
              "420          7.9  ...  [u'Sean Connery', u'Michael Caine', u'Christop...\n",
              "\n",
              "[979 rows x 6 columns]"
            ]
          },
          "metadata": {
            "tags": []
          },
          "execution_count": 12
        }
      ]
    },
    {
      "cell_type": "markdown",
      "metadata": {
        "id": "ydgfeOiDhjeO",
        "colab_type": "text"
      },
      "source": [
        "## Sorting a DataFrame on multiple columns\n",
        "\n",
        "There are a couple of ways to use multiple columns to sort a DF"
      ]
    },
    {
      "cell_type": "code",
      "metadata": {
        "id": "W0qqyDzlhYMX",
        "colab_type": "code",
        "colab": {
          "base_uri": "https://localhost:8080/",
          "height": 407
        },
        "outputId": "1c321268-d541-48a5-971e-ba36ef520ed9"
      },
      "source": [
        "movies.sort_values(['genre', 'title'], ascending=False)"
      ],
      "execution_count": null,
      "outputs": [
        {
          "output_type": "execute_result",
          "data": {
            "text/html": [
              "<div>\n",
              "<style scoped>\n",
              "    .dataframe tbody tr th:only-of-type {\n",
              "        vertical-align: middle;\n",
              "    }\n",
              "\n",
              "    .dataframe tbody tr th {\n",
              "        vertical-align: top;\n",
              "    }\n",
              "\n",
              "    .dataframe thead th {\n",
              "        text-align: right;\n",
              "    }\n",
              "</style>\n",
              "<table border=\"1\" class=\"dataframe\">\n",
              "  <thead>\n",
              "    <tr style=\"text-align: right;\">\n",
              "      <th></th>\n",
              "      <th>star_rating</th>\n",
              "      <th>title</th>\n",
              "      <th>content_rating</th>\n",
              "      <th>genre</th>\n",
              "      <th>duration</th>\n",
              "      <th>actors_list</th>\n",
              "    </tr>\n",
              "  </thead>\n",
              "  <tbody>\n",
              "    <tr>\n",
              "      <th>119</th>\n",
              "      <td>8.3</td>\n",
              "      <td>Unforgiven</td>\n",
              "      <td>R</td>\n",
              "      <td>Western</td>\n",
              "      <td>131</td>\n",
              "      <td>[u'Clint Eastwood', u'Gene Hackman', u'Morgan ...</td>\n",
              "    </tr>\n",
              "    <tr>\n",
              "      <th>421</th>\n",
              "      <td>7.9</td>\n",
              "      <td>The Outlaw Josey Wales</td>\n",
              "      <td>PG</td>\n",
              "      <td>Western</td>\n",
              "      <td>135</td>\n",
              "      <td>[u'Clint Eastwood', u'Sondra Locke', u'Chief D...</td>\n",
              "    </tr>\n",
              "    <tr>\n",
              "      <th>6</th>\n",
              "      <td>8.9</td>\n",
              "      <td>The Good, the Bad and the Ugly</td>\n",
              "      <td>NOT RATED</td>\n",
              "      <td>Western</td>\n",
              "      <td>161</td>\n",
              "      <td>[u'Clint Eastwood', u'Eli Wallach', u'Lee Van ...</td>\n",
              "    </tr>\n",
              "    <tr>\n",
              "      <th>263</th>\n",
              "      <td>8.1</td>\n",
              "      <td>Rio Bravo</td>\n",
              "      <td>NOT RATED</td>\n",
              "      <td>Western</td>\n",
              "      <td>141</td>\n",
              "      <td>[u'John Wayne', u'Dean Martin', u'Ricky Nelson']</td>\n",
              "    </tr>\n",
              "    <tr>\n",
              "      <th>26</th>\n",
              "      <td>8.6</td>\n",
              "      <td>Once Upon a Time in the West</td>\n",
              "      <td>PG-13</td>\n",
              "      <td>Western</td>\n",
              "      <td>175</td>\n",
              "      <td>[u'Henry Fonda', u'Charles Bronson', u'Claudia...</td>\n",
              "    </tr>\n",
              "    <tr>\n",
              "      <th>...</th>\n",
              "      <td>...</td>\n",
              "      <td>...</td>\n",
              "      <td>...</td>\n",
              "      <td>...</td>\n",
              "      <td>...</td>\n",
              "      <td>...</td>\n",
              "    </tr>\n",
              "    <tr>\n",
              "      <th>433</th>\n",
              "      <td>7.9</td>\n",
              "      <td>Avatar</td>\n",
              "      <td>PG-13</td>\n",
              "      <td>Action</td>\n",
              "      <td>162</td>\n",
              "      <td>[u'Sam Worthington', u'Zoe Saldana', u'Sigourn...</td>\n",
              "    </tr>\n",
              "    <tr>\n",
              "      <th>529</th>\n",
              "      <td>7.8</td>\n",
              "      <td>Apocalypto</td>\n",
              "      <td>R</td>\n",
              "      <td>Action</td>\n",
              "      <td>139</td>\n",
              "      <td>[u'Gerardo Taracena', u'Raoul Trujillo', u'Dal...</td>\n",
              "    </tr>\n",
              "    <tr>\n",
              "      <th>75</th>\n",
              "      <td>8.4</td>\n",
              "      <td>Aliens</td>\n",
              "      <td>R</td>\n",
              "      <td>Action</td>\n",
              "      <td>137</td>\n",
              "      <td>[u'Sigourney Weaver', u'Michael Biehn', u'Carr...</td>\n",
              "    </tr>\n",
              "    <tr>\n",
              "      <th>276</th>\n",
              "      <td>8.1</td>\n",
              "      <td>A Fistful of Dollars</td>\n",
              "      <td>R</td>\n",
              "      <td>Action</td>\n",
              "      <td>99</td>\n",
              "      <td>[u'Clint Eastwood', u'Gian Maria Volont\\xe9', ...</td>\n",
              "    </tr>\n",
              "    <tr>\n",
              "      <th>570</th>\n",
              "      <td>7.8</td>\n",
              "      <td>300</td>\n",
              "      <td>R</td>\n",
              "      <td>Action</td>\n",
              "      <td>117</td>\n",
              "      <td>[u'Gerard Butler', u'Lena Headey', u'David Wen...</td>\n",
              "    </tr>\n",
              "  </tbody>\n",
              "</table>\n",
              "<p>979 rows × 6 columns</p>\n",
              "</div>"
            ],
            "text/plain": [
              "     star_rating  ...                                        actors_list\n",
              "119          8.3  ...  [u'Clint Eastwood', u'Gene Hackman', u'Morgan ...\n",
              "421          7.9  ...  [u'Clint Eastwood', u'Sondra Locke', u'Chief D...\n",
              "6            8.9  ...  [u'Clint Eastwood', u'Eli Wallach', u'Lee Van ...\n",
              "263          8.1  ...   [u'John Wayne', u'Dean Martin', u'Ricky Nelson']\n",
              "26           8.6  ...  [u'Henry Fonda', u'Charles Bronson', u'Claudia...\n",
              "..           ...  ...                                                ...\n",
              "433          7.9  ...  [u'Sam Worthington', u'Zoe Saldana', u'Sigourn...\n",
              "529          7.8  ...  [u'Gerardo Taracena', u'Raoul Trujillo', u'Dal...\n",
              "75           8.4  ...  [u'Sigourney Weaver', u'Michael Biehn', u'Carr...\n",
              "276          8.1  ...  [u'Clint Eastwood', u'Gian Maria Volont\\xe9', ...\n",
              "570          7.8  ...  [u'Gerard Butler', u'Lena Headey', u'David Wen...\n",
              "\n",
              "[979 rows x 6 columns]"
            ]
          },
          "metadata": {
            "tags": []
          },
          "execution_count": 13
        }
      ]
    },
    {
      "cell_type": "markdown",
      "metadata": {
        "id": "5IhtyXX9hiz4",
        "colab_type": "text"
      },
      "source": [
        "**Another way**\n"
      ]
    },
    {
      "cell_type": "code",
      "metadata": {
        "id": "nMk3nE_mhezf",
        "colab_type": "code",
        "colab": {
          "base_uri": "https://localhost:8080/",
          "height": 511
        },
        "outputId": "051a36a7-98b3-41ae-e9c8-880140e3f756"
      },
      "source": [
        "columns = ['content_rating', 'duration']\n",
        "movies.sort_values(columns)"
      ],
      "execution_count": null,
      "outputs": [
        {
          "output_type": "execute_result",
          "data": {
            "text/html": [
              "<div>\n",
              "<style scoped>\n",
              "    .dataframe tbody tr th:only-of-type {\n",
              "        vertical-align: middle;\n",
              "    }\n",
              "\n",
              "    .dataframe tbody tr th {\n",
              "        vertical-align: top;\n",
              "    }\n",
              "\n",
              "    .dataframe thead th {\n",
              "        text-align: right;\n",
              "    }\n",
              "</style>\n",
              "<table border=\"1\" class=\"dataframe\">\n",
              "  <thead>\n",
              "    <tr style=\"text-align: right;\">\n",
              "      <th></th>\n",
              "      <th>star_rating</th>\n",
              "      <th>title</th>\n",
              "      <th>content_rating</th>\n",
              "      <th>genre</th>\n",
              "      <th>duration</th>\n",
              "      <th>actors_list</th>\n",
              "    </tr>\n",
              "  </thead>\n",
              "  <tbody>\n",
              "    <tr>\n",
              "      <th>713</th>\n",
              "      <td>7.6</td>\n",
              "      <td>The Jungle Book</td>\n",
              "      <td>APPROVED</td>\n",
              "      <td>Animation</td>\n",
              "      <td>78</td>\n",
              "      <td>[u'Phil Harris', u'Sebastian Cabot', u'Louis P...</td>\n",
              "    </tr>\n",
              "    <tr>\n",
              "      <th>513</th>\n",
              "      <td>7.8</td>\n",
              "      <td>Invasion of the Body Snatchers</td>\n",
              "      <td>APPROVED</td>\n",
              "      <td>Horror</td>\n",
              "      <td>80</td>\n",
              "      <td>[u'Kevin McCarthy', u'Dana Wynter', u'Larry Ga...</td>\n",
              "    </tr>\n",
              "    <tr>\n",
              "      <th>272</th>\n",
              "      <td>8.1</td>\n",
              "      <td>The Killing</td>\n",
              "      <td>APPROVED</td>\n",
              "      <td>Crime</td>\n",
              "      <td>85</td>\n",
              "      <td>[u'Sterling Hayden', u'Coleen Gray', u'Vince E...</td>\n",
              "    </tr>\n",
              "    <tr>\n",
              "      <th>703</th>\n",
              "      <td>7.6</td>\n",
              "      <td>Dracula</td>\n",
              "      <td>APPROVED</td>\n",
              "      <td>Horror</td>\n",
              "      <td>85</td>\n",
              "      <td>[u'Bela Lugosi', u'Helen Chandler', u'David Ma...</td>\n",
              "    </tr>\n",
              "    <tr>\n",
              "      <th>612</th>\n",
              "      <td>7.7</td>\n",
              "      <td>A Hard Day's Night</td>\n",
              "      <td>APPROVED</td>\n",
              "      <td>Comedy</td>\n",
              "      <td>87</td>\n",
              "      <td>[u'John Lennon', u'Paul McCartney', u'George H...</td>\n",
              "    </tr>\n",
              "    <tr>\n",
              "      <th>...</th>\n",
              "      <td>...</td>\n",
              "      <td>...</td>\n",
              "      <td>...</td>\n",
              "      <td>...</td>\n",
              "      <td>...</td>\n",
              "      <td>...</td>\n",
              "    </tr>\n",
              "    <tr>\n",
              "      <th>387</th>\n",
              "      <td>8.0</td>\n",
              "      <td>Midnight Cowboy</td>\n",
              "      <td>X</td>\n",
              "      <td>Drama</td>\n",
              "      <td>113</td>\n",
              "      <td>[u'Dustin Hoffman', u'Jon Voight', u'Sylvia Mi...</td>\n",
              "    </tr>\n",
              "    <tr>\n",
              "      <th>86</th>\n",
              "      <td>8.4</td>\n",
              "      <td>A Clockwork Orange</td>\n",
              "      <td>X</td>\n",
              "      <td>Crime</td>\n",
              "      <td>136</td>\n",
              "      <td>[u'Malcolm McDowell', u'Patrick Magee', u'Mich...</td>\n",
              "    </tr>\n",
              "    <tr>\n",
              "      <th>187</th>\n",
              "      <td>8.2</td>\n",
              "      <td>Butch Cassidy and the Sundance Kid</td>\n",
              "      <td>NaN</td>\n",
              "      <td>Biography</td>\n",
              "      <td>110</td>\n",
              "      <td>[u'Paul Newman', u'Robert Redford', u'Katharin...</td>\n",
              "    </tr>\n",
              "    <tr>\n",
              "      <th>936</th>\n",
              "      <td>7.4</td>\n",
              "      <td>True Grit</td>\n",
              "      <td>NaN</td>\n",
              "      <td>Adventure</td>\n",
              "      <td>128</td>\n",
              "      <td>[u'John Wayne', u'Kim Darby', u'Glen Campbell']</td>\n",
              "    </tr>\n",
              "    <tr>\n",
              "      <th>649</th>\n",
              "      <td>7.7</td>\n",
              "      <td>Where Eagles Dare</td>\n",
              "      <td>NaN</td>\n",
              "      <td>Action</td>\n",
              "      <td>158</td>\n",
              "      <td>[u'Richard Burton', u'Clint Eastwood', u'Mary ...</td>\n",
              "    </tr>\n",
              "  </tbody>\n",
              "</table>\n",
              "<p>979 rows × 6 columns</p>\n",
              "</div>"
            ],
            "text/plain": [
              "     star_rating  ...                                        actors_list\n",
              "713          7.6  ...  [u'Phil Harris', u'Sebastian Cabot', u'Louis P...\n",
              "513          7.8  ...  [u'Kevin McCarthy', u'Dana Wynter', u'Larry Ga...\n",
              "272          8.1  ...  [u'Sterling Hayden', u'Coleen Gray', u'Vince E...\n",
              "703          7.6  ...  [u'Bela Lugosi', u'Helen Chandler', u'David Ma...\n",
              "612          7.7  ...  [u'John Lennon', u'Paul McCartney', u'George H...\n",
              "..           ...  ...                                                ...\n",
              "387          8.0  ...  [u'Dustin Hoffman', u'Jon Voight', u'Sylvia Mi...\n",
              "86           8.4  ...  [u'Malcolm McDowell', u'Patrick Magee', u'Mich...\n",
              "187          8.2  ...  [u'Paul Newman', u'Robert Redford', u'Katharin...\n",
              "936          7.4  ...    [u'John Wayne', u'Kim Darby', u'Glen Campbell']\n",
              "649          7.7  ...  [u'Richard Burton', u'Clint Eastwood', u'Mary ...\n",
              "\n",
              "[979 rows x 6 columns]"
            ]
          },
          "metadata": {
            "tags": []
          },
          "execution_count": 14
        }
      ]
    },
    {
      "cell_type": "code",
      "metadata": {
        "id": "WSRJH83th4rR",
        "colab_type": "code",
        "colab": {}
      },
      "source": [
        ""
      ],
      "execution_count": null,
      "outputs": []
    }
  ]
}